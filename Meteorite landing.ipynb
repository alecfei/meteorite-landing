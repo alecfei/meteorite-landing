{
 "cells": [
  {
   "cell_type": "markdown",
   "id": "6e6f228e",
   "metadata": {},
   "source": [
    "## Collect Data"
   ]
  },
  {
   "cell_type": "code",
   "execution_count": 1,
   "id": "48f93210",
   "metadata": {
    "ExecuteTime": {
     "end_time": "2024-06-06T09:39:53.287925Z",
     "start_time": "2024-06-06T09:39:52.241263Z"
    }
   },
   "outputs": [],
   "source": [
    "import requests\n",
    "import json"
   ]
  },
  {
   "cell_type": "code",
   "execution_count": 2,
   "id": "2ba3cfcb",
   "metadata": {
    "ExecuteTime": {
     "end_time": "2024-06-04T11:24:21.317239Z",
     "start_time": "2024-06-04T11:23:29.559609Z"
    }
   },
   "outputs": [
    {
     "name": "stdout",
     "output_type": "stream",
     "text": [
      "Requirement already satisfied: sodapy in c:\\users\\aaa\\anaconda3\\lib\\site-packages (2.2.0)\n",
      "Requirement already satisfied: requests>=2.28.1 in c:\\users\\aaa\\anaconda3\\lib\\site-packages (from sodapy) (2.28.1)\n",
      "Requirement already satisfied: idna<4,>=2.5 in c:\\users\\aaa\\anaconda3\\lib\\site-packages (from requests>=2.28.1->sodapy) (2.10)\n",
      "Requirement already satisfied: urllib3<1.27,>=1.21.1 in c:\\users\\aaa\\anaconda3\\lib\\site-packages (from requests>=2.28.1->sodapy) (1.26.9)\n",
      "Requirement already satisfied: certifi>=2017.4.17 in c:\\users\\aaa\\anaconda3\\lib\\site-packages (from requests>=2.28.1->sodapy) (2021.10.8)\n",
      "Requirement already satisfied: charset-normalizer<3,>=2 in c:\\users\\aaa\\anaconda3\\lib\\site-packages (from requests>=2.28.1->sodapy) (2.0.4)\n"
     ]
    }
   ],
   "source": [
<<<<<<< HEAD
    "#!pip3 install sodapy"
=======
    "!pip3 install sodapy"
>>>>>>> 6e69bd67c4ddc21ca4c43af7d09e25172455c1b9
   ]
  },
  {
   "cell_type": "code",
   "execution_count": 2,
   "id": "5116d52a",
   "metadata": {
    "ExecuteTime": {
     "end_time": "2024-06-05T11:01:38.016964Z",
     "start_time": "2024-06-05T11:01:32.875539Z"
    }
   },
   "outputs": [],
   "source": [
    "import os\n",
    "import pandas as pd\n",
    "from sodapy import Socrata"
   ]
  },
  {
   "cell_type": "markdown",
   "id": "ce11aa4c",
   "metadata": {},
   "source": [
    "- https://data.nasa.gov/resource/gh4g-9sfh.json\n",
    "- https://support.socrata.com/hc/en-us/articles/115005364207-Access-Data-Insights-Data-using-OData"
   ]
  },
  {
   "cell_type": "code",
   "execution_count": 3,
   "id": "1a302d2e",
   "metadata": {
    "ExecuteTime": {
     "end_time": "2024-06-05T11:01:38.112933Z",
     "start_time": "2024-06-05T11:01:38.034959Z"
    }
   },
   "outputs": [],
   "source": [
    "socrata_domain = 'data.nasa.gov'\n",
    "socrata_dataset_identifier = 'gh4g-9sfh'\n",
    "\n",
    "#nasa_api = 'heIZjeBh2lcVfKe61TDOpQMywl1PHmiCzvPtGumF'\n",
    "#socrata_token = os.environ.get(nasa_api)"
   ]
  },
  {
   "cell_type": "code",
   "execution_count": 4,
   "id": "1ed9f3f3",
   "metadata": {
    "ExecuteTime": {
     "end_time": "2024-06-05T11:01:51.882543Z",
     "start_time": "2024-06-05T11:01:51.815565Z"
    }
   },
   "outputs": [
    {
     "name": "stderr",
     "output_type": "stream",
     "text": [
      "WARNING:root:Requests made without an app_token will be subject to strict throttling limits.\n"
     ]
    },
    {
     "name": "stdout",
     "output_type": "stream",
     "text": [
      "Domain: data.nasa.gov\n",
<<<<<<< HEAD
      "Session: <requests.sessions.Session object at 0x000001DDC0E41E80>\n",
=======
      "Session: <requests.sessions.Session object at 0x7470c861b590>\n",
>>>>>>> 6e69bd67c4ddc21ca4c43af7d09e25172455c1b9
      "URI Prefix: https://\n"
     ]
    }
   ],
   "source": [
    "client = Socrata(socrata_domain, None)\n",
    "print(\"Domain: {domain:}\\nSession: {session:}\\nURI Prefix: {uri_prefix:}\".format(**client.__dict__))"
   ]
  },
  {
   "cell_type": "code",
   "execution_count": 5,
   "id": "f773f3b3",
   "metadata": {
    "ExecuteTime": {
     "end_time": "2024-06-05T11:02:02.443173Z",
     "start_time": "2024-06-05T11:01:54.188805Z"
    }
   },
   "outputs": [
    {
     "data": {
      "text/html": [
       "<div>\n",
       "<style scoped>\n",
       "    .dataframe tbody tr th:only-of-type {\n",
       "        vertical-align: middle;\n",
       "    }\n",
       "\n",
       "    .dataframe tbody tr th {\n",
       "        vertical-align: top;\n",
       "    }\n",
       "\n",
       "    .dataframe thead th {\n",
       "        text-align: right;\n",
       "    }\n",
       "</style>\n",
       "<table border=\"1\" class=\"dataframe\">\n",
       "  <thead>\n",
       "    <tr style=\"text-align: right;\">\n",
       "      <th></th>\n",
       "      <th>name</th>\n",
       "      <th>id</th>\n",
       "      <th>nametype</th>\n",
       "      <th>recclass</th>\n",
       "      <th>mass</th>\n",
       "      <th>fall</th>\n",
       "      <th>year</th>\n",
       "      <th>reclat</th>\n",
       "      <th>reclong</th>\n",
       "      <th>geolocation</th>\n",
       "      <th>:@computed_region_cbhk_fwbd</th>\n",
       "      <th>:@computed_region_nnqa_25f4</th>\n",
       "    </tr>\n",
       "  </thead>\n",
       "  <tbody>\n",
       "    <tr>\n",
       "      <th>0</th>\n",
       "      <td>Aachen</td>\n",
       "      <td>1</td>\n",
       "      <td>Valid</td>\n",
       "      <td>L5</td>\n",
       "      <td>21</td>\n",
       "      <td>Fell</td>\n",
       "      <td>1880-01-01T00:00:00.000</td>\n",
       "      <td>50.775000</td>\n",
       "      <td>6.083330</td>\n",
       "      <td>{'latitude': '50.775', 'longitude': '6.08333'}</td>\n",
       "      <td>NaN</td>\n",
       "      <td>NaN</td>\n",
       "    </tr>\n",
       "    <tr>\n",
       "      <th>1</th>\n",
       "      <td>Aarhus</td>\n",
       "      <td>2</td>\n",
       "      <td>Valid</td>\n",
       "      <td>H6</td>\n",
       "      <td>720</td>\n",
       "      <td>Fell</td>\n",
       "      <td>1951-01-01T00:00:00.000</td>\n",
       "      <td>56.183330</td>\n",
       "      <td>10.233330</td>\n",
       "      <td>{'latitude': '56.18333', 'longitude': '10.23333'}</td>\n",
       "      <td>NaN</td>\n",
       "      <td>NaN</td>\n",
       "    </tr>\n",
       "    <tr>\n",
       "      <th>2</th>\n",
       "      <td>Abee</td>\n",
       "      <td>6</td>\n",
       "      <td>Valid</td>\n",
       "      <td>EH4</td>\n",
       "      <td>107000</td>\n",
       "      <td>Fell</td>\n",
       "      <td>1952-01-01T00:00:00.000</td>\n",
       "      <td>54.216670</td>\n",
       "      <td>-113.000000</td>\n",
       "      <td>{'latitude': '54.21667', 'longitude': '-113.0'}</td>\n",
       "      <td>NaN</td>\n",
       "      <td>NaN</td>\n",
       "    </tr>\n",
       "    <tr>\n",
       "      <th>3</th>\n",
       "      <td>Acapulco</td>\n",
       "      <td>10</td>\n",
       "      <td>Valid</td>\n",
       "      <td>Acapulcoite</td>\n",
       "      <td>1914</td>\n",
       "      <td>Fell</td>\n",
       "      <td>1976-01-01T00:00:00.000</td>\n",
       "      <td>16.883330</td>\n",
       "      <td>-99.900000</td>\n",
       "      <td>{'latitude': '16.88333', 'longitude': '-99.9'}</td>\n",
       "      <td>NaN</td>\n",
       "      <td>NaN</td>\n",
       "    </tr>\n",
       "    <tr>\n",
       "      <th>4</th>\n",
       "      <td>Achiras</td>\n",
       "      <td>370</td>\n",
       "      <td>Valid</td>\n",
       "      <td>L6</td>\n",
       "      <td>780</td>\n",
       "      <td>Fell</td>\n",
       "      <td>1902-01-01T00:00:00.000</td>\n",
       "      <td>-33.166670</td>\n",
       "      <td>-64.950000</td>\n",
       "      <td>{'latitude': '-33.16667', 'longitude': '-64.95'}</td>\n",
       "      <td>NaN</td>\n",
       "      <td>NaN</td>\n",
       "    </tr>\n",
       "  </tbody>\n",
       "</table>\n",
       "</div>"
      ],
      "text/plain": [
       "       name   id nametype     recclass    mass  fall                     year  \\\n",
       "0    Aachen    1    Valid           L5      21  Fell  1880-01-01T00:00:00.000   \n",
       "1    Aarhus    2    Valid           H6     720  Fell  1951-01-01T00:00:00.000   \n",
       "2      Abee    6    Valid          EH4  107000  Fell  1952-01-01T00:00:00.000   \n",
       "3  Acapulco   10    Valid  Acapulcoite    1914  Fell  1976-01-01T00:00:00.000   \n",
       "4   Achiras  370    Valid           L6     780  Fell  1902-01-01T00:00:00.000   \n",
       "\n",
       "       reclat      reclong                                        geolocation  \\\n",
       "0   50.775000     6.083330     {'latitude': '50.775', 'longitude': '6.08333'}   \n",
       "1   56.183330    10.233330  {'latitude': '56.18333', 'longitude': '10.23333'}   \n",
       "2   54.216670  -113.000000    {'latitude': '54.21667', 'longitude': '-113.0'}   \n",
       "3   16.883330   -99.900000     {'latitude': '16.88333', 'longitude': '-99.9'}   \n",
       "4  -33.166670   -64.950000   {'latitude': '-33.16667', 'longitude': '-64.95'}   \n",
       "\n",
       "  :@computed_region_cbhk_fwbd :@computed_region_nnqa_25f4  \n",
       "0                         NaN                         NaN  \n",
       "1                         NaN                         NaN  \n",
       "2                         NaN                         NaN  \n",
       "3                         NaN                         NaN  \n",
       "4                         NaN                         NaN  "
      ]
     },
     "execution_count": 5,
     "metadata": {},
     "output_type": "execute_result"
    }
   ],
   "source": [
    "results = client.get(socrata_dataset_identifier, limit = 50000)\n",
    "df = pd.DataFrame.from_dict(results)\n",
    "df.head()"
   ]
  },
  {
   "cell_type": "code",
   "execution_count": 6,
   "id": "4c4793ddd6d6a010",
   "metadata": {
    "ExecuteTime": {
     "end_time": "2024-06-05T11:02:10.899474Z",
     "start_time": "2024-06-05T11:02:10.858488Z"
    }
   },
   "outputs": [
    {
     "data": {
      "text/plain": [
       "list"
      ]
     },
     "execution_count": 6,
     "metadata": {},
     "output_type": "execute_result"
    }
   ],
   "source": [
    "type(results)"
   ]
  },
  {
   "cell_type": "code",
<<<<<<< HEAD
   "execution_count": null,
=======
   "execution_count": 29,
>>>>>>> 6e69bd67c4ddc21ca4c43af7d09e25172455c1b9
   "id": "509d877e8a32c5e5",
   "metadata": {
    "ExecuteTime": {
     "end_time": "2024-06-04T12:37:12.656881Z",
     "start_time": "2024-06-04T12:37:11.128372Z"
    }
   },
   "outputs": [],
   "source": [
    "grouped = df.groupby(':@computed_region_cbhk_fwbd').sum()"
   ]
  },
  {
   "cell_type": "code",
<<<<<<< HEAD
   "execution_count": null,
=======
   "execution_count": 30,
>>>>>>> 6e69bd67c4ddc21ca4c43af7d09e25172455c1b9
   "id": "ee72ef711fa69ce",
   "metadata": {
    "ExecuteTime": {
     "end_time": "2024-06-04T12:37:35.135689Z",
     "start_time": "2024-06-04T12:37:34.510889Z"
    }
   },
<<<<<<< HEAD
   "outputs": [],
=======
   "outputs": [
    {
     "name": "stdout",
     "output_type": "stream",
     "text": [
      "                                                                          name  \\\n",
      ":@computed_region_cbhk_fwbd                                                      \n",
      "1                            FisherAnokaArlingtonDraytonEuclidHardwickTurtl...   \n",
      "10                           Battle MountainAlkaliAntelopeBeer Bottle PassB...   \n",
      "11                           AztecMalagaPasamontePortales ValleyAbbottAcmeA...   \n",
      "12                           SalemWashougalFitzwater PassKlamath FallsMorro...   \n",
      "13                           GarlandAltonahArchesBeaver-HarrisonCanyonlands...   \n",
      "14                           TorringtonAlbin (pallasite)Albin (stone)Bear L...   \n",
      "15                           Cabin CreekFayettevilleMiller (Arkansas)Norfor...   \n",
      "16                           EsthervilleForest CityHomesteadMarion (Iowa)Al...   \n",
      "17                           BeardsleyFarmingtonHoxieModoc (1905)Norton Cou...   \n",
      "18                           ArchieBaxterCape GirardeauIndependenceLittle P...   \n",
      "19                           EagleMariavilleSioux CountyAinsworthAmherstArc...   \n",
      "2                            HarlowtonIllinois GulchLivingston (Montana)Lom...   \n",
      "20                           AtokaBlackwellCrescentLeedeyLost CityWaltersAm...   \n",
      "21                           BathCentervilleBateslandBennett CountyCavourCr...   \n",
      "22                                         New OrleansAtlantaGreenwell Springs   \n",
      "23                           Ash CreekBellsBlanketFlorenceHarletonKendleton...   \n",
      "24                           StratfordWestonWethersfield (1971)Wethersfield...   \n",
      "25                                                                 Northampton   \n",
      "29                           AthensDanvilleFelixFrankfort (stone)LeightonSy...   \n",
      "3                            RichardtonBowesmontBowesmont (b)FredaGlasstonJ...   \n",
      "30                                 OrlandoBonita SpringsEustisGraytonOkechobee   \n",
      "31                           ClaxtonForsythLumpkinPittsCantonCedartownCleve...   \n",
      "32                                    BaldwynPalahatchieOktibbeha CountyTupelo   \n",
      "33                           BishopvilleCherokee SpringsChestervilleLaurens...   \n",
      "34                           BenldBloomingtonPark ForestTildenElizabethHava...   \n",
      "35                           HamletHarrison CountyNoblesvilleRochesterHangm...   \n",
      "36                           Bath FurnaceBurnwellCumberland FallsCynthianaL...   \n",
      "37                           Bald MountainCastaliaCaswell CountyCross Roads...   \n",
      "38                           New ConcordPricetownCincinnatiDaytonEnonFairfi...   \n",
      "39                           CharlotteDrake CreekMaryvillePetersburgBabb's ...   \n",
      "4                                                        HonoluluPalolo Valley   \n",
      "40                           ForksvilleLortonRichmondSharpsAugusta CountyBo...   \n",
      "41                           Colby (Wisconsin)KilbournMifflinTurtle LakeVer...   \n",
      "42                              Greenbrier CountyJenny's CreekLandesLonaconing   \n",
      "45                                         NanjemoySt. Mary's CountyEmmitsburg   \n",
      "47                           BethlehemPeekskillSchenectadyYorktown (New Yor...   \n",
      "48                           Black Moshannan ParkBradford WoodsChicoraBald ...   \n",
      "49                              AndoverCastineNobleboroughSearsmontWalnut Hill   \n",
      "5                            Hayden CreekJerome (Idaho)Oakley (iron)Parma C...   \n",
      "50                           AlleganColemanRose CityWordenGrand RapidsIron ...   \n",
      "51                                       Aggie CreekChilkootCold BayHope Creek   \n",
      "6                                          AlbionColtonTacomaWatervilleWithrow   \n",
      "7                            HolbrookWhetstone MountainsApache JunctionAriv...   \n",
      "8                            Red Canyon LakeSan Juan CapistranoSutter's Mil...   \n",
      "9                            BerthoudCanon CityDenverElbertJohnstownAdams C...   \n",
      "\n",
      "                                                                            id  \\\n",
      ":@computed_region_cbhk_fwbd                                                      \n",
      "1                                             10107230723337729100631182824085   \n",
      "10                           5613347457455499632765459725079508050815082508...   \n",
      "11                           4913153931811018874537137244955662563912327490...   \n",
      "12                                         23107242185173812330517072311624269   \n",
      "13                           1086122862328498752585472773377371017230666114...   \n",
      "14                           2403245545649835371118531186252755147611882422...   \n",
      "15                           5186100791664516994181012373651986640118541190...   \n",
      "16                                          1005910119119011542422871468315410   \n",
      "17                           4984100741191516711179221804618808369380228123...   \n",
      "18                           2329497752601202814664180792308924215504751825...   \n",
      "19                           7760154192361442222932326497850175069513151325...   \n",
      "2                                               118311202414668146792277124093   \n",
      "20                           4888506854701275514711242102291498551745192527...   \n",
      "21                           4974530749735022530044709100315656510071101091...   \n",
      "22                                                              16960488611195   \n",
      "23                           4895450055071101111183012275123211671918786188...   \n",
      "24                                                        23728242492425024251   \n",
      "25                                                                       17009   \n",
      "29                           4885551410081101771276023773489452845362114451...   \n",
      "3                                  2259951245125101801092812071169551696924275   \n",
      "30                                                    344895104100651117718001   \n",
      "31                           5374101641475318837525453045379550910036118964...   \n",
      "32                                                         4926180731800356551   \n",
      "33                                                 505953405343127411464422779   \n",
      "34                            502150761810623998565661185715415230802403524330   \n",
      "35                           1148511842169852263711816123401240112412188502...   \n",
      "36                           4975517554965500147161688252455286537377617771...   \n",
      "37                           4925529152965476100751008816720167362259746423...   \n",
      "38                           1695318888536666201003710069108421235016961188...   \n",
      "39                           5328772815436188014915491652825381543154385450...   \n",
      "4                                                                   1190418082   \n",
      "40                           1012352843226032352548975116514354627747119071...   \n",
      "41                           5395123085209047343241684702300500811813167831...   \n",
      "42                                                        11194120811245714680   \n",
      "45                                                             169042309110034   \n",
      "47                           5032187822345830370517252031273516782234982367...   \n",
      "48                                        506551285349492416779169521883823581   \n",
      "49                                                     22955293169842347224209   \n",
      "5                                               118641208217972181075173724267   \n",
      "50                                 2276540122766243371095512048122342255223499   \n",
      "51                                                            3935351539611906   \n",
      "6                                                       4575410237772421924320   \n",
      "7                            1189449514545664734623485639349205076530445528...   \n",
      "8                            5350223128555295115515552565091244706520135361...   \n",
      "9                            4735552536660782212198375430431450231523232336...   \n",
      "\n",
      "                                                                      nametype  \\\n",
      ":@computed_region_cbhk_fwbd                                                      \n",
      "1                                          ValidValidValidValidValidValidValid   \n",
      "10                           ValidValidValidValidValidValidValidValidValidV...   \n",
      "11                           ValidValidValidValidValidValidValidValidValidV...   \n",
      "12                                         ValidValidValidValidValidValidValid   \n",
      "13                           ValidValidValidValidValidValidValidValidValidV...   \n",
      "14                           ValidValidValidValidValidValidValidValidValidV...   \n",
      "15                           ValidValidValidValidValidValidValidValidValidV...   \n",
      "16                                         ValidValidValidValidValidValidValid   \n",
      "17                           ValidValidValidValidValidValidValidValidValidV...   \n",
      "18                           ValidValidValidValidValidValidValidValidValidV...   \n",
      "19                           ValidValidValidValidValidValidValidValidValidV...   \n",
      "2                                               ValidValidValidValidValidValid   \n",
      "20                           ValidValidValidValidValidValidValidValidValidV...   \n",
      "21                           ValidValidValidValidValidValidValidValidValidV...   \n",
      "22                                                             ValidValidValid   \n",
      "23                           ValidValidValidValidValidValidValidValidValidV...   \n",
      "24                                                        ValidValidValidValid   \n",
      "25                                                                       Valid   \n",
      "29                           ValidValidValidValidValidValidValidValidValidV...   \n",
      "3                                ValidValidValidValidValidValidValidValidValid   \n",
      "30                                                   ValidValidValidValidValid   \n",
      "31                           ValidValidValidValidValidValidValidValidValidV...   \n",
      "32                                                        ValidValidValidValid   \n",
      "33                                              ValidValidValidValidValidValid   \n",
      "34                           ValidValidValidValidValidValidValidValidValidV...   \n",
      "35                           ValidValidValidValidValidValidValidValidValidV...   \n",
      "36                           ValidValidValidValidValidValidValidValidValidV...   \n",
      "37                           ValidValidValidValidValidValidValidValidValidV...   \n",
      "38                           ValidValidValidValidValidValidValidValidValidV...   \n",
      "39                           ValidValidValidValidValidValidValidValidValidV...   \n",
      "4                                                                   ValidValid   \n",
      "40                           ValidValidValidValidValidValidValidValidValidV...   \n",
      "41                           ValidValidValidValidValidValidValidValidValidV...   \n",
      "42                                                        ValidValidValidValid   \n",
      "45                                                             ValidValidValid   \n",
      "47                           ValidValidValidValidValidValidValidValidValidV...   \n",
      "48                                    ValidValidValidValidValidValidValidValid   \n",
      "49                                                   ValidValidValidValidValid   \n",
      "5                                               ValidValidValidValidValidValid   \n",
      "50                               ValidValidValidValidValidValidValidValidValid   \n",
      "51                                                        ValidValidValidValid   \n",
      "6                                                    ValidValidValidValidValid   \n",
      "7                            ValidValidValidValidValidValidValidValidValidV...   \n",
      "8                            ValidValidValidValidValidValidValidValidValidV...   \n",
      "9                            ValidValidValidValidValidValidValidValidValidV...   \n",
      "\n",
      "                                                                      recclass  \\\n",
      ":@computed_region_cbhk_fwbd                                                      \n",
      "1                               L6Iron, IAB-sLMIron, IIE-anH4/5H5L4Iron, IIIAB   \n",
      "10                           L6H6H4L5L6R3-6Eucrite-mmictH5L6L5L5L6L4H5H6H5H...   \n",
      "11                           L6OCEucrite-pmictH6H3-6H5Pallasite, PMGH5L5L6C...   \n",
      "12                           L6HowarditeIron, IIIFIron, IIIFL6Iron, IIIABIr...   \n",
      "13                           Diogenite-pmIron, IVAL5L6H6H6Iron, IIIABIron, ...   \n",
      "14                           H6Pallasite, PMGLIron, IIIABL6H4H5L6IronHL6Iro...   \n",
      "15                           Iron, IIIABH4H5Iron, IIIABLL5L6Iron, IIABL4Iro...   \n",
      "16                               Mesosiderite-A3/4H5L5L6Iron, IVAH4Iron, IIIAB   \n",
      "17                           H5L5OCL6AubriteLL6L6H5Pallasite, PMGL5L6H5Pall...   \n",
      "18                           H6L6H6L6L5L3H4CO3.7Iron, IIIABIron, ungroupedP...   \n",
      "19                           EL6IronEucrite-mmictIron, IIABL6LL6L5Iron, III...   \n",
      "2                            Iron, IAB-ungIron, ungroupedIron, IIIABIron, I...   \n",
      "20                           L6L5CM2L6H5L6L6L5L6Iron, IAB-ungL6H4H4CO3.0H5H...   \n",
      "21                           H4H5H5Iron, IIABH6Iron, IIABMesosiderite-A3Iro...   \n",
      "22                                                                    H5EL6LL4   \n",
      "23                           L6C2-ungL6H3L6L4Eucrite-mmictH5AubriteH6OCL6L6...   \n",
      "24                                                                    L6H4L6L6   \n",
      "25                                                                        Iron   \n",
      "29                           LL6L6CO3.3HowarditeH5H4Iron, IIGIron, IIABIron...   \n",
      "3                            H5L6L5Iron, IAB-sLHL5Iron, IVAIron, IAB-MGIron...   \n",
      "30                                                             EucriteH5H4H5L4   \n",
      "31                           L6L6L6Iron, IAB-ungIron, IIIABIron, IIABIron, ...   \n",
      "32                                                        L6OCIron, IAB-ungEL6   \n",
      "33                           AubriteLL6Iron, IIABIron, ungroupedIron, IAB-M...   \n",
      "34                           H6LL6L5L6Iron, IAB-ungIron, IAB complexL6Iron,...   \n",
      "35                           LL4L6H4-6H6H4Iron, IVBIron, IIIABMartian (nakh...   \n",
      "36                           L6H4-anAubriteL/LL4L6CM2Iron, IIIABIron, IAB-M...   \n",
      "37                           L4H5OCH5H4OCH4Eucrite-cmL6Iron, IAB complexIro...   \n",
      "38                           L6L6Iron, IIABIron, IAB-sLHIron, ungroupedIron...   \n",
      "39                           Iron, IVAL6L6Eucrite-pmictIron, ungroupedIron,...   \n",
      "4                                                                         L5H5   \n",
      "40                           L6L6LL5H3.4Iron, IIIABIronIron, IVAIron, IVAIr...   \n",
      "41                           L6H5L5L5H6Iron, IAB-sHLIron, IIIABH6Iron, ungr...   \n",
      "42                            Iron, IIIABIron, IAB-MGIron, IAB-MGIron, IAB-sHL   \n",
      "45                                                         H6LL3.3Iron, IIIAB?   \n",
      "47                           HH6H5L5Iron, IIIEIron, ungroupedIronHIron, III...   \n",
      "48                           L5LLL6Iron, IIIABIron, IIABIron, ungroupedIron...   \n",
      "49                                                       L6L6Eucrite-pmictH5OC   \n",
      "5                                       Iron, IIIABLIron, IIIFIronIron, IIABH5   \n",
      "50                           H5L6H5L5Iron, ungroupedIron, IVAIron, IIIABIro...   \n",
      "51                                     Iron, IIIABIron, IIIABPallasite, PESLL6   \n",
      "6                            Iron, IVAIron, IIIABIron, IAB complexIron, IAB...   \n",
      "7                            L/LL6H5Iron, IIIABEucrite-mmictIron, IAB-MGH6I...   \n",
      "8                            H5H6CL6L6Iron, IIIABCO3L5UreiliteIron, IAB-MGH...   \n",
      "9                            Eucrite-mmictH6L6LL6DiogeniteH5H6L6L6L6L5L5L5L...   \n",
      "\n",
      "                                                                          mass  \\\n",
      ":@computed_region_cbhk_fwbd                                                      \n",
      "1                                               176001108894023502500780022390   \n",
      "10                           290030.477548.9152706.123951137200355324451.78...   \n",
      "11                           2830150510071400211007500039561360028347.36985...   \n",
      "12                             61.422565.4000000000000061700018200692015500000   \n",
      "13                           10221500534925152010.6529000227002500045680031...   \n",
      "14                           259.100000000000023760015400485001050890036789...   \n",
      "15                           4850023601670010504080003500727583462168004260...   \n",
      "16                                      32000015200023000028400175002067649000   \n",
      "17                           1600089400266.10000000000002350001100000840579...   \n",
      "18                           5070611230088049113510001600245004100017000566...   \n",
      "19                           1000034041008065085001940075000163806713830075...   \n",
      "2                                                   40002500160070001759021400   \n",
      "20                           1384.2238178.400000000000006515001700028100453...   \n",
      "21                           2100045.62500890002621063201670044510500021360...   \n",
      "22                                                                192565500664   \n",
      "23                           9500375510036408360693797.72587700002085190010...   \n",
      "24                                                             501500003502756   \n",
      "25                                                                         353   \n",
      "29                           2652000320065087755603630940001622034500140000...   \n",
      "3                                         900002270130026819904000200001157645   \n",
      "30                                                        18041800502113001000   \n",
      "31                           1455163003403760703011300115000530009412200292...   \n",
      "32                                                                   345156280   \n",
      "33                                                  60008400165002150476053070   \n",
      "34                                   1770.567.8180007480073268220001214.548200   \n",
      "35                              3710680483.73401300180014540800140004300502500   \n",
      "36                           8600015041700060001300126001540072311300360001...   \n",
      "37                           3700730013601675600022086001880668192800800136...   \n",
      "38                           23000090015002630076316001201590048004310226.5...   \n",
      "39                           4300500014431800136000640012700077002300168009...   \n",
      "4                                                                      2420682   \n",
      "40                           6067329.71800126576000500200009013000180014100...   \n",
      "41                           104000772358489.315004100148002530024000676144...   \n",
      "42                                                          500012000698001400   \n",
      "45                                                                 750024.3450   \n",
      "47                            13.912570283.32506800016300639.512.5400060001500   \n",
      "48                                            70576230332003840002000060012000   \n",
      "49                                                           32009423005400220   \n",
      "5                                                     270680011100021504126600   \n",
      "50                                    3200046910600155151700142093992000011500   \n",
      "51                                                           43000430003209830   \n",
      "6                                                      122801967016.7371258732   \n",
      "7                            2200002138.73999999999982500030.127000560.7999...   \n",
      "8                            18.4156992.521268300086002860266991802338106.7...   \n",
      "9                            9601400230680.54030057001050400018006.11908392...   \n",
      "\n",
      "                                                                          fall  \\\n",
      ":@computed_region_cbhk_fwbd                                                      \n",
      "1                                           FellFoundFoundFoundFoundFoundFound   \n",
      "10                           FellFoundFoundFoundFoundFoundFoundFoundFoundFo...   \n",
      "11                           FellFellFellFellFoundFoundFoundFoundFoundFound...   \n",
      "12                                           FellFellFoundFoundFoundFoundFound   \n",
      "13                           FellFoundFoundFoundFoundFoundFoundFoundFoundFo...   \n",
      "14                           FellFoundFoundFoundFoundFoundFoundFoundFoundFo...   \n",
      "15                           FellFellFellFellFellFellFoundFoundFoundFoundFo...   \n",
      "16                                             FellFellFellFellFoundFoundFound   \n",
      "17                           FellFellFellFellFellFellFellFoundFoundFoundFou...   \n",
      "18                           FellFellFellFellFellFellFellFellFoundFoundFoun...   \n",
      "19                           FellFellFellFoundFoundFoundFoundFoundFoundFoun...   \n",
      "2                                               FoundFoundFoundFoundFoundFound   \n",
      "20                           FellFellFellFellFellFellFoundFoundFoundFoundFo...   \n",
      "21                           FellFellFoundFoundFoundFoundFoundFoundFoundFou...   \n",
      "22                                                              FellFoundFound   \n",
      "23                           FellFellFellFellFellFellFellFellFellFellFellFe...   \n",
      "24                                                            FellFellFellFell   \n",
      "25                                                                       Found   \n",
      "29                           FellFellFellFellFellFellFoundFoundFoundFoundFo...   \n",
      "3                                 FellFoundFoundFoundFoundFoundFoundFoundFound   \n",
      "30                                                    FellFoundFoundFoundFound   \n",
      "31                           FellFellFellFellFoundFoundFoundFoundFoundFound...   \n",
      "32                                                          FellFellFoundFound   \n",
      "33                                                FellFellFoundFoundFoundFound   \n",
      "34                              FellFellFellFellFoundFoundFoundFoundFoundFound   \n",
      "35                           FellFellFellFellFoundFoundFoundFoundFoundFound...   \n",
      "36                           FellFellFellFellFellFellFoundFoundFoundFoundFo...   \n",
      "37                           FellFellFellFellFellFellFellFellFellFoundFound...   \n",
      "38                           FellFellFoundFoundFoundFoundFoundFoundFoundFou...   \n",
      "39                           FellFellFellFellFoundFoundFoundFoundFoundFound...   \n",
      "4                                                                     FellFell   \n",
      "40                           FellFellFellFellFoundFoundFoundFoundFoundFound...   \n",
      "41                           FellFellFellFellFellFoundFoundFoundFoundFoundF...   \n",
      "42                                                        FoundFoundFoundFound   \n",
      "45                                                               FellFellFound   \n",
      "47                           FellFellFellFellFoundFoundFoundFoundFoundFound...   \n",
      "48                                       FellFellFellFoundFoundFoundFoundFound   \n",
      "49                                                       FellFellFellFellFound   \n",
      "5                                               FoundFoundFoundFoundFoundFound   \n",
      "50                                   FellFellFellFellFoundFoundFoundFoundFound   \n",
      "51                                                        FoundFoundFoundFound   \n",
      "6                                                    FoundFoundFoundFoundFound   \n",
      "7                            FellFellFoundFoundFoundFoundFoundFoundFoundFou...   \n",
      "8                            FellFellFellFoundFoundFoundFoundFoundFoundFoun...   \n",
      "9                            FellFellFellFellFellFoundFoundFoundFoundFoundF...   \n",
      "\n",
      "                                                                          year  \\\n",
      ":@computed_region_cbhk_fwbd                                                      \n",
      "1                            1894-01-01T00:00:00.0001961-01-01T00:00:00.000...   \n",
      "10                           2012-01-01T00:00:00.0001998-01-01T00:00:00.000...   \n",
      "11                           1938-01-01T00:00:00.0001933-01-01T00:00:00.000...   \n",
      "12                           1981-01-01T00:00:00.0001939-01-01T00:00:00.000...   \n",
      "13                           1950-01-01T00:00:00.0001932-01-01T00:00:00.000...   \n",
      "14                           1944-01-01T00:00:00.0001915-01-01T00:00:00.000...   \n",
      "15                           1886-01-01T00:00:00.0001934-01-01T00:00:00.000...   \n",
      "16                           1879-01-01T00:00:00.0001890-01-01T00:00:00.000...   \n",
      "17                           1929-01-01T00:00:00.0001890-01-01T00:00:00.000...   \n",
      "18                           1932-01-01T00:00:00.0001916-01-01T00:00:00.000...   \n",
      "19                           1947-01-01T00:00:00.0001898-01-01T00:00:00.000...   \n",
      "2                            1975-01-01T00:00:00.0001899-01-01T00:00:00.000...   \n",
      "20                           1945-01-01T00:00:00.0001906-01-01T00:00:00.000...   \n",
      "21                           1892-01-01T00:00:00.0001956-01-01T00:00:00.000...   \n",
      "22                           2003-01-01T00:00:00.0001938-01-01T00:00:00.000...   \n",
      "23                           2009-01-01T00:00:00.0001961-01-01T00:00:00.000...   \n",
      "24                           1974-01-01T00:00:00.0001807-01-01T00:00:00.000...   \n",
      "25                                                     1963-01-01T00:00:00.000   \n",
      "29                           1933-01-01T00:00:00.0001868-01-01T00:00:00.000...   \n",
      "3                            1918-01-01T00:00:00.0001962-01-01T00:00:00.000...   \n",
      "30                           2004-01-01T00:00:00.0001938-01-01T00:00:00.000...   \n",
      "31                           1984-01-01T00:00:00.0001829-01-01T00:00:00.000...   \n",
      "32                           1922-01-01T00:00:00.0001910-01-01T00:00:00.000...   \n",
      "33                           1843-01-01T00:00:00.0001933-01-01T00:00:00.000...   \n",
      "34                           1938-01-01T00:00:00.0001938-01-01T00:00:00.000...   \n",
      "35                           1959-01-01T00:00:00.0001859-01-01T00:00:00.000...   \n",
      "36                           1902-01-01T00:00:00.0001990-01-01T00:00:00.000...   \n",
      "37                           1929-01-01T00:00:00.0001874-01-01T00:00:00.000...   \n",
      "38                           1860-01-01T00:00:00.0001893-01-01T00:00:00.000...   \n",
      "39                           1835-01-01T00:00:00.0001827-01-01T00:00:00.000...   \n",
      "4                               1825-01-01T00:00:00.0001949-01-01T00:00:00.000   \n",
      "40                           1924-01-01T00:00:00.0002010-01-01T00:00:00.000...   \n",
      "41                           1917-01-01T00:00:00.0001911-01-01T00:00:00.000...   \n",
      "42                           1880-01-01T00:00:00.0001883-01-01T00:00:00.000...   \n",
      "45                           1825-01-01T00:00:00.0001919-01-01T00:00:00.000...   \n",
      "47                           1859-01-01T00:00:00.0001992-01-01T00:00:00.000...   \n",
      "48                           1941-01-01T00:00:00.0001886-01-01T00:00:00.000...   \n",
      "49                           1898-01-01T00:00:00.0001848-01-01T00:00:00.000...   \n",
      "5                            1895-01-01T00:00:00.0001954-01-01T00:00:00.000...   \n",
      "50                           1899-01-01T00:00:00.0001994-01-01T00:00:00.000...   \n",
      "51                           1942-01-01T00:00:00.0001881-01-01T00:00:00.000...   \n",
      "6                            1966-01-01T00:00:00.0001993-01-01T00:00:00.000...   \n",
      "7                            1912-01-01T00:00:00.0002009-01-01T00:00:00.000...   \n",
      "8                            2007-01-01T00:00:00.0001973-01-01T00:00:00.000...   \n",
      "9                            2004-01-01T00:00:00.0001973-01-01T00:00:00.000...   \n",
      "\n",
      "                                                                        reclat  \\\n",
      ":@computed_region_cbhk_fwbd                                                      \n",
      "1                            47.81667045.20000044.60000048.66667047.9583304...   \n",
      "10                           40.66813037.86667040.90183035.66117040.8671703...   \n",
      "11                           36.80000032.21667036.21667034.17500036.3000003...   \n",
      "12                           44.97917045.58333042.03839042.16667045.5000004...   \n",
      "13                           41.68333040.56667038.68867038.48417038.1833303...   \n",
      "14                           42.06667041.50000041.41667044.50000043.7000004...   \n",
      "15                           35.50000036.05000035.40000036.21667036.0666703...   \n",
      "16                           43.41667043.25000041.80000041.90000043.3222204...   \n",
      "17                           39.80000039.75000039.35000038.50000039.6833303...   \n",
      "18                           38.50000036.75000037.26667039.08333037.9166703...   \n",
      "19                           40.78167042.71667042.58333042.60000040.8000004...   \n",
      "2                            46.43333046.68333045.60000046.10000046.7833304...   \n",
      "20                           34.31667036.83333035.95000035.88333036.0083303...   \n",
      "21                           45.41667043.20000043.13333043.50000044.2214944...   \n",
      "22                                                 29.94718031.80000030.515280   \n",
      "23                           31.80500033.60000031.83333030.83333032.6750002...   \n",
      "24                                        41.20000041.26666741.70000041.710560   \n",
      "25                                                                   42.316670   \n",
      "29                           34.75000034.40000032.53333034.48333034.5833303...   \n",
      "3                            46.88333048.68333048.78333046.38333048.7166704...   \n",
      "30                               28.54750026.26667028.83333030.31167026.683330   \n",
      "31                           32.10250033.01667032.03333031.95000034.2000003...   \n",
      "32                                        34.50000032.31667033.50000034.242160   \n",
      "33                           34.16667035.03333034.70000034.50000034.0000003...   \n",
      "34                           39.08333040.48000041.48472038.20000042.3180004...   \n",
      "35                           41.38333038.25000040.08528041.08333038.9197204...   \n",
      "36                           38.25000037.62194036.83333038.40000038.2500003...   \n",
      "37                           35.96667036.08333036.50000035.63333035.5500003...   \n",
      "38                           40.00000039.11667039.11667039.75000039.8666703...   \n",
      "39                           36.16667036.40000035.80000035.30000036.3000003...   \n",
      "4                                                           21.30000021.300000   \n",
      "40                           36.78333038.70066037.46667037.83333038.1666703...   \n",
      "41                           44.90000043.58333042.90750045.34583043.5000004...   \n",
      "42                                        37.83333037.90000038.90000039.416670   \n",
      "45                                                 38.41667038.16667039.716670   \n",
      "47                           42.53333041.28333042.86083041.28333042.7500004...   \n",
      "48                           40.91667040.50000040.93333041.28333039.7833304...   \n",
      "49                               44.61667044.38333044.08333044.36667043.827000   \n",
      "5                            45.00000042.63333042.33333043.80000044.9338904...   \n",
      "50                           42.53333043.76111044.51667042.38467042.9666704...   \n",
      "51                                        64.88333059.33333055.18333065.383330   \n",
      "6                                46.83333046.57056047.25000047.76777847.706670   \n",
      "7                            34.90000031.96185033.45000031.59391035.2500003...   \n",
      "8                            38.13742033.48472038.80389033.26667038.2950004...   \n",
      "9                            40.30583038.47028039.78250039.24667040.3500003...   \n",
      "\n",
      "                                                                       reclong  \\\n",
      ":@computed_region_cbhk_fwbd                                                      \n",
      "1                            -96.850000-93.433330-94.100000-97.116670-96.70...   \n",
      "10                           -117.189130-117.400000-118.544650-115.333330-1...   \n",
      "11                           -108.000000-104.000000-103.400000-103.295000-1...   \n",
      "12                           -122.969440-122.350000-120.589420-121.850000-1...   \n",
      "13                           -112.133330-110.483330-109.585170-113.136390-1...   \n",
      "14                           -104.166670-104.100000-104.100000-104.200000-1...   \n",
      "15                           -93.500000-94.166670-92.050000-92.266670-90.50...   \n",
      "16                           -94.833330-93.666670-91.866670-91.600000-96.28...   \n",
      "17                           -101.200000-97.033330-100.450000-101.100000-99...   \n",
      "18                           -94.300000-93.500000-89.583330-94.400000-92.08...   \n",
      "19                           -96.471670-99.383330-103.666670-99.800000-99.2...   \n",
      "2                            -109.833330-112.550000-110.583330-111.400000-1...   \n",
      "20                           -96.150000-97.333330-97.583330-99.333330-95.15...   \n",
      "21                           -98.316670-96.916670-102.100000-101.250000-98....   \n",
      "22                                              -90.109760-92.750000-91.012220   \n",
      "23                           -97.010000-96.466670-98.833330-97.766670-94.51...   \n",
      "24                                    -73.133330-73.266667-72.650000-72.673610   \n",
      "25                                                                  -72.633330   \n",
      "29                           -87.000000-87.066670-87.166670-87.833330-87.50...   \n",
      "3                            -102.316670-97.166670-97.350000-101.233330-97....   \n",
      "30                           -81.362220-81.750000-81.683330-86.166670-80.80...   \n",
      "31                           -81.872780-83.966670-84.766670-83.516670-84.48...   \n",
      "32                                    -88.666670-89.716670-89.000000-88.775940   \n",
      "33                           -80.283330-81.883330-81.200000-82.033330-81.25...   \n",
      "34                           -89.150000-89.004170-87.679170-89.683330-90.22...   \n",
      "35                           -86.600000-86.166670-86.055000-86.283330-85.94...   \n",
      "36                           -83.750000-82.237220-84.350000-84.250000-85.75...   \n",
      "37                           -82.483330-78.066670-79.250000-78.133330-77.53...   \n",
      "38                           -81.766670-83.850000-84.500000-84.166670-83.95...   \n",
      "39                           -87.333330-86.500000-84.100000-86.633330-82.88...   \n",
      "4                                                       -157.866670-157.783330   \n",
      "40                           -78.083330-77.211630-77.500000-76.700000-79.08...   \n",
      "41                           -90.283330-89.600000-90.365560-92.051670-91.16...   \n",
      "42                                    -80.316670-82.383330-79.183330-79.150000   \n",
      "45                                              -77.166670-76.383330-77.300000   \n",
      "47                           -73.833330-73.916670-73.950280-73.816670-75.18...   \n",
      "48                           -78.083330-80.083330-79.733330-77.050000-77.21...   \n",
      "49                           -70.750000-68.750000-69.483330-69.200000-70.24...   \n",
      "5                            -114.000000-114.833330-113.700000-117.000000-1...   \n",
      "50                           -85.883330-84.507780-83.950000-83.611500-85.76...   \n",
      "51                                -163.166670-136.000000-162.550000-146.266670   \n",
      "6                            -117.250000-117.098610-122.416670-119.876389-1...   \n",
      "7                            -110.183330-110.434183-111.516670-111.370230-1...   \n",
      "8                            -119.758120-117.662500-120.908060-116.383330-1...   \n",
      "9                            -105.023250-105.241390-104.930560-104.588170-1...   \n",
      "\n",
      "                                                                   geolocation  \\\n",
      ":@computed_region_cbhk_fwbd                                                      \n",
      "1                            {'latitude': '47.81667', 'longitude': '-96.85'...   \n",
      "10                           {'latitude': '40.66813', 'longitude': '-117.18...   \n",
      "11                           {'latitude': '36.8', 'longitude': '-108.0'}{'l...   \n",
      "12                           {'latitude': '44.97917', 'longitude': '-122.96...   \n",
      "13                           {'latitude': '41.68333', 'longitude': '-112.13...   \n",
      "14                           {'latitude': '42.06667', 'longitude': '-104.16...   \n",
      "15                           {'latitude': '35.5', 'longitude': '-93.5'}{'la...   \n",
      "16                           {'latitude': '43.41667', 'longitude': '-94.833...   \n",
      "17                           {'latitude': '39.8', 'longitude': '-101.2'}{'l...   \n",
      "18                           {'latitude': '38.5', 'longitude': '-94.3'}{'la...   \n",
      "19                           {'latitude': '40.78167', 'longitude': '-96.471...   \n",
      "2                            {'latitude': '46.43333', 'longitude': '-109.83...   \n",
      "20                           {'latitude': '34.31667', 'longitude': '-96.15'...   \n",
      "21                           {'latitude': '45.41667', 'longitude': '-98.316...   \n",
      "22                           {'latitude': '29.94718', 'longitude': '-90.109...   \n",
      "23                           {'latitude': '31.805', 'longitude': '-97.01'}{...   \n",
      "24                           {'latitude': '41.2', 'longitude': '-73.13333'}...   \n",
      "25                           {'latitude': '42.31667', 'longitude': '-72.633...   \n",
      "29                           {'latitude': '34.75', 'longitude': '-87.0'}{'l...   \n",
      "3                            {'latitude': '46.88333', 'longitude': '-102.31...   \n",
      "30                           {'latitude': '28.5475', 'longitude': '-81.3622...   \n",
      "31                           {'latitude': '32.1025', 'longitude': '-81.8727...   \n",
      "32                           {'latitude': '34.5', 'longitude': '-88.66667'}...   \n",
      "33                           {'latitude': '34.16667', 'longitude': '-80.283...   \n",
      "34                           {'latitude': '39.08333', 'longitude': '-89.15'...   \n",
      "35                           {'latitude': '41.38333', 'longitude': '-86.6'}...   \n",
      "36                           {'latitude': '38.25', 'longitude': '-83.75'}{'...   \n",
      "37                           {'latitude': '35.96667', 'longitude': '-82.483...   \n",
      "38                           {'latitude': '40.0', 'longitude': '-81.76667'}...   \n",
      "39                           {'latitude': '36.16667', 'longitude': '-87.333...   \n",
      "4                            {'latitude': '21.3', 'longitude': '-157.86667'...   \n",
      "40                           {'latitude': '36.78333', 'longitude': '-78.083...   \n",
      "41                           {'latitude': '44.9', 'longitude': '-90.28333'}...   \n",
      "42                           {'latitude': '37.83333', 'longitude': '-80.316...   \n",
      "45                           {'latitude': '38.41667', 'longitude': '-77.166...   \n",
      "47                           {'latitude': '42.53333', 'longitude': '-73.833...   \n",
      "48                           {'latitude': '40.91667', 'longitude': '-78.083...   \n",
      "49                           {'latitude': '44.61667', 'longitude': '-70.75'...   \n",
      "5                            {'latitude': '45.0', 'longitude': '-114.0'}{'l...   \n",
      "50                           {'latitude': '42.53333', 'longitude': '-85.883...   \n",
      "51                           {'latitude': '64.88333', 'longitude': '-163.16...   \n",
      "6                            {'latitude': '46.83333', 'longitude': '-117.25...   \n",
      "7                            {'latitude': '34.9', 'longitude': '-110.18333'...   \n",
      "8                            {'latitude': '38.13742', 'longitude': '-119.75...   \n",
      "9                            {'latitude': '40.30583', 'longitude': '-105.02...   \n",
      "\n",
      "                                                   :@computed_region_nnqa_25f4  \n",
      ":@computed_region_cbhk_fwbd                                                     \n",
      "1                                                    3851406390242538515091349  \n",
      "10                           2397236023974804822401482482482482482482482482...  \n",
      "11                           1989611199419872537253525366141979272419872537...  \n",
      "12                                                 240929772370236972223672317  \n",
      "13                           2985298929922968317789889829893177898901298932...  \n",
      "14                           8903119311930838943121890308031213119312531198...  \n",
      "15                           1029701110102395510041033995102410261810269971001  \n",
      "16                                                   2771785284287182917921833  \n",
      "17                           1285130012931290125219471255128512421252310320...  \n",
      "18                           2697221626955252171212222232219515265121302692...  \n",
      "19                           4624712351448219423544734794582196469224323014...  \n",
      "2                                                     215521032099232221002155  \n",
      "20                           6022164220160827112716272226702313267323137072...  \n",
      "21                           6622684262726816612683674263627282690273226782...  \n",
      "22                                                                 16674111582  \n",
      "23                           7741978306380720253190201829573062201828852915...  \n",
      "24                                                            1040104010411041  \n",
      "25                                                                        1914  \n",
      "29                           3134103163199158516371586159314971021543159215...  \n",
      "3                                            569242524252422242556324155652420  \n",
      "30                                                              10781057111252  \n",
      "31                           6714701567207116219714731620151761112614151162...  \n",
      "32                                                               4955032545495  \n",
      "33                                                      6572582744252725282577  \n",
      "34                                     186917951863176217141751172217171371714  \n",
      "35                                12051855223815018961895190316919051671671202  \n",
      "36                           1921256142624413272371487238122314772532411486...  \n",
      "37                           2373648637233224392331636243123882286223222322...  \n",
      "38                                26152566256226135762510252057417226242664601  \n",
      "39                           2007211527402017204720472112273821052107200220...  \n",
      "4                                                                     16571657  \n",
      "40                           2839277027649212949275621142775922278291227572...  \n",
      "41                           8772971299686430723001303287530398883077888887886  \n",
      "42                                                            2805293128041812  \n",
      "45                                                                  4194241768  \n",
      "47                                 2030218521422185213621316242091214420862138  \n",
      "48                                            24952455245925572454260524552656  \n",
      "49                                                          172341416831727413  \n",
      "5                                                      21717751694169216601692  \n",
      "50                                             4293563613661260125712593601263  \n",
      "51                                                                 11416741673  \n",
      "6                                                         27452745321029792979  \n",
      "7                            9905943942986889898878888889899869429989986986...  \n",
      "8                            1391117411871179771390119011911190119278787878...  \n",
      "9                            1072144814448810728237378310081399107330101410...  \n"
     ]
    }
   ],
>>>>>>> 6e69bd67c4ddc21ca4c43af7d09e25172455c1b9
   "source": [
    "print(grouped)"
   ]
  },
  {
   "cell_type": "markdown",
   "id": "1a0bfcee",
   "metadata": {},
   "source": [
    "#### Data transformation"
   ]
  },
  {
   "cell_type": "markdown",
   "id": "2c1b241a2ba60a85",
   "metadata": {},
   "source": [
    "##### Quick EDA"
   ]
  },
  {
   "cell_type": "code",
   "execution_count": 7,
   "id": "d58766e5",
   "metadata": {
    "ExecuteTime": {
     "end_time": "2024-06-05T11:02:42.942544Z",
     "start_time": "2024-06-05T11:02:42.839574Z"
    }
   },
   "outputs": [
    {
     "data": {
      "text/plain": [
       "(45716, 12)"
      ]
     },
     "execution_count": 7,
     "metadata": {},
     "output_type": "execute_result"
    }
   ],
   "source": [
    "df.shape"
   ]
  },
  {
   "cell_type": "code",
   "execution_count": 8,
   "id": "4ecd7aa4",
   "metadata": {
    "ExecuteTime": {
     "end_time": "2024-06-05T11:02:49.190788Z",
     "start_time": "2024-06-05T11:02:49.173793Z"
    }
   },
   "outputs": [],
   "source": [
    "## Save raw data to local machine\n",
    "#df.to_csv('Meteorite landing records_raw.csv', header=True)"
   ]
  },
  {
   "cell_type": "code",
<<<<<<< HEAD
   "execution_count": 9,
   "id": "01970edb",
   "metadata": {},
   "outputs": [
    {
     "name": "stdout",
     "output_type": "stream",
     "text": [
      "<class 'pandas.core.frame.DataFrame'>\n",
      "RangeIndex: 45716 entries, 0 to 45715\n",
      "Data columns (total 12 columns):\n",
      " #   Column                       Non-Null Count  Dtype \n",
      "---  ------                       --------------  ----- \n",
      " 0   name                         45716 non-null  object\n",
      " 1   id                           45716 non-null  object\n",
      " 2   nametype                     45716 non-null  object\n",
      " 3   recclass                     45716 non-null  object\n",
      " 4   mass                         45585 non-null  object\n",
      " 5   fall                         45716 non-null  object\n",
      " 6   year                         45425 non-null  object\n",
      " 7   reclat                       38401 non-null  object\n",
      " 8   reclong                      38401 non-null  object\n",
      " 9   geolocation                  38401 non-null  object\n",
      " 10  :@computed_region_cbhk_fwbd  1659 non-null   object\n",
      " 11  :@computed_region_nnqa_25f4  1659 non-null   object\n",
      "dtypes: object(12)\n",
      "memory usage: 4.2+ MB\n"
     ]
    }
   ],
   "source": [
    "df.info()"
   ]
  },
  {
   "cell_type": "code",
   "execution_count": 10,
=======
   "execution_count": 8,
>>>>>>> 6e69bd67c4ddc21ca4c43af7d09e25172455c1b9
   "id": "84744e64",
   "metadata": {
    "ExecuteTime": {
     "end_time": "2024-06-05T11:02:51.158464Z",
     "start_time": "2024-06-05T11:02:50.430394Z"
    }
   },
   "outputs": [
    {
     "name": "stdout",
     "output_type": "stream",
     "text": [
      "['Fell' 'Found']\n",
      "['L5' 'H6' 'EH4' 'Acapulcoite' 'L6' 'LL3-6' 'H5' 'L' 'Diogenite-pm'\n",
      " 'Unknown' 'H4' 'H' 'Iron, IVA' 'CR2-an' 'LL5' 'CI1' 'L/LL4'\n",
      " 'Eucrite-mmict' 'CV3' 'Ureilite-an' 'Stone-uncl' 'L3' 'Angrite' 'LL6'\n",
      " 'L4' 'Aubrite' 'Iron, IIAB' 'Iron, IAB-sLL' 'Iron, ungrouped' 'CM2' 'OC'\n",
      " 'Mesosiderite-A1' 'LL4' 'C2-ung' 'LL3.8' 'Howardite' 'Eucrite-pmict'\n",
      " 'Diogenite' 'LL3.15' 'LL3.9' 'Iron, IAB-MG' 'H/L3.9' 'Iron?' 'Eucrite'\n",
      " 'H4-an' 'L/LL6' 'Iron, IIIAB' 'H/L4' 'H4-5' 'L3.7' 'LL3.4'\n",
      " 'Martian (chassignite)' 'EL6' 'H3.8' 'H3-5' 'H5-6' 'Mesosiderite' 'H5-7'\n",
      " 'L3-6' 'H4-6' 'Ureilite' 'Iron, IID' 'Mesosiderite-A3/4' 'CO3.3' 'H3'\n",
      " 'EH3/4-an' 'Iron, IIE' 'L/LL5' 'H3.7' 'CBa' 'H4/5' 'H3/4' 'H?' 'H3-6'\n",
      " 'L3.4' 'Iron, IAB-sHL' 'L3.7-6' 'EH7-an' 'Iron' 'CR2' 'CO3.2' 'K3' 'L5/6'\n",
      " 'CK4' 'Iron, IIE-an' 'L3.6' 'LL3.2' 'Pallasite' 'CO3.5' 'Lodranite'\n",
      " 'Mesosiderite-A3' 'L3-4' 'H5/6' 'Pallasite, PMG' 'Eucrite-cm' 'L5-6'\n",
      " 'CO3.6' 'Martian (nakhlite)' 'LL3.6' 'C3-ung' 'H3-4' 'CO3.4' 'EH3'\n",
      " 'Iron, IAB-ung' 'Winonaite' 'LL' 'Eucrite-br' 'Iron, IIF' 'R3.8-6' 'L4-6'\n",
      " 'EH5' 'LL3.00' 'H3.4' 'Martian (shergottite)' 'Achondrite-ung' 'LL3.3'\n",
      " 'C' 'H/L3.6' 'Iron, IIIAB-an' 'LL7' 'Mesosiderite-B2' 'LL4-6' 'CO3.7'\n",
      " 'L/LL6-an' 'Iron, IAB complex' 'Pallasite, PMG-an' 'H3.9/4' 'L3.8'\n",
      " 'LL5-6' 'LL3.8-6' 'L3.9' 'L4-5' 'L3-5' 'LL4/5' 'L4/5' 'H3.9' 'H3.6-6'\n",
      " 'H3.8-5' 'H3.8/4' 'H3.9-5' 'CH3' 'R3.8-5' 'L3.9/4' 'E4' 'CO3'\n",
      " 'Chondrite-ung' 'H~5' 'H~6' 'L/LL3.10' 'EL5' 'LL3' 'L~6' 'L~3' 'H~4'\n",
      " 'L(LL)3.5-3.7' 'Iron, IIIE-an' 'H3.6' 'L3.4-3.7' 'L3.5' 'CM1/2'\n",
      " 'Martian (OPX)' 'Brachinite' 'LL7(?)' 'LL6(?)' 'Eucrite-Mg rich' 'H3.5-4'\n",
      " 'EL3' 'R3.6' 'H3.5' 'CM1' 'L/LL3' 'H7' 'L(?)3' 'L3.2' 'L3.7-3.9'\n",
      " 'Mesosiderite-B1' 'Eucrite-unbr' 'LL3.7' 'CO3.0' 'LL3.5' 'L3.7-4'\n",
      " 'CV3-an' 'Lunar (anorth)' 'L3.3' 'Iron, IAB-sLM' 'Lunar' 'Iron, IC'\n",
      " 'Iron, IID-an' 'Iron, IIIE' 'Iron, IVA-an' 'CK6' 'L3.1' 'CK5' 'H3.3'\n",
      " 'H3.7-6' 'E6' 'H3.0' 'H3.1' 'L3.0' 'L/LL3.4' 'C6' 'LL3.0'\n",
      " 'Lunar (gabbro)' 'R4' 'C4' 'Iron, IIG' 'Iron, IIC' 'C1-ung' 'H5-an'\n",
      " 'EH4/5' 'Iron, IIIF' 'R3-6' 'Mesosiderite-B4' 'L6/7' 'Relict H'\n",
      " 'L-imp melt' 'CK3' 'H3-an' 'Iron, IVB' 'R3.8' 'L~5' 'Mesosiderite-an'\n",
      " 'Mesosiderite-A2' 'Pallasite, PES' 'C4-ung' 'Iron, IAB?' 'Mesosiderite-A'\n",
      " 'R3.5-6' 'H3.9-6' 'Ureilite-pmict' 'LL~6' 'CK4/5' 'EL4'\n",
      " 'Lunar (feldsp. breccia)' 'L3.9-6' 'H-an' 'L/LL3-6' 'L/LL3-5' 'H/L3.5'\n",
      " 'H/L3' 'R3-4' 'CK3-an' 'LL4-5' 'H/L6' 'L3/4' 'H-imp melt' 'CR'\n",
      " 'Chondrite-fusion crust' 'Iron, IAB-sLH' 'H(L)3-an' 'L(LL)3' 'H(L)3' 'R3'\n",
      " 'L7' 'CM-an' 'L/LL~6' 'L/LL~5' 'L~4' 'L/LL~4' 'LL(L)3' 'H3.2'\n",
      " 'L-melt breccia' 'H6-melt breccia' 'H5-melt breccia' 'H-melt rock'\n",
      " 'Eucrite-an' 'Lunar (bas/anor)' 'LL5/6' 'LL3/4' 'H3.4/3.5'\n",
      " 'Lunar (basalt)' 'H/L5' 'H(5?)' 'LL-imp melt' 'Mesosiderite?' 'H~4/5'\n",
      " 'L6-melt breccia' 'L3.5-3.7' 'Iron, IIAB-an' 'L3.3-3.7' 'L3.2-3.6'\n",
      " 'L3.3-3.6' 'Acapulcoite/Lodranite' 'Mesosiderite-B' 'CK5/6' 'L3.05' 'C2'\n",
      " 'C4/5' 'L/LL3.2' 'Iron, IIIAB?' 'L3.5-5' 'L/LL(?)3' 'H4(?)'\n",
      " 'Iron, IAB-sHH' 'Relict iron' 'EL4/5' 'L5-7' 'Diogenite-an' 'L-melt rock'\n",
      " 'CR1' 'H5 ' 'L5 ' 'H4 ' 'L4 ' 'E' 'L6 ' 'H3 ' 'LL6 ' 'H-metal' 'H6 '\n",
      " 'L-metal' 'Relict OC' 'EH' 'Mesosiderite-A4' 'L/LL5/6' 'H3.8-4' 'CBb'\n",
      " 'EL6/7' 'EL7' 'CH/CBb' 'CO3.8' 'H/L~4' 'Mesosiderite-C2' 'R5' 'H4/6'\n",
      " 'H3.7-5' 'LL3.7-6' 'H3.7/3.8' 'L3.7/3.8' 'EH-imp melt' 'R' 'Fusion crust'\n",
      " 'Aubrite-an' 'R6' 'LL-melt rock' 'L3.5-3.9' 'L3.2-3.5' 'L3.3-3.5'\n",
      " 'L3.0-3.7' 'E3-an' 'K' 'E3' 'Acapulcoite/lodranite' 'CK4-an' 'L(LL)3.05'\n",
      " 'L3.10' 'CB' 'Diogenite-olivine' 'EL-melt rock' 'EH6'\n",
      " 'Pallasite, ungrouped' 'L/LL4/5' 'L3.8-an' 'Iron, IAB-an' 'C5/6-ung'\n",
      " 'CV2' 'Iron, IC-an' 'Lunar (bas. breccia)' 'L3.8-6' 'R3/4' 'R3.9' 'CK'\n",
      " 'LL3.10' 'R4/5' 'L3.8-5' 'Mesosiderite-C' 'Enst achon' 'H/L3-4' 'L(H)3'\n",
      " 'LL6/7' 'LL3.1' 'OC3' 'R3.7' 'CO3 ' 'CH3 ' 'LL~4' 'LL~4/5' 'L(LL)~4'\n",
      " 'H3.05' 'H3.10' 'Impact melt breccia' 'LL3-5' 'H/L3.7' 'LL3-4' 'CK3/4'\n",
      " 'Martian' 'CO3.1' 'Lunar (bas/gab brec)' 'Achondrite-prim' 'LL<3.5'\n",
      " 'CK3.8' 'L/LL-melt rock' 'H6/7' 'EL6 ' 'Iron, IAB-sHL-an' 'CM2-an' 'R3-5'\n",
      " 'L4-melt rock' 'L6-melt rock' 'H/L4/5' 'EL3/4' 'H/L6-melt rock'\n",
      " 'Enst achon-ung' 'L3-7' 'R3.4' 'LL3.05' 'LL4/6' 'LL3.8-4' 'H3.15'\n",
      " 'C3.0-ung' 'LL-melt breccia' 'LL6-melt breccia' 'L5-melt breccia'\n",
      " 'LL(L)3.1' 'LL6-an' 'L4-melt breccia' 'Howardite-an' 'H4-melt breccia'\n",
      " 'Martian (basaltic breccia)' 'L3-melt breccia' 'L~4-6' 'LL~5' 'R3.5-4'\n",
      " 'CR7' 'H-melt breccia' 'Lunar (norite)' 'L3.00' 'H3.0-3.4' 'L/LL4-6' 'CM'\n",
      " 'EH7' 'L4-an' 'E-an' 'H3.8/3.9' 'L3.9-5' 'H3.8-6' 'H3.4-5' 'L3.0-3.9'\n",
      " 'L3.5-3.8' 'H3.2-3.7' 'L3.6-4' 'Iron, IIE?' 'C3/4-ung' 'L/LL3.5'\n",
      " 'L/LL3.6/3.7' 'H/L4-5' 'LL~3' 'Pallasite?' 'LL5-7' 'LL3.9/4' 'H3.8-an'\n",
      " 'CR-an' 'L/LL5-6' 'L(LL)5' 'L(LL)6' 'LL3.1-3.5' 'E5' 'Lodranite-an'\n",
      " 'H3.2-6' 'H(?)4' 'E5-an' 'H3.2-an' 'EH6-an' 'Stone-ung' 'C1/2-ung' 'L/LL']\n",
      "['Valid' 'Relict']\n"
     ]
    }
   ],
   "source": [
    "print(df['fall'].unique())\n",
    "print(df['recclass'].unique())\n",
    "print(df['nametype'].unique())"
   ]
  },
  {
   "cell_type": "code",
<<<<<<< HEAD
   "execution_count": 11,
=======
   "execution_count": 9,
>>>>>>> 6e69bd67c4ddc21ca4c43af7d09e25172455c1b9
   "id": "a32e0ff40fa1e8fc",
   "metadata": {
    "ExecuteTime": {
     "end_time": "2024-06-05T11:02:55.576054Z",
     "start_time": "2024-06-05T11:02:55.519072Z"
    }
   },
   "outputs": [
    {
     "data": {
      "text/plain": [
       "466"
      ]
     },
     "execution_count": 11,
     "metadata": {},
     "output_type": "execute_result"
    }
   ],
   "source": [
    "df['recclass'].nunique()"
   ]
  },
  {
   "cell_type": "code",
<<<<<<< HEAD
   "execution_count": 12,
=======
   "execution_count": 10,
>>>>>>> 6e69bd67c4ddc21ca4c43af7d09e25172455c1b9
   "id": "4dd4ef42",
   "metadata": {
    "ExecuteTime": {
     "end_time": "2024-06-05T11:02:58.027272Z",
     "start_time": "2024-06-05T11:02:57.813340Z"
    }
   },
   "outputs": [
    {
     "name": "stdout",
     "output_type": "stream",
     "text": [
      "recclass\n",
      "L6          8285\n",
      "H5          7142\n",
      "L5          4796\n",
      "H6          4528\n",
      "H4          4211\n",
      "            ... \n",
      "L3.2-3.5       1\n",
      "L3.2-3.6       1\n",
      "L3.3-3.5       1\n",
      "L3.3-3.6       1\n",
      "L3-7           1\n",
      "Name: count, Length: 466, dtype: int64\n"
     ]
    }
   ],
   "source": [
    "print(df.value_counts('recclass'))"
   ]
  },
  {
   "cell_type": "code",
<<<<<<< HEAD
   "execution_count": 13,
=======
   "execution_count": 11,
>>>>>>> 6e69bd67c4ddc21ca4c43af7d09e25172455c1b9
   "id": "0ec54336",
   "metadata": {
    "ExecuteTime": {
     "end_time": "2024-06-05T11:03:07.172282Z",
     "start_time": "2024-06-05T11:03:07.048323Z"
    }
   },
   "outputs": [
    {
     "data": {
      "text/plain": [
       "nametype  fall \n",
       "Valid     Found    44534\n",
       "          Fell      1107\n",
       "Relict    Found       75\n",
       "Name: count, dtype: int64"
      ]
     },
     "execution_count": 13,
     "metadata": {},
     "output_type": "execute_result"
    }
   ],
   "source": [
    "df.value_counts(['nametype', 'fall'])"
   ]
  },
  {
   "cell_type": "code",
<<<<<<< HEAD
   "execution_count": 14,
=======
   "execution_count": 12,
>>>>>>> 6e69bd67c4ddc21ca4c43af7d09e25172455c1b9
   "id": "e3fcdb57",
   "metadata": {
    "ExecuteTime": {
     "end_time": "2024-06-05T11:03:14.354048Z",
     "start_time": "2024-06-05T11:03:12.627597Z"
    }
   },
   "outputs": [
    {
     "data": {
      "text/plain": [
       "name                               0\n",
       "id                                 0\n",
       "nametype                           0\n",
       "recclass                           0\n",
       "mass                             131\n",
       "fall                               0\n",
       "year                             291\n",
       "reclat                          7315\n",
       "reclong                         7315\n",
       "geolocation                     7315\n",
       ":@computed_region_cbhk_fwbd    44057\n",
       ":@computed_region_nnqa_25f4    44057\n",
       "dtype: int64"
      ]
     },
     "execution_count": 14,
     "metadata": {},
     "output_type": "execute_result"
    }
   ],
   "source": [
    "df.isnull().sum()"
   ]
  },
  {
   "cell_type": "code",
<<<<<<< HEAD
   "execution_count": 16,
=======
   "execution_count": 13,
>>>>>>> 6e69bd67c4ddc21ca4c43af7d09e25172455c1b9
   "id": "ae9b6c654555dc03",
   "metadata": {
    "ExecuteTime": {
     "end_time": "2024-06-05T11:03:26.791082Z",
     "start_time": "2024-06-05T11:03:22.026601Z"
    }
   },
   "outputs": [
    {
     "ename": "TypeError",
     "evalue": "unhashable type: 'dict'",
     "output_type": "error",
     "traceback": [
<<<<<<< HEAD
      "\u001b[1;31m---------------------------------------------------------------------------\u001b[0m",
      "\u001b[1;31mTypeError\u001b[0m                                 Traceback (most recent call last)",
      "Cell \u001b[1;32mIn [16], line 1\u001b[0m\n\u001b[1;32m----> 1\u001b[0m \u001b[43mdf\u001b[49m\u001b[38;5;241;43m.\u001b[39;49m\u001b[43mduplicated\u001b[49m\u001b[43m(\u001b[49m\u001b[43m)\u001b[49m\u001b[38;5;241m.\u001b[39msum() \u001b[38;5;66;03m# not working because of dictionary values, geolocation column\u001b[39;00m\n",
      "File \u001b[1;32m~\\anaconda3\\lib\\site-packages\\pandas\\core\\frame.py:6253\u001b[0m, in \u001b[0;36mDataFrame.duplicated\u001b[1;34m(self, subset, keep)\u001b[0m\n\u001b[0;32m   6250\u001b[0m     \u001b[38;5;28;01mraise\u001b[39;00m \u001b[38;5;167;01mKeyError\u001b[39;00m(diff)\n\u001b[0;32m   6252\u001b[0m vals \u001b[38;5;241m=\u001b[39m (col\u001b[38;5;241m.\u001b[39mvalues \u001b[38;5;28;01mfor\u001b[39;00m name, col \u001b[38;5;129;01min\u001b[39;00m \u001b[38;5;28mself\u001b[39m\u001b[38;5;241m.\u001b[39mitems() \u001b[38;5;28;01mif\u001b[39;00m name \u001b[38;5;129;01min\u001b[39;00m subset)\n\u001b[1;32m-> 6253\u001b[0m labels, shape \u001b[38;5;241m=\u001b[39m \u001b[38;5;28mmap\u001b[39m(\u001b[38;5;28mlist\u001b[39m, \u001b[38;5;28;43mzip\u001b[39;49m\u001b[43m(\u001b[49m\u001b[38;5;241;43m*\u001b[39;49m\u001b[38;5;28;43mmap\u001b[39;49m\u001b[43m(\u001b[49m\u001b[43mf\u001b[49m\u001b[43m,\u001b[49m\u001b[43m \u001b[49m\u001b[43mvals\u001b[49m\u001b[43m)\u001b[49m\u001b[43m)\u001b[49m)\n\u001b[0;32m   6255\u001b[0m ids \u001b[38;5;241m=\u001b[39m get_group_index(\n\u001b[0;32m   6256\u001b[0m     labels,\n\u001b[0;32m   6257\u001b[0m     \u001b[38;5;66;03m# error: Argument 1 to \"tuple\" has incompatible type \"List[_T]\";\u001b[39;00m\n\u001b[1;32m   (...)\u001b[0m\n\u001b[0;32m   6261\u001b[0m     xnull\u001b[38;5;241m=\u001b[39m\u001b[38;5;28;01mFalse\u001b[39;00m,\n\u001b[0;32m   6262\u001b[0m )\n\u001b[0;32m   6263\u001b[0m result \u001b[38;5;241m=\u001b[39m \u001b[38;5;28mself\u001b[39m\u001b[38;5;241m.\u001b[39m_constructor_sliced(duplicated(ids, keep), index\u001b[38;5;241m=\u001b[39m\u001b[38;5;28mself\u001b[39m\u001b[38;5;241m.\u001b[39mindex)\n",
      "File \u001b[1;32m~\\anaconda3\\lib\\site-packages\\pandas\\core\\frame.py:6226\u001b[0m, in \u001b[0;36mDataFrame.duplicated.<locals>.f\u001b[1;34m(vals)\u001b[0m\n\u001b[0;32m   6225\u001b[0m \u001b[38;5;28;01mdef\u001b[39;00m \u001b[38;5;21mf\u001b[39m(vals) \u001b[38;5;241m-\u001b[39m\u001b[38;5;241m>\u001b[39m \u001b[38;5;28mtuple\u001b[39m[np\u001b[38;5;241m.\u001b[39mndarray, \u001b[38;5;28mint\u001b[39m]:\n\u001b[1;32m-> 6226\u001b[0m     labels, shape \u001b[38;5;241m=\u001b[39m \u001b[43malgorithms\u001b[49m\u001b[38;5;241;43m.\u001b[39;49m\u001b[43mfactorize\u001b[49m\u001b[43m(\u001b[49m\u001b[43mvals\u001b[49m\u001b[43m,\u001b[49m\u001b[43m \u001b[49m\u001b[43msize_hint\u001b[49m\u001b[38;5;241;43m=\u001b[39;49m\u001b[38;5;28;43mlen\u001b[39;49m\u001b[43m(\u001b[49m\u001b[38;5;28;43mself\u001b[39;49m\u001b[43m)\u001b[49m\u001b[43m)\u001b[49m\n\u001b[0;32m   6227\u001b[0m     \u001b[38;5;28;01mreturn\u001b[39;00m labels\u001b[38;5;241m.\u001b[39mastype(\u001b[38;5;124m\"\u001b[39m\u001b[38;5;124mi8\u001b[39m\u001b[38;5;124m\"\u001b[39m, copy\u001b[38;5;241m=\u001b[39m\u001b[38;5;28;01mFalse\u001b[39;00m), \u001b[38;5;28mlen\u001b[39m(shape)\n",
      "File \u001b[1;32m~\\anaconda3\\lib\\site-packages\\pandas\\core\\algorithms.py:763\u001b[0m, in \u001b[0;36mfactorize\u001b[1;34m(values, sort, na_sentinel, size_hint)\u001b[0m\n\u001b[0;32m    760\u001b[0m     \u001b[38;5;28;01melse\u001b[39;00m:\n\u001b[0;32m    761\u001b[0m         na_value \u001b[38;5;241m=\u001b[39m \u001b[38;5;28;01mNone\u001b[39;00m\n\u001b[1;32m--> 763\u001b[0m     codes, uniques \u001b[38;5;241m=\u001b[39m \u001b[43mfactorize_array\u001b[49m\u001b[43m(\u001b[49m\n\u001b[0;32m    764\u001b[0m \u001b[43m        \u001b[49m\u001b[43mvalues\u001b[49m\u001b[43m,\u001b[49m\u001b[43m \u001b[49m\u001b[43mna_sentinel\u001b[49m\u001b[38;5;241;43m=\u001b[39;49m\u001b[43mna_sentinel\u001b[49m\u001b[43m,\u001b[49m\u001b[43m \u001b[49m\u001b[43msize_hint\u001b[49m\u001b[38;5;241;43m=\u001b[39;49m\u001b[43msize_hint\u001b[49m\u001b[43m,\u001b[49m\u001b[43m \u001b[49m\u001b[43mna_value\u001b[49m\u001b[38;5;241;43m=\u001b[39;49m\u001b[43mna_value\u001b[49m\n\u001b[0;32m    765\u001b[0m \u001b[43m    \u001b[49m\u001b[43m)\u001b[49m\n\u001b[0;32m    767\u001b[0m \u001b[38;5;28;01mif\u001b[39;00m sort \u001b[38;5;129;01mand\u001b[39;00m \u001b[38;5;28mlen\u001b[39m(uniques) \u001b[38;5;241m>\u001b[39m \u001b[38;5;241m0\u001b[39m:\n\u001b[0;32m    768\u001b[0m     uniques, codes \u001b[38;5;241m=\u001b[39m safe_sort(\n\u001b[0;32m    769\u001b[0m         uniques, codes, na_sentinel\u001b[38;5;241m=\u001b[39mna_sentinel, assume_unique\u001b[38;5;241m=\u001b[39m\u001b[38;5;28;01mTrue\u001b[39;00m, verify\u001b[38;5;241m=\u001b[39m\u001b[38;5;28;01mFalse\u001b[39;00m\n\u001b[0;32m    770\u001b[0m     )\n",
      "File \u001b[1;32m~\\anaconda3\\lib\\site-packages\\pandas\\core\\algorithms.py:560\u001b[0m, in \u001b[0;36mfactorize_array\u001b[1;34m(values, na_sentinel, size_hint, na_value, mask)\u001b[0m\n\u001b[0;32m    557\u001b[0m hash_klass, values \u001b[38;5;241m=\u001b[39m _get_data_algo(values)\n\u001b[0;32m    559\u001b[0m table \u001b[38;5;241m=\u001b[39m hash_klass(size_hint \u001b[38;5;129;01mor\u001b[39;00m \u001b[38;5;28mlen\u001b[39m(values))\n\u001b[1;32m--> 560\u001b[0m uniques, codes \u001b[38;5;241m=\u001b[39m \u001b[43mtable\u001b[49m\u001b[38;5;241;43m.\u001b[39;49m\u001b[43mfactorize\u001b[49m\u001b[43m(\u001b[49m\n\u001b[0;32m    561\u001b[0m \u001b[43m    \u001b[49m\u001b[43mvalues\u001b[49m\u001b[43m,\u001b[49m\u001b[43m \u001b[49m\u001b[43mna_sentinel\u001b[49m\u001b[38;5;241;43m=\u001b[39;49m\u001b[43mna_sentinel\u001b[49m\u001b[43m,\u001b[49m\u001b[43m \u001b[49m\u001b[43mna_value\u001b[49m\u001b[38;5;241;43m=\u001b[39;49m\u001b[43mna_value\u001b[49m\u001b[43m,\u001b[49m\u001b[43m \u001b[49m\u001b[43mmask\u001b[49m\u001b[38;5;241;43m=\u001b[39;49m\u001b[43mmask\u001b[49m\n\u001b[0;32m    562\u001b[0m \u001b[43m\u001b[49m\u001b[43m)\u001b[49m\n\u001b[0;32m    564\u001b[0m codes \u001b[38;5;241m=\u001b[39m ensure_platform_int(codes)\n\u001b[0;32m    565\u001b[0m \u001b[38;5;28;01mreturn\u001b[39;00m codes, uniques\n",
      "File \u001b[1;32mpandas\\_libs\\hashtable_class_helper.pxi:5394\u001b[0m, in \u001b[0;36mpandas._libs.hashtable.PyObjectHashTable.factorize\u001b[1;34m()\u001b[0m\n",
      "File \u001b[1;32mpandas\\_libs\\hashtable_class_helper.pxi:5310\u001b[0m, in \u001b[0;36mpandas._libs.hashtable.PyObjectHashTable._unique\u001b[1;34m()\u001b[0m\n",
      "\u001b[1;31mTypeError\u001b[0m: unhashable type: 'dict'"
=======
      "\u001b[0;31m---------------------------------------------------------------------------\u001b[0m",
      "\u001b[0;31mTypeError\u001b[0m                                 Traceback (most recent call last)",
      "Cell \u001b[0;32mIn[13], line 1\u001b[0m\n\u001b[0;32m----> 1\u001b[0m df\u001b[38;5;241m.\u001b[39mduplicated()\u001b[38;5;241m.\u001b[39msum()\n",
      "File \u001b[0;32m~/anaconda3/lib/python3.11/site-packages/pandas/core/frame.py:6709\u001b[0m, in \u001b[0;36mDataFrame.duplicated\u001b[0;34m(self, subset, keep)\u001b[0m\n\u001b[1;32m   6707\u001b[0m \u001b[38;5;28;01melse\u001b[39;00m:\n\u001b[1;32m   6708\u001b[0m     vals \u001b[38;5;241m=\u001b[39m (col\u001b[38;5;241m.\u001b[39mvalues \u001b[38;5;28;01mfor\u001b[39;00m name, col \u001b[38;5;129;01min\u001b[39;00m \u001b[38;5;28mself\u001b[39m\u001b[38;5;241m.\u001b[39mitems() \u001b[38;5;28;01mif\u001b[39;00m name \u001b[38;5;129;01min\u001b[39;00m subset)\n\u001b[0;32m-> 6709\u001b[0m     labels, shape \u001b[38;5;241m=\u001b[39m \u001b[38;5;28mmap\u001b[39m(\u001b[38;5;28mlist\u001b[39m, \u001b[38;5;28mzip\u001b[39m(\u001b[38;5;241m*\u001b[39m\u001b[38;5;28mmap\u001b[39m(f, vals)))\n\u001b[1;32m   6711\u001b[0m     ids \u001b[38;5;241m=\u001b[39m get_group_index(\n\u001b[1;32m   6712\u001b[0m         labels,\n\u001b[1;32m   6713\u001b[0m         \u001b[38;5;66;03m# error: Argument 1 to \"tuple\" has incompatible type \"List[_T]\";\u001b[39;00m\n\u001b[0;32m   (...)\u001b[0m\n\u001b[1;32m   6717\u001b[0m         xnull\u001b[38;5;241m=\u001b[39m\u001b[38;5;28;01mFalse\u001b[39;00m,\n\u001b[1;32m   6718\u001b[0m     )\n\u001b[1;32m   6719\u001b[0m     result \u001b[38;5;241m=\u001b[39m \u001b[38;5;28mself\u001b[39m\u001b[38;5;241m.\u001b[39m_constructor_sliced(duplicated(ids, keep), index\u001b[38;5;241m=\u001b[39m\u001b[38;5;28mself\u001b[39m\u001b[38;5;241m.\u001b[39mindex)\n",
      "File \u001b[0;32m~/anaconda3/lib/python3.11/site-packages/pandas/core/frame.py:6677\u001b[0m, in \u001b[0;36mDataFrame.duplicated.<locals>.f\u001b[0;34m(vals)\u001b[0m\n\u001b[1;32m   6676\u001b[0m \u001b[38;5;28;01mdef\u001b[39;00m \u001b[38;5;21mf\u001b[39m(vals) \u001b[38;5;241m-\u001b[39m\u001b[38;5;241m>\u001b[39m \u001b[38;5;28mtuple\u001b[39m[np\u001b[38;5;241m.\u001b[39mndarray, \u001b[38;5;28mint\u001b[39m]:\n\u001b[0;32m-> 6677\u001b[0m     labels, shape \u001b[38;5;241m=\u001b[39m algorithms\u001b[38;5;241m.\u001b[39mfactorize(vals, size_hint\u001b[38;5;241m=\u001b[39m\u001b[38;5;28mlen\u001b[39m(\u001b[38;5;28mself\u001b[39m))\n\u001b[1;32m   6678\u001b[0m     \u001b[38;5;28;01mreturn\u001b[39;00m labels\u001b[38;5;241m.\u001b[39mastype(\u001b[38;5;124m\"\u001b[39m\u001b[38;5;124mi8\u001b[39m\u001b[38;5;124m\"\u001b[39m, copy\u001b[38;5;241m=\u001b[39m\u001b[38;5;28;01mFalse\u001b[39;00m), \u001b[38;5;28mlen\u001b[39m(shape)\n",
      "File \u001b[0;32m~/anaconda3/lib/python3.11/site-packages/pandas/core/algorithms.py:795\u001b[0m, in \u001b[0;36mfactorize\u001b[0;34m(values, sort, use_na_sentinel, size_hint)\u001b[0m\n\u001b[1;32m    792\u001b[0m             \u001b[38;5;66;03m# Don't modify (potentially user-provided) array\u001b[39;00m\n\u001b[1;32m    793\u001b[0m             values \u001b[38;5;241m=\u001b[39m np\u001b[38;5;241m.\u001b[39mwhere(null_mask, na_value, values)\n\u001b[0;32m--> 795\u001b[0m     codes, uniques \u001b[38;5;241m=\u001b[39m factorize_array(\n\u001b[1;32m    796\u001b[0m         values,\n\u001b[1;32m    797\u001b[0m         use_na_sentinel\u001b[38;5;241m=\u001b[39muse_na_sentinel,\n\u001b[1;32m    798\u001b[0m         size_hint\u001b[38;5;241m=\u001b[39msize_hint,\n\u001b[1;32m    799\u001b[0m     )\n\u001b[1;32m    801\u001b[0m \u001b[38;5;28;01mif\u001b[39;00m sort \u001b[38;5;129;01mand\u001b[39;00m \u001b[38;5;28mlen\u001b[39m(uniques) \u001b[38;5;241m>\u001b[39m \u001b[38;5;241m0\u001b[39m:\n\u001b[1;32m    802\u001b[0m     uniques, codes \u001b[38;5;241m=\u001b[39m safe_sort(\n\u001b[1;32m    803\u001b[0m         uniques,\n\u001b[1;32m    804\u001b[0m         codes,\n\u001b[0;32m   (...)\u001b[0m\n\u001b[1;32m    807\u001b[0m         verify\u001b[38;5;241m=\u001b[39m\u001b[38;5;28;01mFalse\u001b[39;00m,\n\u001b[1;32m    808\u001b[0m     )\n",
      "File \u001b[0;32m~/anaconda3/lib/python3.11/site-packages/pandas/core/algorithms.py:595\u001b[0m, in \u001b[0;36mfactorize_array\u001b[0;34m(values, use_na_sentinel, size_hint, na_value, mask)\u001b[0m\n\u001b[1;32m    592\u001b[0m hash_klass, values \u001b[38;5;241m=\u001b[39m _get_hashtable_algo(values)\n\u001b[1;32m    594\u001b[0m table \u001b[38;5;241m=\u001b[39m hash_klass(size_hint \u001b[38;5;129;01mor\u001b[39;00m \u001b[38;5;28mlen\u001b[39m(values))\n\u001b[0;32m--> 595\u001b[0m uniques, codes \u001b[38;5;241m=\u001b[39m table\u001b[38;5;241m.\u001b[39mfactorize(\n\u001b[1;32m    596\u001b[0m     values,\n\u001b[1;32m    597\u001b[0m     na_sentinel\u001b[38;5;241m=\u001b[39m\u001b[38;5;241m-\u001b[39m\u001b[38;5;241m1\u001b[39m,\n\u001b[1;32m    598\u001b[0m     na_value\u001b[38;5;241m=\u001b[39mna_value,\n\u001b[1;32m    599\u001b[0m     mask\u001b[38;5;241m=\u001b[39mmask,\n\u001b[1;32m    600\u001b[0m     ignore_na\u001b[38;5;241m=\u001b[39muse_na_sentinel,\n\u001b[1;32m    601\u001b[0m )\n\u001b[1;32m    603\u001b[0m \u001b[38;5;66;03m# re-cast e.g. i8->dt64/td64, uint8->bool\u001b[39;00m\n\u001b[1;32m    604\u001b[0m uniques \u001b[38;5;241m=\u001b[39m _reconstruct_data(uniques, original\u001b[38;5;241m.\u001b[39mdtype, original)\n",
      "File \u001b[0;32mpandas/_libs/hashtable_class_helper.pxi:7280\u001b[0m, in \u001b[0;36mpandas._libs.hashtable.PyObjectHashTable.factorize\u001b[0;34m()\u001b[0m\n",
      "File \u001b[0;32mpandas/_libs/hashtable_class_helper.pxi:7194\u001b[0m, in \u001b[0;36mpandas._libs.hashtable.PyObjectHashTable._unique\u001b[0;34m()\u001b[0m\n",
      "\u001b[0;31mTypeError\u001b[0m: unhashable type: 'dict'"
>>>>>>> 6e69bd67c4ddc21ca4c43af7d09e25172455c1b9
     ]
    }
   ],
   "source": [
    "df.duplicated().sum() # not working because of dictionary values, geolocation column"
   ]
  },
  {
   "cell_type": "code",
<<<<<<< HEAD
   "execution_count": 18,
=======
   "execution_count": 15,
>>>>>>> 6e69bd67c4ddc21ca4c43af7d09e25172455c1b9
   "id": "b5f1d81b25022620",
   "metadata": {
    "ExecuteTime": {
     "end_time": "2024-06-05T11:03:33.607906Z",
     "start_time": "2024-06-05T11:03:29.400246Z"
    }
   },
   "outputs": [
    {
     "name": "stdout",
     "output_type": "stream",
     "text": [
      "0\n"
     ]
    }
   ],
   "source": [
<<<<<<< HEAD
    "df = df.applymap(lambda x: str(x) if isinstance(x, dict) else x)\n",
=======
    "df = df.map(lambda x: str(x) if isinstance(x, dict) else x)\n",
>>>>>>> 6e69bd67c4ddc21ca4c43af7d09e25172455c1b9
    "print(df.duplicated().sum())"
   ]
  },
  {
   "cell_type": "markdown",
   "id": "71628856",
   "metadata": {},
   "source": [
    "##### Data cleaning"
   ]
  },
  {
   "cell_type": "code",
<<<<<<< HEAD
   "execution_count": 15,
=======
   "execution_count": 16,
>>>>>>> 6e69bd67c4ddc21ca4c43af7d09e25172455c1b9
   "id": "6ed505fe744d1348",
   "metadata": {
    "ExecuteTime": {
     "end_time": "2024-06-04T11:50:58.412976Z",
     "start_time": "2024-06-04T11:50:56.486598Z"
    },
    "scrolled": false
   },
   "outputs": [
    {
     "data": {
      "text/html": [
       "<div>\n",
       "<style scoped>\n",
       "    .dataframe tbody tr th:only-of-type {\n",
       "        vertical-align: middle;\n",
       "    }\n",
       "\n",
       "    .dataframe tbody tr th {\n",
       "        vertical-align: top;\n",
       "    }\n",
       "\n",
       "    .dataframe thead th {\n",
       "        text-align: right;\n",
       "    }\n",
       "</style>\n",
       "<table border=\"1\" class=\"dataframe\">\n",
       "  <thead>\n",
       "    <tr style=\"text-align: right;\">\n",
       "      <th></th>\n",
       "      <th>name</th>\n",
       "      <th>id</th>\n",
       "      <th>nametype</th>\n",
       "      <th>recclass</th>\n",
       "      <th>mass</th>\n",
       "      <th>fall</th>\n",
       "      <th>year</th>\n",
       "      <th>reclat</th>\n",
       "      <th>reclong</th>\n",
       "      <th>geolocation</th>\n",
       "      <th>:@computed_region_cbhk_fwbd</th>\n",
       "      <th>:@computed_region_nnqa_25f4</th>\n",
       "    </tr>\n",
       "  </thead>\n",
       "  <tbody>\n",
       "    <tr>\n",
       "      <th>45708</th>\n",
       "      <td>Zhigansk</td>\n",
       "      <td>30405</td>\n",
       "      <td>Valid</td>\n",
       "      <td>Iron, IIIAB</td>\n",
       "      <td>900000</td>\n",
       "      <td>Found</td>\n",
       "      <td>1966-01-01T00:00:00.000</td>\n",
       "      <td>68.000000</td>\n",
       "      <td>128.300000</td>\n",
       "      <td>{'latitude': '68.0', 'longitude': '128.3'}</td>\n",
       "      <td>NaN</td>\n",
       "      <td>NaN</td>\n",
       "    </tr>\n",
       "    <tr>\n",
       "      <th>45709</th>\n",
       "      <td>Zhongxiang</td>\n",
       "      <td>30406</td>\n",
       "      <td>Valid</td>\n",
       "      <td>Iron</td>\n",
       "      <td>100000</td>\n",
       "      <td>Found</td>\n",
       "      <td>1981-01-01T00:00:00.000</td>\n",
       "      <td>31.200000</td>\n",
       "      <td>112.500000</td>\n",
       "      <td>{'latitude': '31.2', 'longitude': '112.5'}</td>\n",
       "      <td>NaN</td>\n",
       "      <td>NaN</td>\n",
       "    </tr>\n",
       "    <tr>\n",
       "      <th>45710</th>\n",
       "      <td>Zillah 001</td>\n",
       "      <td>31355</td>\n",
       "      <td>Valid</td>\n",
       "      <td>L6</td>\n",
       "      <td>1475</td>\n",
       "      <td>Found</td>\n",
       "      <td>1990-01-01T00:00:00.000</td>\n",
       "      <td>29.037000</td>\n",
       "      <td>17.018500</td>\n",
       "      <td>{'latitude': '29.037', 'longitude': '17.0185'}</td>\n",
       "      <td>NaN</td>\n",
       "      <td>NaN</td>\n",
       "    </tr>\n",
       "    <tr>\n",
       "      <th>45711</th>\n",
       "      <td>Zillah 002</td>\n",
       "      <td>31356</td>\n",
       "      <td>Valid</td>\n",
       "      <td>Eucrite</td>\n",
       "      <td>172</td>\n",
       "      <td>Found</td>\n",
       "      <td>1990-01-01T00:00:00.000</td>\n",
       "      <td>29.037000</td>\n",
       "      <td>17.018500</td>\n",
       "      <td>{'latitude': '29.037', 'longitude': '17.0185'}</td>\n",
       "      <td>NaN</td>\n",
       "      <td>NaN</td>\n",
       "    </tr>\n",
       "    <tr>\n",
       "      <th>45712</th>\n",
       "      <td>Zinder</td>\n",
       "      <td>30409</td>\n",
       "      <td>Valid</td>\n",
       "      <td>Pallasite, ungrouped</td>\n",
       "      <td>46</td>\n",
       "      <td>Found</td>\n",
       "      <td>1999-01-01T00:00:00.000</td>\n",
       "      <td>13.783330</td>\n",
       "      <td>8.966670</td>\n",
       "      <td>{'latitude': '13.78333', 'longitude': '8.96667'}</td>\n",
       "      <td>NaN</td>\n",
       "      <td>NaN</td>\n",
       "    </tr>\n",
       "    <tr>\n",
       "      <th>45713</th>\n",
       "      <td>Zlin</td>\n",
       "      <td>30410</td>\n",
       "      <td>Valid</td>\n",
       "      <td>H4</td>\n",
       "      <td>3.3</td>\n",
       "      <td>Found</td>\n",
       "      <td>1939-01-01T00:00:00.000</td>\n",
       "      <td>49.250000</td>\n",
       "      <td>17.666670</td>\n",
       "      <td>{'latitude': '49.25', 'longitude': '17.66667'}</td>\n",
       "      <td>NaN</td>\n",
       "      <td>NaN</td>\n",
       "    </tr>\n",
       "    <tr>\n",
       "      <th>45714</th>\n",
       "      <td>Zubkovsky</td>\n",
       "      <td>31357</td>\n",
       "      <td>Valid</td>\n",
       "      <td>L6</td>\n",
       "      <td>2167</td>\n",
       "      <td>Found</td>\n",
       "      <td>2003-01-01T00:00:00.000</td>\n",
       "      <td>49.789170</td>\n",
       "      <td>41.504600</td>\n",
       "      <td>{'latitude': '49.78917', 'longitude': '41.5046'}</td>\n",
       "      <td>NaN</td>\n",
       "      <td>NaN</td>\n",
       "    </tr>\n",
       "    <tr>\n",
       "      <th>45715</th>\n",
       "      <td>Zulu Queen</td>\n",
       "      <td>30414</td>\n",
       "      <td>Valid</td>\n",
       "      <td>L3.7</td>\n",
       "      <td>200</td>\n",
       "      <td>Found</td>\n",
       "      <td>1976-01-01T00:00:00.000</td>\n",
       "      <td>33.983330</td>\n",
       "      <td>-115.683330</td>\n",
       "      <td>{'latitude': '33.98333', 'longitude': '-115.68...</td>\n",
       "      <td>8</td>\n",
       "      <td>1177</td>\n",
       "    </tr>\n",
       "  </tbody>\n",
       "</table>\n",
       "</div>"
      ],
      "text/plain": [
       "             name     id nametype              recclass    mass   fall  \\\n",
       "45708    Zhigansk  30405    Valid           Iron, IIIAB  900000  Found   \n",
       "45709  Zhongxiang  30406    Valid                  Iron  100000  Found   \n",
       "45710  Zillah 001  31355    Valid                    L6    1475  Found   \n",
       "45711  Zillah 002  31356    Valid               Eucrite     172  Found   \n",
       "45712      Zinder  30409    Valid  Pallasite, ungrouped      46  Found   \n",
       "45713        Zlin  30410    Valid                    H4     3.3  Found   \n",
       "45714   Zubkovsky  31357    Valid                    L6    2167  Found   \n",
       "45715  Zulu Queen  30414    Valid                  L3.7     200  Found   \n",
       "\n",
       "                          year     reclat      reclong  \\\n",
       "45708  1966-01-01T00:00:00.000  68.000000   128.300000   \n",
       "45709  1981-01-01T00:00:00.000  31.200000   112.500000   \n",
       "45710  1990-01-01T00:00:00.000  29.037000    17.018500   \n",
       "45711  1990-01-01T00:00:00.000  29.037000    17.018500   \n",
       "45712  1999-01-01T00:00:00.000  13.783330     8.966670   \n",
       "45713  1939-01-01T00:00:00.000  49.250000    17.666670   \n",
       "45714  2003-01-01T00:00:00.000  49.789170    41.504600   \n",
       "45715  1976-01-01T00:00:00.000  33.983330  -115.683330   \n",
       "\n",
       "                                             geolocation  \\\n",
       "45708         {'latitude': '68.0', 'longitude': '128.3'}   \n",
       "45709         {'latitude': '31.2', 'longitude': '112.5'}   \n",
       "45710     {'latitude': '29.037', 'longitude': '17.0185'}   \n",
       "45711     {'latitude': '29.037', 'longitude': '17.0185'}   \n",
       "45712   {'latitude': '13.78333', 'longitude': '8.96667'}   \n",
       "45713     {'latitude': '49.25', 'longitude': '17.66667'}   \n",
       "45714   {'latitude': '49.78917', 'longitude': '41.5046'}   \n",
       "45715  {'latitude': '33.98333', 'longitude': '-115.68...   \n",
       "\n",
       "      :@computed_region_cbhk_fwbd :@computed_region_nnqa_25f4  \n",
       "45708                         NaN                         NaN  \n",
       "45709                         NaN                         NaN  \n",
       "45710                         NaN                         NaN  \n",
       "45711                         NaN                         NaN  \n",
       "45712                         NaN                         NaN  \n",
       "45713                         NaN                         NaN  \n",
       "45714                         NaN                         NaN  \n",
       "45715                           8                        1177  "
      ]
     },
     "execution_count": 15,
     "metadata": {},
     "output_type": "execute_result"
    }
   ],
   "source": [
    "df.tail(8)"
   ]
  },
  {
<<<<<<< HEAD
   "cell_type": "markdown",
   "id": "44c496c3",
   "metadata": {},
   "source": [
    "<br> <br>\n",
    "- **Read downloaded data to compare**"
   ]
  },
  {
   "cell_type": "code",
   "execution_count": 24,
=======
   "cell_type": "code",
   "execution_count": 16,
>>>>>>> 6e69bd67c4ddc21ca4c43af7d09e25172455c1b9
   "id": "5207e6c018ce9573",
   "metadata": {
    "ExecuteTime": {
     "end_time": "2024-06-04T12:06:52.874302Z",
     "start_time": "2024-06-04T12:06:50.311124Z"
    }
   },
   "outputs": [],
   "source": [
    "df1 = pd.read_csv('Meteorite_Landings_20240604.csv')"
   ]
  },
  {
   "cell_type": "code",
<<<<<<< HEAD
   "execution_count": 25,
=======
   "execution_count": 17,
>>>>>>> 6e69bd67c4ddc21ca4c43af7d09e25172455c1b9
   "id": "801c0984342b73da",
   "metadata": {
    "ExecuteTime": {
     "end_time": "2024-06-04T12:07:20.517465Z",
     "start_time": "2024-06-04T12:07:20.015627Z"
    },
    "scrolled": true
   },
   "outputs": [
    {
     "data": {
      "text/html": [
       "<div>\n",
       "<style scoped>\n",
       "    .dataframe tbody tr th:only-of-type {\n",
       "        vertical-align: middle;\n",
       "    }\n",
       "\n",
       "    .dataframe tbody tr th {\n",
       "        vertical-align: top;\n",
       "    }\n",
       "\n",
       "    .dataframe thead th {\n",
       "        text-align: right;\n",
       "    }\n",
       "</style>\n",
       "<table border=\"1\" class=\"dataframe\">\n",
       "  <thead>\n",
       "    <tr style=\"text-align: right;\">\n",
       "      <th></th>\n",
       "      <th>name</th>\n",
       "      <th>id</th>\n",
       "      <th>nametype</th>\n",
       "      <th>recclass</th>\n",
       "      <th>mass (g)</th>\n",
       "      <th>fall</th>\n",
       "      <th>year</th>\n",
       "      <th>reclat</th>\n",
       "      <th>reclong</th>\n",
       "      <th>GeoLocation</th>\n",
       "    </tr>\n",
       "  </thead>\n",
       "  <tbody>\n",
       "    <tr>\n",
       "      <th>0</th>\n",
       "      <td>Aachen</td>\n",
       "      <td>1</td>\n",
       "      <td>Valid</td>\n",
       "      <td>L5</td>\n",
       "      <td>21.0</td>\n",
       "      <td>Fell</td>\n",
       "      <td>1880.0</td>\n",
       "      <td>50.77500</td>\n",
       "      <td>6.08333</td>\n",
       "      <td>(50.775, 6.08333)</td>\n",
       "    </tr>\n",
       "    <tr>\n",
       "      <th>1</th>\n",
       "      <td>Aarhus</td>\n",
       "      <td>2</td>\n",
       "      <td>Valid</td>\n",
       "      <td>H6</td>\n",
       "      <td>720.0</td>\n",
       "      <td>Fell</td>\n",
       "      <td>1951.0</td>\n",
       "      <td>56.18333</td>\n",
       "      <td>10.23333</td>\n",
       "      <td>(56.18333, 10.23333)</td>\n",
       "    </tr>\n",
       "    <tr>\n",
       "      <th>2</th>\n",
       "      <td>Abee</td>\n",
       "      <td>6</td>\n",
       "      <td>Valid</td>\n",
       "      <td>EH4</td>\n",
       "      <td>107000.0</td>\n",
       "      <td>Fell</td>\n",
       "      <td>1952.0</td>\n",
       "      <td>54.21667</td>\n",
       "      <td>-113.00000</td>\n",
       "      <td>(54.21667, -113.0)</td>\n",
       "    </tr>\n",
       "    <tr>\n",
       "      <th>3</th>\n",
       "      <td>Acapulco</td>\n",
       "      <td>10</td>\n",
       "      <td>Valid</td>\n",
       "      <td>Acapulcoite</td>\n",
       "      <td>1914.0</td>\n",
       "      <td>Fell</td>\n",
       "      <td>1976.0</td>\n",
       "      <td>16.88333</td>\n",
       "      <td>-99.90000</td>\n",
       "      <td>(16.88333, -99.9)</td>\n",
       "    </tr>\n",
       "    <tr>\n",
       "      <th>4</th>\n",
       "      <td>Achiras</td>\n",
       "      <td>370</td>\n",
       "      <td>Valid</td>\n",
       "      <td>L6</td>\n",
       "      <td>780.0</td>\n",
       "      <td>Fell</td>\n",
       "      <td>1902.0</td>\n",
       "      <td>-33.16667</td>\n",
       "      <td>-64.95000</td>\n",
       "      <td>(-33.16667, -64.95)</td>\n",
       "    </tr>\n",
       "  </tbody>\n",
       "</table>\n",
       "</div>"
      ],
      "text/plain": [
       "       name   id nametype     recclass  mass (g)  fall    year    reclat  \\\n",
       "0    Aachen    1    Valid           L5      21.0  Fell  1880.0  50.77500   \n",
       "1    Aarhus    2    Valid           H6     720.0  Fell  1951.0  56.18333   \n",
       "2      Abee    6    Valid          EH4  107000.0  Fell  1952.0  54.21667   \n",
       "3  Acapulco   10    Valid  Acapulcoite    1914.0  Fell  1976.0  16.88333   \n",
       "4   Achiras  370    Valid           L6     780.0  Fell  1902.0 -33.16667   \n",
       "\n",
       "     reclong           GeoLocation  \n",
       "0    6.08333     (50.775, 6.08333)  \n",
       "1   10.23333  (56.18333, 10.23333)  \n",
       "2 -113.00000    (54.21667, -113.0)  \n",
       "3  -99.90000     (16.88333, -99.9)  \n",
       "4  -64.95000   (-33.16667, -64.95)  "
      ]
     },
<<<<<<< HEAD
     "execution_count": 25,
=======
     "execution_count": 17,
>>>>>>> 6e69bd67c4ddc21ca4c43af7d09e25172455c1b9
     "metadata": {},
     "output_type": "execute_result"
    }
   ],
   "source": [
    "df1.head()"
   ]
  },
  {
   "cell_type": "code",
<<<<<<< HEAD
   "execution_count": 26,
=======
   "execution_count": 18,
>>>>>>> 6e69bd67c4ddc21ca4c43af7d09e25172455c1b9
   "id": "e54c3401b31883e2",
   "metadata": {
    "ExecuteTime": {
     "end_time": "2024-06-04T12:17:42.071591Z",
     "start_time": "2024-06-04T12:17:41.973623Z"
    }
   },
   "outputs": [
    {
     "data": {
      "text/plain": [
       "(45716, 10)"
      ]
     },
<<<<<<< HEAD
     "execution_count": 26,
=======
     "execution_count": 18,
>>>>>>> 6e69bd67c4ddc21ca4c43af7d09e25172455c1b9
     "metadata": {},
     "output_type": "execute_result"
    }
   ],
   "source": [
    "df1.shape"
   ]
  },
  {
   "cell_type": "code",
<<<<<<< HEAD
   "execution_count": 40,
=======
   "execution_count": 19,
   "id": "c1ae346b220abb80",
   "metadata": {
    "ExecuteTime": {
     "end_time": "2024-06-04T12:17:02.738101Z",
     "start_time": "2024-06-04T12:17:00.502818Z"
    }
   },
   "outputs": [
    {
     "data": {
      "text/html": [
       "<div>\n",
       "<style scoped>\n",
       "    .dataframe tbody tr th:only-of-type {\n",
       "        vertical-align: middle;\n",
       "    }\n",
       "\n",
       "    .dataframe tbody tr th {\n",
       "        vertical-align: top;\n",
       "    }\n",
       "\n",
       "    .dataframe thead th {\n",
       "        text-align: right;\n",
       "    }\n",
       "</style>\n",
       "<table border=\"1\" class=\"dataframe\">\n",
       "  <thead>\n",
       "    <tr style=\"text-align: right;\">\n",
       "      <th></th>\n",
       "      <th>name</th>\n",
       "      <th>id</th>\n",
       "      <th>nametype</th>\n",
       "      <th>recclass</th>\n",
       "      <th>mass (g)</th>\n",
       "      <th>fall</th>\n",
       "      <th>year</th>\n",
       "      <th>reclat</th>\n",
       "      <th>reclong</th>\n",
       "      <th>GeoLocation</th>\n",
       "    </tr>\n",
       "  </thead>\n",
       "  <tbody>\n",
       "    <tr>\n",
       "      <th>count</th>\n",
       "      <td>45716</td>\n",
       "      <td>45716.000000</td>\n",
       "      <td>45716</td>\n",
       "      <td>45716</td>\n",
       "      <td>4.558500e+04</td>\n",
       "      <td>45716</td>\n",
       "      <td>45425.000000</td>\n",
       "      <td>38401.000000</td>\n",
       "      <td>38401.000000</td>\n",
       "      <td>38401</td>\n",
       "    </tr>\n",
       "    <tr>\n",
       "      <th>unique</th>\n",
       "      <td>45716</td>\n",
       "      <td>NaN</td>\n",
       "      <td>2</td>\n",
       "      <td>466</td>\n",
       "      <td>NaN</td>\n",
       "      <td>2</td>\n",
       "      <td>NaN</td>\n",
       "      <td>NaN</td>\n",
       "      <td>NaN</td>\n",
       "      <td>17100</td>\n",
       "    </tr>\n",
       "    <tr>\n",
       "      <th>top</th>\n",
       "      <td>Aachen</td>\n",
       "      <td>NaN</td>\n",
       "      <td>Valid</td>\n",
       "      <td>L6</td>\n",
       "      <td>NaN</td>\n",
       "      <td>Found</td>\n",
       "      <td>NaN</td>\n",
       "      <td>NaN</td>\n",
       "      <td>NaN</td>\n",
       "      <td>(0.0, 0.0)</td>\n",
       "    </tr>\n",
       "    <tr>\n",
       "      <th>freq</th>\n",
       "      <td>1</td>\n",
       "      <td>NaN</td>\n",
       "      <td>45641</td>\n",
       "      <td>8285</td>\n",
       "      <td>NaN</td>\n",
       "      <td>44609</td>\n",
       "      <td>NaN</td>\n",
       "      <td>NaN</td>\n",
       "      <td>NaN</td>\n",
       "      <td>6214</td>\n",
       "    </tr>\n",
       "    <tr>\n",
       "      <th>mean</th>\n",
       "      <td>NaN</td>\n",
       "      <td>26889.735104</td>\n",
       "      <td>NaN</td>\n",
       "      <td>NaN</td>\n",
       "      <td>1.327808e+04</td>\n",
       "      <td>NaN</td>\n",
       "      <td>1991.828817</td>\n",
       "      <td>-39.122580</td>\n",
       "      <td>61.074319</td>\n",
       "      <td>NaN</td>\n",
       "    </tr>\n",
       "    <tr>\n",
       "      <th>std</th>\n",
       "      <td>NaN</td>\n",
       "      <td>16860.683030</td>\n",
       "      <td>NaN</td>\n",
       "      <td>NaN</td>\n",
       "      <td>5.749889e+05</td>\n",
       "      <td>NaN</td>\n",
       "      <td>25.052766</td>\n",
       "      <td>46.378511</td>\n",
       "      <td>80.647298</td>\n",
       "      <td>NaN</td>\n",
       "    </tr>\n",
       "    <tr>\n",
       "      <th>min</th>\n",
       "      <td>NaN</td>\n",
       "      <td>1.000000</td>\n",
       "      <td>NaN</td>\n",
       "      <td>NaN</td>\n",
       "      <td>0.000000e+00</td>\n",
       "      <td>NaN</td>\n",
       "      <td>860.000000</td>\n",
       "      <td>-87.366670</td>\n",
       "      <td>-165.433330</td>\n",
       "      <td>NaN</td>\n",
       "    </tr>\n",
       "    <tr>\n",
       "      <th>25%</th>\n",
       "      <td>NaN</td>\n",
       "      <td>12688.750000</td>\n",
       "      <td>NaN</td>\n",
       "      <td>NaN</td>\n",
       "      <td>7.200000e+00</td>\n",
       "      <td>NaN</td>\n",
       "      <td>1987.000000</td>\n",
       "      <td>-76.714240</td>\n",
       "      <td>0.000000</td>\n",
       "      <td>NaN</td>\n",
       "    </tr>\n",
       "    <tr>\n",
       "      <th>50%</th>\n",
       "      <td>NaN</td>\n",
       "      <td>24261.500000</td>\n",
       "      <td>NaN</td>\n",
       "      <td>NaN</td>\n",
       "      <td>3.260000e+01</td>\n",
       "      <td>NaN</td>\n",
       "      <td>1998.000000</td>\n",
       "      <td>-71.500000</td>\n",
       "      <td>35.666670</td>\n",
       "      <td>NaN</td>\n",
       "    </tr>\n",
       "    <tr>\n",
       "      <th>75%</th>\n",
       "      <td>NaN</td>\n",
       "      <td>40656.750000</td>\n",
       "      <td>NaN</td>\n",
       "      <td>NaN</td>\n",
       "      <td>2.026000e+02</td>\n",
       "      <td>NaN</td>\n",
       "      <td>2003.000000</td>\n",
       "      <td>0.000000</td>\n",
       "      <td>157.166670</td>\n",
       "      <td>NaN</td>\n",
       "    </tr>\n",
       "    <tr>\n",
       "      <th>max</th>\n",
       "      <td>NaN</td>\n",
       "      <td>57458.000000</td>\n",
       "      <td>NaN</td>\n",
       "      <td>NaN</td>\n",
       "      <td>6.000000e+07</td>\n",
       "      <td>NaN</td>\n",
       "      <td>2101.000000</td>\n",
       "      <td>81.166670</td>\n",
       "      <td>354.473330</td>\n",
       "      <td>NaN</td>\n",
       "    </tr>\n",
       "  </tbody>\n",
       "</table>\n",
       "</div>"
      ],
      "text/plain": [
       "          name            id nametype recclass      mass (g)   fall  \\\n",
       "count    45716  45716.000000    45716    45716  4.558500e+04  45716   \n",
       "unique   45716           NaN        2      466           NaN      2   \n",
       "top     Aachen           NaN    Valid       L6           NaN  Found   \n",
       "freq         1           NaN    45641     8285           NaN  44609   \n",
       "mean       NaN  26889.735104      NaN      NaN  1.327808e+04    NaN   \n",
       "std        NaN  16860.683030      NaN      NaN  5.749889e+05    NaN   \n",
       "min        NaN      1.000000      NaN      NaN  0.000000e+00    NaN   \n",
       "25%        NaN  12688.750000      NaN      NaN  7.200000e+00    NaN   \n",
       "50%        NaN  24261.500000      NaN      NaN  3.260000e+01    NaN   \n",
       "75%        NaN  40656.750000      NaN      NaN  2.026000e+02    NaN   \n",
       "max        NaN  57458.000000      NaN      NaN  6.000000e+07    NaN   \n",
       "\n",
       "                year        reclat       reclong GeoLocation  \n",
       "count   45425.000000  38401.000000  38401.000000       38401  \n",
       "unique           NaN           NaN           NaN       17100  \n",
       "top              NaN           NaN           NaN  (0.0, 0.0)  \n",
       "freq             NaN           NaN           NaN        6214  \n",
       "mean     1991.828817    -39.122580     61.074319         NaN  \n",
       "std        25.052766     46.378511     80.647298         NaN  \n",
       "min       860.000000    -87.366670   -165.433330         NaN  \n",
       "25%      1987.000000    -76.714240      0.000000         NaN  \n",
       "50%      1998.000000    -71.500000     35.666670         NaN  \n",
       "75%      2003.000000      0.000000    157.166670         NaN  \n",
       "max      2101.000000     81.166670    354.473330         NaN  "
      ]
     },
     "execution_count": 19,
     "metadata": {},
     "output_type": "execute_result"
    }
   ],
   "source": [
    "df1.describe(include='all')"
   ]
  },
  {
   "cell_type": "code",
   "execution_count": 20,
>>>>>>> 6e69bd67c4ddc21ca4c43af7d09e25172455c1b9
   "id": "487643a804ed6171",
   "metadata": {
    "ExecuteTime": {
     "end_time": "2024-06-04T12:09:53.842425Z",
     "start_time": "2024-06-04T12:09:45.397137Z"
    }
   },
   "outputs": [
    {
     "name": "stdout",
     "output_type": "stream",
     "text": [
      "<class 'pandas.core.frame.DataFrame'>\n",
      "RangeIndex: 45716 entries, 0 to 45715\n",
      "Data columns (total 10 columns):\n",
      " #   Column       Non-Null Count  Dtype         \n",
      "---  ------       --------------  -----         \n",
      " 0   name         45716 non-null  object        \n",
      " 1   id           45716 non-null  int64         \n",
      " 2   nametype     45716 non-null  object        \n",
      " 3   recclass     45716 non-null  object        \n",
      " 4   mass (g)     45585 non-null  float64       \n",
      " 5   fall         45716 non-null  object        \n",
      " 6   year         45425 non-null  datetime64[ns]\n",
      " 7   reclat       38401 non-null  float64       \n",
      " 8   reclong      38401 non-null  float64       \n",
      " 9   GeoLocation  38401 non-null  object        \n",
      "dtypes: datetime64[ns](1), float64(3), int64(1), object(5)\n",
      "memory usage: 3.5+ MB\n"
     ]
    }
   ],
<<<<<<< HEAD
   "source": [
    "df1.info()"
   ]
  },
  {
   "cell_type": "markdown",
   "id": "10180846",
   "metadata": {},
   "source": [
    "<br> <br>"
   ]
  },
  {
   "cell_type": "markdown",
   "id": "07a1988f",
   "metadata": {},
   "source": [
    "- <p>https://support.socrata.com/hc/en-us/articles/14697304583319-Default-Column-Metadata-For-Computed-Region-Columns<p>"
=======
   "source": [
    "df1.info()"
   ]
  },
  {
   "cell_type": "code",
   "execution_count": 14,
   "id": "d7c3cd8c",
   "metadata": {},
   "outputs": [],
   "source": [
    "# Drop \n",
    "meteorite = df.drop(columns=[':@computed_region_cbhk_fwbd', ':@computed_region_nnqa_25f4'])"
>>>>>>> 6e69bd67c4ddc21ca4c43af7d09e25172455c1b9
   ]
  },
  {
   "cell_type": "code",
   "execution_count": 16,
   "id": "d7c3cd8c",
   "metadata": {},
   "outputs": [],
   "source": [
    "# Drop unneccessary columns\n",
    "# Computed region columns are system-generated columns \n",
    "# that are created any time a Spatial Lens is applied to datasets with point column data.\n",
    "# Once generated, these columns are used in defining boundaries based on the provided point columns.\n",
    "meteorite = df.drop(columns=[':@computed_region_cbhk_fwbd', ':@computed_region_nnqa_25f4'])"
   ]
  },
  {
   "cell_type": "code",
   "execution_count": 17,
   "id": "04fe005c",
   "metadata": {},
   "outputs": [
    {
     "data": {
      "text/html": [
       "<div>\n",
       "<style scoped>\n",
       "    .dataframe tbody tr th:only-of-type {\n",
       "        vertical-align: middle;\n",
       "    }\n",
       "\n",
       "    .dataframe tbody tr th {\n",
       "        vertical-align: top;\n",
       "    }\n",
       "\n",
       "    .dataframe thead th {\n",
       "        text-align: right;\n",
       "    }\n",
       "</style>\n",
       "<table border=\"1\" class=\"dataframe\">\n",
       "  <thead>\n",
       "    <tr style=\"text-align: right;\">\n",
       "      <th></th>\n",
       "      <th>name</th>\n",
       "      <th>id</th>\n",
       "      <th>nametype</th>\n",
       "      <th>recclass</th>\n",
       "      <th>mass</th>\n",
       "      <th>fall</th>\n",
       "      <th>year</th>\n",
       "      <th>reclat</th>\n",
       "      <th>reclong</th>\n",
       "      <th>geolocation</th>\n",
       "    </tr>\n",
       "  </thead>\n",
       "  <tbody>\n",
       "    <tr>\n",
       "      <th>0</th>\n",
       "      <td>Aachen</td>\n",
       "      <td>1</td>\n",
       "      <td>Valid</td>\n",
       "      <td>L5</td>\n",
       "      <td>21</td>\n",
       "      <td>Fell</td>\n",
       "      <td>1880-01-01T00:00:00.000</td>\n",
       "      <td>50.775000</td>\n",
       "      <td>6.083330</td>\n",
       "      <td>{'latitude': '50.775', 'longitude': '6.08333'}</td>\n",
       "    </tr>\n",
       "    <tr>\n",
       "      <th>1</th>\n",
       "      <td>Aarhus</td>\n",
       "      <td>2</td>\n",
       "      <td>Valid</td>\n",
       "      <td>H6</td>\n",
       "      <td>720</td>\n",
       "      <td>Fell</td>\n",
       "      <td>1951-01-01T00:00:00.000</td>\n",
       "      <td>56.183330</td>\n",
       "      <td>10.233330</td>\n",
       "      <td>{'latitude': '56.18333', 'longitude': '10.23333'}</td>\n",
       "    </tr>\n",
       "    <tr>\n",
       "      <th>2</th>\n",
       "      <td>Abee</td>\n",
       "      <td>6</td>\n",
       "      <td>Valid</td>\n",
       "      <td>EH4</td>\n",
       "      <td>107000</td>\n",
       "      <td>Fell</td>\n",
       "      <td>1952-01-01T00:00:00.000</td>\n",
       "      <td>54.216670</td>\n",
       "      <td>-113.000000</td>\n",
       "      <td>{'latitude': '54.21667', 'longitude': '-113.0'}</td>\n",
       "    </tr>\n",
       "    <tr>\n",
       "      <th>3</th>\n",
       "      <td>Acapulco</td>\n",
       "      <td>10</td>\n",
       "      <td>Valid</td>\n",
       "      <td>Acapulcoite</td>\n",
       "      <td>1914</td>\n",
       "      <td>Fell</td>\n",
       "      <td>1976-01-01T00:00:00.000</td>\n",
       "      <td>16.883330</td>\n",
       "      <td>-99.900000</td>\n",
       "      <td>{'latitude': '16.88333', 'longitude': '-99.9'}</td>\n",
       "    </tr>\n",
       "    <tr>\n",
       "      <th>4</th>\n",
       "      <td>Achiras</td>\n",
       "      <td>370</td>\n",
       "      <td>Valid</td>\n",
       "      <td>L6</td>\n",
       "      <td>780</td>\n",
       "      <td>Fell</td>\n",
       "      <td>1902-01-01T00:00:00.000</td>\n",
       "      <td>-33.166670</td>\n",
       "      <td>-64.950000</td>\n",
       "      <td>{'latitude': '-33.16667', 'longitude': '-64.95'}</td>\n",
       "    </tr>\n",
       "  </tbody>\n",
       "</table>\n",
       "</div>"
      ],
      "text/plain": [
       "       name   id nametype     recclass    mass  fall                     year  \\\n",
       "0    Aachen    1    Valid           L5      21  Fell  1880-01-01T00:00:00.000   \n",
       "1    Aarhus    2    Valid           H6     720  Fell  1951-01-01T00:00:00.000   \n",
       "2      Abee    6    Valid          EH4  107000  Fell  1952-01-01T00:00:00.000   \n",
       "3  Acapulco   10    Valid  Acapulcoite    1914  Fell  1976-01-01T00:00:00.000   \n",
       "4   Achiras  370    Valid           L6     780  Fell  1902-01-01T00:00:00.000   \n",
       "\n",
       "       reclat      reclong                                        geolocation  \n",
       "0   50.775000     6.083330     {'latitude': '50.775', 'longitude': '6.08333'}  \n",
       "1   56.183330    10.233330  {'latitude': '56.18333', 'longitude': '10.23333'}  \n",
       "2   54.216670  -113.000000    {'latitude': '54.21667', 'longitude': '-113.0'}  \n",
       "3   16.883330   -99.900000     {'latitude': '16.88333', 'longitude': '-99.9'}  \n",
       "4  -33.166670   -64.950000   {'latitude': '-33.16667', 'longitude': '-64.95'}  "
      ]
     },
     "execution_count": 17,
     "metadata": {},
     "output_type": "execute_result"
    }
   ],
   "source": [
    "meteorite.head()"
   ]
  },
  {
   "cell_type": "code",
   "execution_count": 18,
   "id": "de3fa9d8",
   "metadata": {},
   "outputs": [
    {
     "name": "stdout",
     "output_type": "stream",
     "text": [
      "<class 'pandas.core.frame.DataFrame'>\n",
      "RangeIndex: 45716 entries, 0 to 45715\n",
      "Data columns (total 10 columns):\n",
      " #   Column       Non-Null Count  Dtype \n",
      "---  ------       --------------  ----- \n",
      " 0   name         45716 non-null  object\n",
      " 1   id           45716 non-null  object\n",
      " 2   nametype     45716 non-null  object\n",
      " 3   recclass     45716 non-null  object\n",
      " 4   mass         45585 non-null  object\n",
      " 5   fall         45716 non-null  object\n",
      " 6   year         45425 non-null  object\n",
      " 7   reclat       38401 non-null  object\n",
      " 8   reclong      38401 non-null  object\n",
      " 9   geolocation  38401 non-null  object\n",
      "dtypes: object(10)\n",
      "memory usage: 3.5+ MB\n"
     ]
    }
   ],
   "source": [
    "meteorite.info()"
   ]
  },
  {
   "cell_type": "code",
   "execution_count": 19,
   "id": "524dc1a7",
   "metadata": {},
   "outputs": [],
   "source": [
    "meteorite['id'] = meteorite['id'].astype('int64')"
   ]
  },
  {
   "cell_type": "code",
   "execution_count": 20,
   "id": "d975d448",
   "metadata": {
    "scrolled": true
   },
   "outputs": [],
   "source": [
    "meteorite.rename(columns={\"mass\" : \"mass (g)\"}, inplace=True)"
   ]
  },
  {
   "cell_type": "code",
   "execution_count": 21,
   "id": "1e87ce5e",
   "metadata": {},
   "outputs": [],
   "source": [
    "meteorite['mass (g)'] = meteorite['mass (g)'].apply(lambda x: float(x))"
   ]
  },
  {
   "cell_type": "code",
   "execution_count": 22,
   "id": "bf0c354b",
   "metadata": {},
   "outputs": [],
   "source": [
    "meteorite['year'] = pd.to_datetime(meteorite['year'], errors='coerce')"
   ]
  },
  {
   "cell_type": "code",
   "execution_count": 23,
   "id": "8d21f67b",
   "metadata": {},
   "outputs": [],
   "source": [
    "meteorite['reclat'] = meteorite['reclat'].apply(lambda x: float(x))\n",
    "meteorite['reclong'] = meteorite['reclong'].apply(lambda x: float(x))"
   ]
  },
  {
   "cell_type": "code",
   "execution_count": 24,
   "id": "3d1f6192",
   "metadata": {},
   "outputs": [
    {
     "name": "stderr",
     "output_type": "stream",
     "text": [
      "C:\\Users\\aaa\\anaconda3\\lib\\site-packages\\pandas\\core\\dtypes\\cast.py:122: ShapelyDeprecationWarning: The array interface is deprecated and will no longer work in Shapely 2.0. Convert the '.coords' to a numpy array instead.\n",
      "  arr = construct_1d_object_array_from_listlike(values)\n"
     ]
    }
   ],
   "source": [
    "from shapely.geometry import Point\n",
    "\n",
    "# Function to create Point objects\n",
    "def create_point(row):\n",
    "    return Point(float(row['reclong']), float(row['reclat']))\n",
    "\n",
    "# Apply the function to each row to create the 'geometry' column\n",
    "meteorite['geometry'] = meteorite.apply(create_point, axis=1)"
   ]
  },
  {
   "cell_type": "code",
   "execution_count": 25,
   "id": "648c7d88",
   "metadata": {},
   "outputs": [
    {
     "data": {
      "text/plain": [
       "name                   object\n",
       "id                      int64\n",
       "nametype               object\n",
       "recclass               object\n",
       "mass (g)              float64\n",
       "fall                   object\n",
       "year           datetime64[ns]\n",
       "reclat                float64\n",
       "reclong               float64\n",
       "geolocation            object\n",
       "geometry               object\n",
       "dtype: object"
      ]
     },
     "execution_count": 25,
     "metadata": {},
     "output_type": "execute_result"
    }
   ],
   "source": [
    "meteorite.dtypes"
   ]
  },
  {
   "cell_type": "code",
   "execution_count": 26,
   "id": "4beacb30",
   "metadata": {},
   "outputs": [
    {
     "data": {
      "text/html": [
       "<div>\n",
       "<style scoped>\n",
       "    .dataframe tbody tr th:only-of-type {\n",
       "        vertical-align: middle;\n",
       "    }\n",
       "\n",
       "    .dataframe tbody tr th {\n",
       "        vertical-align: top;\n",
       "    }\n",
       "\n",
       "    .dataframe thead th {\n",
       "        text-align: right;\n",
       "    }\n",
       "</style>\n",
       "<table border=\"1\" class=\"dataframe\">\n",
       "  <thead>\n",
       "    <tr style=\"text-align: right;\">\n",
       "      <th></th>\n",
       "      <th>name</th>\n",
       "      <th>id</th>\n",
       "      <th>nametype</th>\n",
       "      <th>recclass</th>\n",
       "      <th>mass (g)</th>\n",
       "      <th>fall</th>\n",
       "      <th>year</th>\n",
       "      <th>reclat</th>\n",
       "      <th>reclong</th>\n",
       "      <th>geolocation</th>\n",
       "      <th>geometry</th>\n",
       "    </tr>\n",
       "  </thead>\n",
       "  <tbody>\n",
       "    <tr>\n",
       "      <th>0</th>\n",
       "      <td>Aachen</td>\n",
       "      <td>1</td>\n",
       "      <td>Valid</td>\n",
       "      <td>L5</td>\n",
       "      <td>21.0</td>\n",
       "      <td>Fell</td>\n",
       "      <td>1880-01-01</td>\n",
       "      <td>50.77500</td>\n",
       "      <td>6.08333</td>\n",
       "      <td>{'latitude': '50.775', 'longitude': '6.08333'}</td>\n",
       "      <td>POINT (6.08333 50.775)</td>\n",
       "    </tr>\n",
       "    <tr>\n",
       "      <th>1</th>\n",
       "      <td>Aarhus</td>\n",
       "      <td>2</td>\n",
       "      <td>Valid</td>\n",
       "      <td>H6</td>\n",
       "      <td>720.0</td>\n",
       "      <td>Fell</td>\n",
       "      <td>1951-01-01</td>\n",
       "      <td>56.18333</td>\n",
       "      <td>10.23333</td>\n",
       "      <td>{'latitude': '56.18333', 'longitude': '10.23333'}</td>\n",
       "      <td>POINT (10.23333 56.18333)</td>\n",
       "    </tr>\n",
       "    <tr>\n",
       "      <th>2</th>\n",
       "      <td>Abee</td>\n",
       "      <td>6</td>\n",
       "      <td>Valid</td>\n",
       "      <td>EH4</td>\n",
       "      <td>107000.0</td>\n",
       "      <td>Fell</td>\n",
       "      <td>1952-01-01</td>\n",
       "      <td>54.21667</td>\n",
       "      <td>-113.00000</td>\n",
       "      <td>{'latitude': '54.21667', 'longitude': '-113.0'}</td>\n",
       "      <td>POINT (-113 54.21667)</td>\n",
       "    </tr>\n",
       "    <tr>\n",
       "      <th>3</th>\n",
       "      <td>Acapulco</td>\n",
       "      <td>10</td>\n",
       "      <td>Valid</td>\n",
       "      <td>Acapulcoite</td>\n",
       "      <td>1914.0</td>\n",
       "      <td>Fell</td>\n",
       "      <td>1976-01-01</td>\n",
       "      <td>16.88333</td>\n",
       "      <td>-99.90000</td>\n",
       "      <td>{'latitude': '16.88333', 'longitude': '-99.9'}</td>\n",
       "      <td>POINT (-99.9 16.88333)</td>\n",
       "    </tr>\n",
       "    <tr>\n",
       "      <th>4</th>\n",
       "      <td>Achiras</td>\n",
       "      <td>370</td>\n",
       "      <td>Valid</td>\n",
       "      <td>L6</td>\n",
       "      <td>780.0</td>\n",
       "      <td>Fell</td>\n",
       "      <td>1902-01-01</td>\n",
       "      <td>-33.16667</td>\n",
       "      <td>-64.95000</td>\n",
       "      <td>{'latitude': '-33.16667', 'longitude': '-64.95'}</td>\n",
       "      <td>POINT (-64.95 -33.16667)</td>\n",
       "    </tr>\n",
       "  </tbody>\n",
       "</table>\n",
       "</div>"
      ],
      "text/plain": [
       "       name   id nametype     recclass  mass (g)  fall       year    reclat  \\\n",
       "0    Aachen    1    Valid           L5      21.0  Fell 1880-01-01  50.77500   \n",
       "1    Aarhus    2    Valid           H6     720.0  Fell 1951-01-01  56.18333   \n",
       "2      Abee    6    Valid          EH4  107000.0  Fell 1952-01-01  54.21667   \n",
       "3  Acapulco   10    Valid  Acapulcoite    1914.0  Fell 1976-01-01  16.88333   \n",
       "4   Achiras  370    Valid           L6     780.0  Fell 1902-01-01 -33.16667   \n",
       "\n",
       "     reclong                                        geolocation  \\\n",
       "0    6.08333     {'latitude': '50.775', 'longitude': '6.08333'}   \n",
       "1   10.23333  {'latitude': '56.18333', 'longitude': '10.23333'}   \n",
       "2 -113.00000    {'latitude': '54.21667', 'longitude': '-113.0'}   \n",
       "3  -99.90000     {'latitude': '16.88333', 'longitude': '-99.9'}   \n",
       "4  -64.95000   {'latitude': '-33.16667', 'longitude': '-64.95'}   \n",
       "\n",
       "                    geometry  \n",
       "0     POINT (6.08333 50.775)  \n",
       "1  POINT (10.23333 56.18333)  \n",
       "2      POINT (-113 54.21667)  \n",
       "3     POINT (-99.9 16.88333)  \n",
       "4   POINT (-64.95 -33.16667)  "
      ]
     },
     "execution_count": 26,
     "metadata": {},
     "output_type": "execute_result"
    }
   ],
   "source": [
    "meteorite.head()"
   ]
  },
  {
   "cell_type": "code",
   "execution_count": 27,
   "id": "1aaaf433",
   "metadata": {
    "scrolled": true
   },
   "outputs": [
    {
     "data": {
      "text/plain": [
       "name              0\n",
       "id                0\n",
       "nametype          0\n",
       "recclass          0\n",
       "mass (g)        131\n",
       "fall              0\n",
       "year            312\n",
       "reclat         7315\n",
       "reclong        7315\n",
       "geolocation    7315\n",
       "geometry          0\n",
       "dtype: int64"
      ]
     },
     "execution_count": 27,
     "metadata": {},
     "output_type": "execute_result"
    }
   ],
   "source": [
    "meteorite.isnull().sum()"
   ]
  },
  {
   "cell_type": "markdown",
   "id": "8c1e430f",
   "metadata": {},
   "source": [
    "- **Split data into three parts for future analysis in SQL**"
   ]
  },
  {
   "cell_type": "code",
   "execution_count": 31,
   "id": "9bc34794",
   "metadata": {},
   "outputs": [],
   "source": [
    "meteorite_info = meteorite[['id', 'name', 'nametype', 'recclass', 'fall']]"
   ]
  },
  {
   "cell_type": "code",
   "execution_count": 32,
   "id": "94a3b86c",
   "metadata": {},
   "outputs": [
    {
     "data": {
      "text/html": [
       "<div>\n",
       "<style scoped>\n",
       "    .dataframe tbody tr th:only-of-type {\n",
       "        vertical-align: middle;\n",
       "    }\n",
       "\n",
       "    .dataframe tbody tr th {\n",
       "        vertical-align: top;\n",
       "    }\n",
       "\n",
       "    .dataframe thead th {\n",
       "        text-align: right;\n",
       "    }\n",
       "</style>\n",
       "<table border=\"1\" class=\"dataframe\">\n",
       "  <thead>\n",
       "    <tr style=\"text-align: right;\">\n",
       "      <th></th>\n",
       "      <th>id</th>\n",
       "      <th>name</th>\n",
       "      <th>nametype</th>\n",
       "      <th>recclass</th>\n",
       "      <th>fall</th>\n",
       "    </tr>\n",
       "  </thead>\n",
       "  <tbody>\n",
       "    <tr>\n",
       "      <th>0</th>\n",
       "      <td>1</td>\n",
       "      <td>Aachen</td>\n",
       "      <td>Valid</td>\n",
       "      <td>L5</td>\n",
       "      <td>Fell</td>\n",
       "    </tr>\n",
       "    <tr>\n",
       "      <th>1</th>\n",
       "      <td>2</td>\n",
       "      <td>Aarhus</td>\n",
       "      <td>Valid</td>\n",
       "      <td>H6</td>\n",
       "      <td>Fell</td>\n",
       "    </tr>\n",
       "    <tr>\n",
       "      <th>2</th>\n",
       "      <td>6</td>\n",
       "      <td>Abee</td>\n",
       "      <td>Valid</td>\n",
       "      <td>EH4</td>\n",
       "      <td>Fell</td>\n",
       "    </tr>\n",
       "    <tr>\n",
       "      <th>3</th>\n",
       "      <td>10</td>\n",
       "      <td>Acapulco</td>\n",
       "      <td>Valid</td>\n",
       "      <td>Acapulcoite</td>\n",
       "      <td>Fell</td>\n",
       "    </tr>\n",
       "    <tr>\n",
       "      <th>4</th>\n",
       "      <td>370</td>\n",
       "      <td>Achiras</td>\n",
       "      <td>Valid</td>\n",
       "      <td>L6</td>\n",
       "      <td>Fell</td>\n",
       "    </tr>\n",
       "  </tbody>\n",
       "</table>\n",
       "</div>"
      ],
      "text/plain": [
       "    id      name nametype     recclass  fall\n",
       "0    1    Aachen    Valid           L5  Fell\n",
       "1    2    Aarhus    Valid           H6  Fell\n",
       "2    6      Abee    Valid          EH4  Fell\n",
       "3   10  Acapulco    Valid  Acapulcoite  Fell\n",
       "4  370   Achiras    Valid           L6  Fell"
      ]
     },
     "execution_count": 32,
     "metadata": {},
     "output_type": "execute_result"
    }
   ],
   "source": [
    "meteorite_info.head()"
   ]
  },
  {
   "cell_type": "code",
   "execution_count": 33,
   "id": "784d5b5e",
   "metadata": {},
   "outputs": [],
   "source": [
    "#meteorite_info.to_excel('Landing meteorite information.xlsx', header=True)"
   ]
  },
  {
   "cell_type": "code",
   "execution_count": 34,
   "id": "22295fad",
   "metadata": {},
   "outputs": [],
   "source": [
    "meteorite_mass = meteorite[['id', 'recclass', 'mass (g)']]"
   ]
  },
  {
   "cell_type": "code",
   "execution_count": 35,
   "id": "d70df957",
   "metadata": {},
   "outputs": [
    {
     "data": {
      "text/html": [
       "<div>\n",
       "<style scoped>\n",
       "    .dataframe tbody tr th:only-of-type {\n",
       "        vertical-align: middle;\n",
       "    }\n",
       "\n",
       "    .dataframe tbody tr th {\n",
       "        vertical-align: top;\n",
       "    }\n",
       "\n",
       "    .dataframe thead th {\n",
       "        text-align: right;\n",
       "    }\n",
       "</style>\n",
       "<table border=\"1\" class=\"dataframe\">\n",
       "  <thead>\n",
       "    <tr style=\"text-align: right;\">\n",
       "      <th></th>\n",
       "      <th>id</th>\n",
       "      <th>recclass</th>\n",
       "      <th>mass (g)</th>\n",
       "    </tr>\n",
       "  </thead>\n",
       "  <tbody>\n",
       "    <tr>\n",
       "      <th>0</th>\n",
       "      <td>1</td>\n",
       "      <td>L5</td>\n",
       "      <td>21.0</td>\n",
       "    </tr>\n",
       "    <tr>\n",
       "      <th>1</th>\n",
       "      <td>2</td>\n",
       "      <td>H6</td>\n",
       "      <td>720.0</td>\n",
       "    </tr>\n",
       "    <tr>\n",
       "      <th>2</th>\n",
       "      <td>6</td>\n",
       "      <td>EH4</td>\n",
       "      <td>107000.0</td>\n",
       "    </tr>\n",
       "    <tr>\n",
       "      <th>3</th>\n",
       "      <td>10</td>\n",
       "      <td>Acapulcoite</td>\n",
       "      <td>1914.0</td>\n",
       "    </tr>\n",
       "    <tr>\n",
       "      <th>4</th>\n",
       "      <td>370</td>\n",
       "      <td>L6</td>\n",
       "      <td>780.0</td>\n",
       "    </tr>\n",
       "  </tbody>\n",
       "</table>\n",
       "</div>"
      ],
      "text/plain": [
       "    id     recclass  mass (g)\n",
       "0    1           L5      21.0\n",
       "1    2           H6     720.0\n",
       "2    6          EH4  107000.0\n",
       "3   10  Acapulcoite    1914.0\n",
       "4  370           L6     780.0"
      ]
     },
     "execution_count": 35,
     "metadata": {},
     "output_type": "execute_result"
    }
   ],
   "source": [
    "meteorite_mass.head()"
   ]
  },
  {
   "cell_type": "code",
   "execution_count": 36,
   "id": "74d3ff69",
   "metadata": {},
   "outputs": [],
   "source": [
    "#meteorite_mass.to_excel('Landing meteorite mass.xlsx', header=True)"
   ]
  },
  {
   "cell_type": "code",
   "execution_count": 37,
   "id": "ffda2176",
   "metadata": {},
   "outputs": [],
   "source": [
    "meteorite_landing = meteorite[['id', 'name', 'year', 'reclat', 'reclong', 'geometry']]"
   ]
  },
  {
   "cell_type": "code",
   "execution_count": 38,
   "id": "ce2b0d86",
   "metadata": {},
   "outputs": [
    {
     "data": {
      "text/html": [
       "<div>\n",
       "<style scoped>\n",
       "    .dataframe tbody tr th:only-of-type {\n",
       "        vertical-align: middle;\n",
       "    }\n",
       "\n",
       "    .dataframe tbody tr th {\n",
       "        vertical-align: top;\n",
       "    }\n",
       "\n",
       "    .dataframe thead th {\n",
       "        text-align: right;\n",
       "    }\n",
       "</style>\n",
       "<table border=\"1\" class=\"dataframe\">\n",
       "  <thead>\n",
       "    <tr style=\"text-align: right;\">\n",
       "      <th></th>\n",
       "      <th>id</th>\n",
       "      <th>name</th>\n",
       "      <th>year</th>\n",
       "      <th>reclat</th>\n",
       "      <th>reclong</th>\n",
       "      <th>geometry</th>\n",
       "    </tr>\n",
       "  </thead>\n",
       "  <tbody>\n",
       "    <tr>\n",
       "      <th>0</th>\n",
       "      <td>1</td>\n",
       "      <td>Aachen</td>\n",
       "      <td>1880-01-01</td>\n",
       "      <td>50.77500</td>\n",
       "      <td>6.08333</td>\n",
       "      <td>POINT (6.08333 50.775)</td>\n",
       "    </tr>\n",
       "    <tr>\n",
       "      <th>1</th>\n",
       "      <td>2</td>\n",
       "      <td>Aarhus</td>\n",
       "      <td>1951-01-01</td>\n",
       "      <td>56.18333</td>\n",
       "      <td>10.23333</td>\n",
       "      <td>POINT (10.23333 56.18333)</td>\n",
       "    </tr>\n",
       "    <tr>\n",
       "      <th>2</th>\n",
       "      <td>6</td>\n",
       "      <td>Abee</td>\n",
       "      <td>1952-01-01</td>\n",
       "      <td>54.21667</td>\n",
       "      <td>-113.00000</td>\n",
       "      <td>POINT (-113 54.21667)</td>\n",
       "    </tr>\n",
       "    <tr>\n",
       "      <th>3</th>\n",
       "      <td>10</td>\n",
       "      <td>Acapulco</td>\n",
       "      <td>1976-01-01</td>\n",
       "      <td>16.88333</td>\n",
       "      <td>-99.90000</td>\n",
       "      <td>POINT (-99.9 16.88333)</td>\n",
       "    </tr>\n",
       "    <tr>\n",
       "      <th>4</th>\n",
       "      <td>370</td>\n",
       "      <td>Achiras</td>\n",
       "      <td>1902-01-01</td>\n",
       "      <td>-33.16667</td>\n",
       "      <td>-64.95000</td>\n",
       "      <td>POINT (-64.95 -33.16667)</td>\n",
       "    </tr>\n",
       "  </tbody>\n",
       "</table>\n",
       "</div>"
      ],
      "text/plain": [
       "    id      name       year    reclat    reclong                   geometry\n",
       "0    1    Aachen 1880-01-01  50.77500    6.08333     POINT (6.08333 50.775)\n",
       "1    2    Aarhus 1951-01-01  56.18333   10.23333  POINT (10.23333 56.18333)\n",
       "2    6      Abee 1952-01-01  54.21667 -113.00000      POINT (-113 54.21667)\n",
       "3   10  Acapulco 1976-01-01  16.88333  -99.90000     POINT (-99.9 16.88333)\n",
       "4  370   Achiras 1902-01-01 -33.16667  -64.95000   POINT (-64.95 -33.16667)"
      ]
     },
     "execution_count": 38,
     "metadata": {},
     "output_type": "execute_result"
    }
   ],
   "source": [
    "meteorite_landing.head()"
   ]
  },
  {
   "cell_type": "code",
   "execution_count": 39,
   "id": "80425d15",
   "metadata": {},
   "outputs": [],
   "source": [
    "#meteorite_landing.to_excel('Landing meteorite time and location.xlsx', header=True)"
   ]
  },
  {
   "cell_type": "code",
   "execution_count": null,
   "id": "77e301e1",
   "metadata": {},
   "outputs": [],
   "source": [
    "#meteorite.dropna(inplace=True)"
   ]
  },
  {
   "cell_type": "markdown",
   "id": "98b6dc8b",
   "metadata": {},
   "source": [
    "- **remove latitude and longtitude that are zero**"
   ]
  },
  {
   "cell_type": "code",
   "execution_count": null,
   "id": "e5c1409b",
   "metadata": {},
   "outputs": [],
   "source": [
    "# unique_reclat_values = df['reclat'].unique()\n",
    "\n",
    "# # Check if 0 is in the unique values\n",
    "# if 0 in unique_reclat_values:\n",
    "#     print(\"The value 0 is present in the 'reclat' column.\")\n",
    "# else:\n",
    "#     print(\"The value 0 is not present in the 'reclat' column.\")\n",
    "\n",
    "# df = df[(df['reclat'] != 0) & (df['reclong'] != 0)]"
   ]
  },
  {
   "cell_type": "markdown",
   "id": "a3ccb08a",
   "metadata": {},
   "source": [
    "### Generate country information that can be imported into SQL Server"
   ]
  },
  {
   "cell_type": "code",
   "execution_count": null,
   "id": "41a43e9f",
   "metadata": {},
   "outputs": [],
   "source": [
    "#pip install pandas-geojson"
   ]
  },
  {
   "cell_type": "code",
   "execution_count": null,
   "id": "e8787ccc",
   "metadata": {},
   "outputs": [],
   "source": [
    "import pandas_geojson as pdg"
   ]
  },
  {
   "cell_type": "code",
   "execution_count": null,
   "id": "8e3ca060",
   "metadata": {},
   "outputs": [],
   "source": [
    "geo = pdg.read_geojson('world-administrative-boundaries.geojson')"
   ]
  },
  {
   "cell_type": "code",
   "execution_count": null,
   "id": "7d051752",
   "metadata": {},
   "outputs": [],
   "source": [
    "geo_df = geo.to_dataframe()"
   ]
  },
  {
   "cell_type": "code",
   "execution_count": null,
   "id": "c6a7e413",
   "metadata": {
    "scrolled": true
   },
   "outputs": [],
   "source": [
    "geo_df.head()"
   ]
  },
  {
   "cell_type": "code",
   "execution_count": null,
   "id": "8d142976",
   "metadata": {},
   "outputs": [],
   "source": [
    "geo_df['geometry.coordinates'][6]"
   ]
  },
  {
   "cell_type": "code",
   "execution_count": null,
   "id": "5958c6fb",
   "metadata": {},
   "outputs": [],
   "source": [
    "geo_df['geometry.type'].unique()"
   ]
  },
  {
   "cell_type": "code",
   "execution_count": null,
   "id": "999a018a",
   "metadata": {},
   "outputs": [],
   "source": [
    "country = pdg.read_geojson('Longitude_Graticules_and_World_Countries_Boundaries.geojson')"
   ]
  },
  {
   "cell_type": "code",
   "execution_count": null,
   "id": "d37d3ebc",
   "metadata": {},
   "outputs": [],
   "source": [
    "country_df = country.to_dataframe()"
   ]
  },
  {
   "cell_type": "code",
   "execution_count": null,
   "id": "9ce09cfc",
   "metadata": {},
   "outputs": [],
   "source": [
    "country_df.head()"
   ]
  },
  {
   "cell_type": "code",
   "execution_count": null,
   "id": "d3f65d09",
   "metadata": {},
   "outputs": [],
   "source": [
    "country_df.to_csv('country.csv', header=True)"
   ]
  },
  {
   "cell_type": "code",
   "execution_count": null,
   "id": "a338dfea",
   "metadata": {},
   "outputs": [],
   "source": [
    "from osgeo import ogr\n",
    "import csv"
   ]
  },
  {
   "cell_type": "code",
   "execution_count": null,
   "id": "f4f08c71",
   "metadata": {},
   "outputs": [],
   "source": [
    "# Open GeoJSON file\n",
    "geojson_ds = ogr.Open('world-administrative-boundaries.geojson')\n",
    "if geojson_ds is None:\n",
    "    print(\"Could not open input GeoJSON file\")\n",
    "    exit(1)\n",
    "\n",
    "# Get the first layer in the GeoJSON file\n",
    "layer = geojson_ds.GetLayer(0)\n",
    "\n",
    "# Create a WKT file for output\n",
    "wkt_file = open('country.wkt', 'w')\n",
    "\n",
    "# Iterate through features and convert geometries to WKT\n",
    "for feature in layer:\n",
    "    geom = feature.GetGeometryRef()\n",
    "    wkt_geometry = geom.ExportToWkt()\n",
    "    wkt_file.write(wkt_geometry + '\\n')\n",
    "\n",
    "# Close the WKT file and GeoJSON dataset\n",
    "wkt_file.close()\n",
    "geojson_ds = None"
   ]
  },
  {
   "cell_type": "code",
   "execution_count": null,
   "id": "f1f49347",
   "metadata": {},
   "outputs": [],
   "source": [
    "# Open GeoJSON file\n",
    "geojson_ds = ogr.Open('world-administrative-boundaries.geojson')\n",
    "if geojson_ds is None:\n",
    "    print(\"Could not open input GeoJSON file\")\n",
    "    exit(1)\n",
    "\n",
    "# Get the first layer in the GeoJSON file\n",
    "layer = geojson_ds.GetLayer(0)\n",
    "\n",
    "# Open a CSV file for writing\n",
    "with open('world_country.csv', 'w', newline='') as csvfile:\n",
    "    fieldnames = ['continent', 'region', 'name', 'id', 'WKT']\n",
    "    writer = csv.DictWriter(csvfile, fieldnames=fieldnames)\n",
    "\n",
    "    # Write CSV header\n",
    "    writer.writeheader()\n",
    "\n",
    "    # Iterate through features and convert geometries to WKT\n",
    "    for feature in layer:\n",
    "        continent = feature.GetField('continent')\n",
    "        region = feature.GetField('region')\n",
    "        name = feature.GetField('name')  # Change 'Name' to the actual field name\n",
    "        id = feature.GetField('color_code')  # Change 'Description' to the actual field name\n",
    "        geom = feature.GetGeometryRef()\n",
    "        wkt_geometry = geom.ExportToWkt()\n",
    "\n",
    "        # Write feature information to CSV\n",
    "        writer.writerow({'continent': continent, 'region' : region,\n",
    "                         'name': name, 'id': id, 'WKT': wkt_geometry})\n",
    "\n",
    "# Close the GeoJSON dataset\n",
    "geojson_ds = None"
   ]
  },
  {
   "cell_type": "code",
   "execution_count": null,
   "id": "a9278a21",
   "metadata": {},
   "outputs": [],
   "source": [
    "# Open GeoJSON file\n",
    "geojson_ds = ogr.Open('Longitude_Graticules_and_World_Countries_Boundaries.geojson')\n",
    "if geojson_ds is None:\n",
    "    print(\"Could not open input GeoJSON file\")\n",
    "    exit(1)\n",
    "\n",
    "# Get the first layer in the GeoJSON file\n",
    "layer = geojson_ds.GetLayer(0)\n",
    "\n",
    "# Open a CSV file for writing\n",
    "with open('world_country_nonadminstrative.csv', 'w', newline='') as csvfile:\n",
    "    fieldnames = ['country', 'coordinates']\n",
    "    writer = csv.DictWriter(csvfile, fieldnames=fieldnames)\n",
    "\n",
    "    # Write CSV header\n",
    "    writer.writeheader()\n",
    "\n",
    "    # Iterate through features and convert geometries to WKT\n",
    "    for feature in layer:\n",
    "        country = feature.GetField('CNTRY_NAME')\n",
    "        geom = feature.GetGeometryRef()\n",
    "        wkt_geometry = geom.ExportToWkt()\n",
    "\n",
    "        # Write feature information to CSV\n",
    "        writer.writerow({'country': country, 'coordinates': wkt_geometry})\n",
    "\n",
    "# Close the GeoJSON dataset\n",
    "geojson_ds = None"
   ]
  },
  {
   "cell_type": "markdown",
   "id": "4f09d1f9",
   "metadata": {},
   "source": [
    "### an alternative way of getting country info"
   ]
  },
  {
   "cell_type": "code",
   "execution_count": 43,
   "id": "bc93c17b",
   "metadata": {},
   "outputs": [
    {
     "name": "stdout",
     "output_type": "stream",
     "text": [
      "Collecting reverse_geocoderNote: you may need to restart the kernel to use updated packages.\n",
      "\n",
      "  Downloading reverse_geocoder-1.5.1.tar.gz (2.2 MB)\n",
      "Collecting pycountry\n",
      "  Downloading pycountry-24.6.1-py3-none-any.whl (6.3 MB)\n",
      "Requirement already satisfied: numpy>=1.11.0 in c:\\users\\aaa\\anaconda3\\lib\\site-packages (from reverse_geocoder) (1.21.5)\n",
      "Requirement already satisfied: scipy>=0.17.1 in c:\\users\\aaa\\anaconda3\\lib\\site-packages (from reverse_geocoder) (1.9.3)\n",
      "Building wheels for collected packages: reverse-geocoder\n",
      "  Building wheel for reverse-geocoder (setup.py): started\n",
      "  Building wheel for reverse-geocoder (setup.py): finished with status 'done'\n",
      "  Created wheel for reverse-geocoder: filename=reverse_geocoder-1.5.1-py3-none-any.whl size=2268088 sha256=890c0f1cedd063da07739224a2960c7bcb4d442a1392db4b2aa462a6bccc1663\n",
      "  Stored in directory: c:\\users\\aaa\\appdata\\local\\pip\\cache\\wheels\\10\\05\\be\\d2edd4ff207cf625ce8bd20cf1493c27838828e8920aff9f4e\n",
      "Successfully built reverse-geocoder\n",
      "Installing collected packages: reverse-geocoder, pycountry\n",
      "Successfully installed pycountry-24.6.1 reverse-geocoder-1.5.1\n"
     ]
    }
   ],
   "source": [
    "#pip install reverse_geocoder pycountry"
   ]
  },
  {
   "cell_type": "code",
   "execution_count": null,
   "id": "45048b75",
   "metadata": {},
   "outputs": [
    {
     "name": "stdout",
     "output_type": "stream",
     "text": [
      "Loading formatted geocoded file...\n"
     ]
    }
   ],
   "source": [
    "import pandas as pd\n",
    "import reverse_geocoder as rg\n",
    "import pycountry\n",
    "\n",
    "def get_country(lat, lon):\n",
    "    try:\n",
    "        results = rg.search((lat, lon))\n",
    "        if results:\n",
    "            country_code = results[0]['cc']\n",
    "            return country_code\n",
    "        return 'Unknown'\n",
    "    except Exception as e:\n",
    "        return 'Unknown'\n",
    "\n",
    "def code_to_country_name(code):\n",
    "    try:\n",
    "        country = pycountry.countries.get(alpha_2=code)\n",
    "        if country:\n",
    "            return country.name\n",
    "        return 'Unknown'\n",
    "    except Exception:\n",
    "        return 'Unknown'\n",
    "\n",
    "# Convert coordinates to country names\n",
    "meteorite_landing['country'] = meteorite_landing.apply(lambda row: \n",
    "                                                       code_to_country_name(get_country(row['reclat'], row['reclong'])),\n",
    "                                                       axis=1)"
   ]
  },
  {
   "cell_type": "code",
   "execution_count": null,
   "id": "8d303035",
   "metadata": {
    "scrolled": true
   },
   "outputs": [],
   "source": [
    "# from geopy.geocoders import Nominatim\n",
    "# import time\n",
    "\n",
    "# # Initialize Nominatim geocoder\n",
    "# locator = Nominatim(user_agent=\"openmapquest\", timeout=10)\n",
    "\n",
    "# def get_country_from_coordinates(lat, long):\n",
    "#     retries = 3\n",
    "#     for _ in range(retries):\n",
    "#         try:\n",
    "#             location = locator.reverse((lat, long), exactly_one=True)\n",
    "#             if location:\n",
    "#                 address = location.raw['address']\n",
    "#                 country = address.get('country', '')\n",
    "#                 return country\n",
    "#         except Exception as e:\n",
    "#             print(f\"Error: {e}\")\n",
    "#             time.sleep(1)  # Wait for 1 second before retrying\n",
    "#     return None\n",
    "\n",
    "\n",
    "# # Apply the function to your dataframe\n",
    "# df[\"country\"] = df.apply(lambda row: get_country_from_coordinates(row[\"reclat\"], row[\"reclong\"]), axis=1)"
   ]
  },
  {
   "cell_type": "code",
   "execution_count": 40,
   "id": "e7109651",
   "metadata": {},
   "outputs": [],
   "source": [
    "from geopy.geocoders import Nominatim\n",
    "from geopy.exc import GeocoderTimedOut\n",
    "\n",
    "def get_country_name(latitude, longitude):\n",
    "    try:\n",
    "        # Initialize Nominatim geocoder\n",
    "        geolocator = Nominatim(user_agent=\"my_geocoder\")\n",
    "\n",
    "        # Reverse geocode the coordinates to get location information\n",
    "        location = geolocator.reverse((latitude, longitude), language='en', exactly_one=True)\n",
    "\n",
    "        # Check if location is not None\n",
    "        if location:\n",
    "            # Extract country name from the location information\n",
    "            country = location.raw['address'].get('country')\n",
    "            return country\n",
    "        else:\n",
    "            return None\n",
    "    except GeocoderTimedOut:\n",
    "        return None"
   ]
  },
  {
   "cell_type": "code",
<<<<<<< HEAD
   "execution_count": null,
   "id": "fdd1d4ef",
   "metadata": {},
   "outputs": [],
=======
   "execution_count": 28,
   "id": "a447e382",
   "metadata": {},
   "outputs": [
    {
     "ename": "GeocoderUnavailable",
     "evalue": "HTTPSConnectionPool(host='nominatim.openstreetmap.org', port=443): Max retries exceeded with url: /reverse?lat=-76.06436&lon=155.96937&format=json&accept-language=en&addressdetails=1 (Caused by NewConnectionError('<urllib3.connection.HTTPSConnection object at 0x764f0ed5fad0>: Failed to establish a new connection: [Errno 113] No route to host'))",
     "output_type": "error",
     "traceback": [
      "\u001b[0;31m---------------------------------------------------------------------------\u001b[0m",
      "\u001b[0;31mOSError\u001b[0m                                   Traceback (most recent call last)",
      "File \u001b[0;32m~/anaconda3/lib/python3.11/site-packages/urllib3/connection.py:174\u001b[0m, in \u001b[0;36mHTTPConnection._new_conn\u001b[0;34m(self)\u001b[0m\n\u001b[1;32m    173\u001b[0m \u001b[38;5;28;01mtry\u001b[39;00m:\n\u001b[0;32m--> 174\u001b[0m     conn \u001b[38;5;241m=\u001b[39m connection\u001b[38;5;241m.\u001b[39mcreate_connection(\n\u001b[1;32m    175\u001b[0m         (\u001b[38;5;28mself\u001b[39m\u001b[38;5;241m.\u001b[39m_dns_host, \u001b[38;5;28mself\u001b[39m\u001b[38;5;241m.\u001b[39mport), \u001b[38;5;28mself\u001b[39m\u001b[38;5;241m.\u001b[39mtimeout, \u001b[38;5;241m*\u001b[39m\u001b[38;5;241m*\u001b[39mextra_kw\n\u001b[1;32m    176\u001b[0m     )\n\u001b[1;32m    178\u001b[0m \u001b[38;5;28;01mexcept\u001b[39;00m SocketTimeout:\n",
      "File \u001b[0;32m~/anaconda3/lib/python3.11/site-packages/urllib3/util/connection.py:95\u001b[0m, in \u001b[0;36mcreate_connection\u001b[0;34m(address, timeout, source_address, socket_options)\u001b[0m\n\u001b[1;32m     94\u001b[0m \u001b[38;5;28;01mif\u001b[39;00m err \u001b[38;5;129;01mis\u001b[39;00m \u001b[38;5;129;01mnot\u001b[39;00m \u001b[38;5;28;01mNone\u001b[39;00m:\n\u001b[0;32m---> 95\u001b[0m     \u001b[38;5;28;01mraise\u001b[39;00m err\n\u001b[1;32m     97\u001b[0m \u001b[38;5;28;01mraise\u001b[39;00m socket\u001b[38;5;241m.\u001b[39merror(\u001b[38;5;124m\"\u001b[39m\u001b[38;5;124mgetaddrinfo returns an empty list\u001b[39m\u001b[38;5;124m\"\u001b[39m)\n",
      "File \u001b[0;32m~/anaconda3/lib/python3.11/site-packages/urllib3/util/connection.py:85\u001b[0m, in \u001b[0;36mcreate_connection\u001b[0;34m(address, timeout, source_address, socket_options)\u001b[0m\n\u001b[1;32m     84\u001b[0m     sock\u001b[38;5;241m.\u001b[39mbind(source_address)\n\u001b[0;32m---> 85\u001b[0m sock\u001b[38;5;241m.\u001b[39mconnect(sa)\n\u001b[1;32m     86\u001b[0m \u001b[38;5;28;01mreturn\u001b[39;00m sock\n",
      "\u001b[0;31mOSError\u001b[0m: [Errno 113] No route to host",
      "\nDuring handling of the above exception, another exception occurred:\n",
      "\u001b[0;31mNewConnectionError\u001b[0m                        Traceback (most recent call last)",
      "File \u001b[0;32m~/anaconda3/lib/python3.11/site-packages/urllib3/connectionpool.py:715\u001b[0m, in \u001b[0;36mHTTPConnectionPool.urlopen\u001b[0;34m(self, method, url, body, headers, retries, redirect, assert_same_host, timeout, pool_timeout, release_conn, chunked, body_pos, **response_kw)\u001b[0m\n\u001b[1;32m    714\u001b[0m \u001b[38;5;66;03m# Make the request on the httplib connection object.\u001b[39;00m\n\u001b[0;32m--> 715\u001b[0m httplib_response \u001b[38;5;241m=\u001b[39m \u001b[38;5;28mself\u001b[39m\u001b[38;5;241m.\u001b[39m_make_request(\n\u001b[1;32m    716\u001b[0m     conn,\n\u001b[1;32m    717\u001b[0m     method,\n\u001b[1;32m    718\u001b[0m     url,\n\u001b[1;32m    719\u001b[0m     timeout\u001b[38;5;241m=\u001b[39mtimeout_obj,\n\u001b[1;32m    720\u001b[0m     body\u001b[38;5;241m=\u001b[39mbody,\n\u001b[1;32m    721\u001b[0m     headers\u001b[38;5;241m=\u001b[39mheaders,\n\u001b[1;32m    722\u001b[0m     chunked\u001b[38;5;241m=\u001b[39mchunked,\n\u001b[1;32m    723\u001b[0m )\n\u001b[1;32m    725\u001b[0m \u001b[38;5;66;03m# If we're going to release the connection in ``finally:``, then\u001b[39;00m\n\u001b[1;32m    726\u001b[0m \u001b[38;5;66;03m# the response doesn't need to know about the connection. Otherwise\u001b[39;00m\n\u001b[1;32m    727\u001b[0m \u001b[38;5;66;03m# it will also try to release it and we'll have a double-release\u001b[39;00m\n\u001b[1;32m    728\u001b[0m \u001b[38;5;66;03m# mess.\u001b[39;00m\n",
      "File \u001b[0;32m~/anaconda3/lib/python3.11/site-packages/urllib3/connectionpool.py:404\u001b[0m, in \u001b[0;36mHTTPConnectionPool._make_request\u001b[0;34m(self, conn, method, url, timeout, chunked, **httplib_request_kw)\u001b[0m\n\u001b[1;32m    403\u001b[0m \u001b[38;5;28;01mtry\u001b[39;00m:\n\u001b[0;32m--> 404\u001b[0m     \u001b[38;5;28mself\u001b[39m\u001b[38;5;241m.\u001b[39m_validate_conn(conn)\n\u001b[1;32m    405\u001b[0m \u001b[38;5;28;01mexcept\u001b[39;00m (SocketTimeout, BaseSSLError) \u001b[38;5;28;01mas\u001b[39;00m e:\n\u001b[1;32m    406\u001b[0m     \u001b[38;5;66;03m# Py2 raises this as a BaseSSLError, Py3 raises it as socket timeout.\u001b[39;00m\n",
      "File \u001b[0;32m~/anaconda3/lib/python3.11/site-packages/urllib3/connectionpool.py:1058\u001b[0m, in \u001b[0;36mHTTPSConnectionPool._validate_conn\u001b[0;34m(self, conn)\u001b[0m\n\u001b[1;32m   1057\u001b[0m \u001b[38;5;28;01mif\u001b[39;00m \u001b[38;5;129;01mnot\u001b[39;00m \u001b[38;5;28mgetattr\u001b[39m(conn, \u001b[38;5;124m\"\u001b[39m\u001b[38;5;124msock\u001b[39m\u001b[38;5;124m\"\u001b[39m, \u001b[38;5;28;01mNone\u001b[39;00m):  \u001b[38;5;66;03m# AppEngine might not have  `.sock`\u001b[39;00m\n\u001b[0;32m-> 1058\u001b[0m     conn\u001b[38;5;241m.\u001b[39mconnect()\n\u001b[1;32m   1060\u001b[0m \u001b[38;5;28;01mif\u001b[39;00m \u001b[38;5;129;01mnot\u001b[39;00m conn\u001b[38;5;241m.\u001b[39mis_verified:\n",
      "File \u001b[0;32m~/anaconda3/lib/python3.11/site-packages/urllib3/connection.py:363\u001b[0m, in \u001b[0;36mHTTPSConnection.connect\u001b[0;34m(self)\u001b[0m\n\u001b[1;32m    361\u001b[0m \u001b[38;5;28;01mdef\u001b[39;00m \u001b[38;5;21mconnect\u001b[39m(\u001b[38;5;28mself\u001b[39m):\n\u001b[1;32m    362\u001b[0m     \u001b[38;5;66;03m# Add certificate verification\u001b[39;00m\n\u001b[0;32m--> 363\u001b[0m     \u001b[38;5;28mself\u001b[39m\u001b[38;5;241m.\u001b[39msock \u001b[38;5;241m=\u001b[39m conn \u001b[38;5;241m=\u001b[39m \u001b[38;5;28mself\u001b[39m\u001b[38;5;241m.\u001b[39m_new_conn()\n\u001b[1;32m    364\u001b[0m     hostname \u001b[38;5;241m=\u001b[39m \u001b[38;5;28mself\u001b[39m\u001b[38;5;241m.\u001b[39mhost\n",
      "File \u001b[0;32m~/anaconda3/lib/python3.11/site-packages/urllib3/connection.py:186\u001b[0m, in \u001b[0;36mHTTPConnection._new_conn\u001b[0;34m(self)\u001b[0m\n\u001b[1;32m    185\u001b[0m \u001b[38;5;28;01mexcept\u001b[39;00m SocketError \u001b[38;5;28;01mas\u001b[39;00m e:\n\u001b[0;32m--> 186\u001b[0m     \u001b[38;5;28;01mraise\u001b[39;00m NewConnectionError(\n\u001b[1;32m    187\u001b[0m         \u001b[38;5;28mself\u001b[39m, \u001b[38;5;124m\"\u001b[39m\u001b[38;5;124mFailed to establish a new connection: \u001b[39m\u001b[38;5;132;01m%s\u001b[39;00m\u001b[38;5;124m\"\u001b[39m \u001b[38;5;241m%\u001b[39m e\n\u001b[1;32m    188\u001b[0m     )\n\u001b[1;32m    190\u001b[0m \u001b[38;5;28;01mreturn\u001b[39;00m conn\n",
      "\u001b[0;31mNewConnectionError\u001b[0m: <urllib3.connection.HTTPSConnection object at 0x764f0ed5fad0>: Failed to establish a new connection: [Errno 113] No route to host",
      "\nDuring handling of the above exception, another exception occurred:\n",
      "\u001b[0;31mMaxRetryError\u001b[0m                             Traceback (most recent call last)",
      "File \u001b[0;32m~/anaconda3/lib/python3.11/site-packages/requests/adapters.py:486\u001b[0m, in \u001b[0;36mHTTPAdapter.send\u001b[0;34m(self, request, stream, timeout, verify, cert, proxies)\u001b[0m\n\u001b[1;32m    485\u001b[0m \u001b[38;5;28;01mtry\u001b[39;00m:\n\u001b[0;32m--> 486\u001b[0m     resp \u001b[38;5;241m=\u001b[39m conn\u001b[38;5;241m.\u001b[39murlopen(\n\u001b[1;32m    487\u001b[0m         method\u001b[38;5;241m=\u001b[39mrequest\u001b[38;5;241m.\u001b[39mmethod,\n\u001b[1;32m    488\u001b[0m         url\u001b[38;5;241m=\u001b[39murl,\n\u001b[1;32m    489\u001b[0m         body\u001b[38;5;241m=\u001b[39mrequest\u001b[38;5;241m.\u001b[39mbody,\n\u001b[1;32m    490\u001b[0m         headers\u001b[38;5;241m=\u001b[39mrequest\u001b[38;5;241m.\u001b[39mheaders,\n\u001b[1;32m    491\u001b[0m         redirect\u001b[38;5;241m=\u001b[39m\u001b[38;5;28;01mFalse\u001b[39;00m,\n\u001b[1;32m    492\u001b[0m         assert_same_host\u001b[38;5;241m=\u001b[39m\u001b[38;5;28;01mFalse\u001b[39;00m,\n\u001b[1;32m    493\u001b[0m         preload_content\u001b[38;5;241m=\u001b[39m\u001b[38;5;28;01mFalse\u001b[39;00m,\n\u001b[1;32m    494\u001b[0m         decode_content\u001b[38;5;241m=\u001b[39m\u001b[38;5;28;01mFalse\u001b[39;00m,\n\u001b[1;32m    495\u001b[0m         retries\u001b[38;5;241m=\u001b[39m\u001b[38;5;28mself\u001b[39m\u001b[38;5;241m.\u001b[39mmax_retries,\n\u001b[1;32m    496\u001b[0m         timeout\u001b[38;5;241m=\u001b[39mtimeout,\n\u001b[1;32m    497\u001b[0m         chunked\u001b[38;5;241m=\u001b[39mchunked,\n\u001b[1;32m    498\u001b[0m     )\n\u001b[1;32m    500\u001b[0m \u001b[38;5;28;01mexcept\u001b[39;00m (ProtocolError, \u001b[38;5;167;01mOSError\u001b[39;00m) \u001b[38;5;28;01mas\u001b[39;00m err:\n",
      "File \u001b[0;32m~/anaconda3/lib/python3.11/site-packages/urllib3/connectionpool.py:827\u001b[0m, in \u001b[0;36mHTTPConnectionPool.urlopen\u001b[0;34m(self, method, url, body, headers, retries, redirect, assert_same_host, timeout, pool_timeout, release_conn, chunked, body_pos, **response_kw)\u001b[0m\n\u001b[1;32m    824\u001b[0m     log\u001b[38;5;241m.\u001b[39mwarning(\n\u001b[1;32m    825\u001b[0m         \u001b[38;5;124m\"\u001b[39m\u001b[38;5;124mRetrying (\u001b[39m\u001b[38;5;132;01m%r\u001b[39;00m\u001b[38;5;124m) after connection broken by \u001b[39m\u001b[38;5;124m'\u001b[39m\u001b[38;5;132;01m%r\u001b[39;00m\u001b[38;5;124m'\u001b[39m\u001b[38;5;124m: \u001b[39m\u001b[38;5;132;01m%s\u001b[39;00m\u001b[38;5;124m\"\u001b[39m, retries, err, url\n\u001b[1;32m    826\u001b[0m     )\n\u001b[0;32m--> 827\u001b[0m     \u001b[38;5;28;01mreturn\u001b[39;00m \u001b[38;5;28mself\u001b[39m\u001b[38;5;241m.\u001b[39murlopen(\n\u001b[1;32m    828\u001b[0m         method,\n\u001b[1;32m    829\u001b[0m         url,\n\u001b[1;32m    830\u001b[0m         body,\n\u001b[1;32m    831\u001b[0m         headers,\n\u001b[1;32m    832\u001b[0m         retries,\n\u001b[1;32m    833\u001b[0m         redirect,\n\u001b[1;32m    834\u001b[0m         assert_same_host,\n\u001b[1;32m    835\u001b[0m         timeout\u001b[38;5;241m=\u001b[39mtimeout,\n\u001b[1;32m    836\u001b[0m         pool_timeout\u001b[38;5;241m=\u001b[39mpool_timeout,\n\u001b[1;32m    837\u001b[0m         release_conn\u001b[38;5;241m=\u001b[39mrelease_conn,\n\u001b[1;32m    838\u001b[0m         chunked\u001b[38;5;241m=\u001b[39mchunked,\n\u001b[1;32m    839\u001b[0m         body_pos\u001b[38;5;241m=\u001b[39mbody_pos,\n\u001b[1;32m    840\u001b[0m         \u001b[38;5;241m*\u001b[39m\u001b[38;5;241m*\u001b[39mresponse_kw\n\u001b[1;32m    841\u001b[0m     )\n\u001b[1;32m    843\u001b[0m \u001b[38;5;66;03m# Handle redirect?\u001b[39;00m\n",
      "File \u001b[0;32m~/anaconda3/lib/python3.11/site-packages/urllib3/connectionpool.py:827\u001b[0m, in \u001b[0;36mHTTPConnectionPool.urlopen\u001b[0;34m(self, method, url, body, headers, retries, redirect, assert_same_host, timeout, pool_timeout, release_conn, chunked, body_pos, **response_kw)\u001b[0m\n\u001b[1;32m    824\u001b[0m     log\u001b[38;5;241m.\u001b[39mwarning(\n\u001b[1;32m    825\u001b[0m         \u001b[38;5;124m\"\u001b[39m\u001b[38;5;124mRetrying (\u001b[39m\u001b[38;5;132;01m%r\u001b[39;00m\u001b[38;5;124m) after connection broken by \u001b[39m\u001b[38;5;124m'\u001b[39m\u001b[38;5;132;01m%r\u001b[39;00m\u001b[38;5;124m'\u001b[39m\u001b[38;5;124m: \u001b[39m\u001b[38;5;132;01m%s\u001b[39;00m\u001b[38;5;124m\"\u001b[39m, retries, err, url\n\u001b[1;32m    826\u001b[0m     )\n\u001b[0;32m--> 827\u001b[0m     \u001b[38;5;28;01mreturn\u001b[39;00m \u001b[38;5;28mself\u001b[39m\u001b[38;5;241m.\u001b[39murlopen(\n\u001b[1;32m    828\u001b[0m         method,\n\u001b[1;32m    829\u001b[0m         url,\n\u001b[1;32m    830\u001b[0m         body,\n\u001b[1;32m    831\u001b[0m         headers,\n\u001b[1;32m    832\u001b[0m         retries,\n\u001b[1;32m    833\u001b[0m         redirect,\n\u001b[1;32m    834\u001b[0m         assert_same_host,\n\u001b[1;32m    835\u001b[0m         timeout\u001b[38;5;241m=\u001b[39mtimeout,\n\u001b[1;32m    836\u001b[0m         pool_timeout\u001b[38;5;241m=\u001b[39mpool_timeout,\n\u001b[1;32m    837\u001b[0m         release_conn\u001b[38;5;241m=\u001b[39mrelease_conn,\n\u001b[1;32m    838\u001b[0m         chunked\u001b[38;5;241m=\u001b[39mchunked,\n\u001b[1;32m    839\u001b[0m         body_pos\u001b[38;5;241m=\u001b[39mbody_pos,\n\u001b[1;32m    840\u001b[0m         \u001b[38;5;241m*\u001b[39m\u001b[38;5;241m*\u001b[39mresponse_kw\n\u001b[1;32m    841\u001b[0m     )\n\u001b[1;32m    843\u001b[0m \u001b[38;5;66;03m# Handle redirect?\u001b[39;00m\n",
      "File \u001b[0;32m~/anaconda3/lib/python3.11/site-packages/urllib3/connectionpool.py:799\u001b[0m, in \u001b[0;36mHTTPConnectionPool.urlopen\u001b[0;34m(self, method, url, body, headers, retries, redirect, assert_same_host, timeout, pool_timeout, release_conn, chunked, body_pos, **response_kw)\u001b[0m\n\u001b[1;32m    797\u001b[0m     e \u001b[38;5;241m=\u001b[39m ProtocolError(\u001b[38;5;124m\"\u001b[39m\u001b[38;5;124mConnection aborted.\u001b[39m\u001b[38;5;124m\"\u001b[39m, e)\n\u001b[0;32m--> 799\u001b[0m retries \u001b[38;5;241m=\u001b[39m retries\u001b[38;5;241m.\u001b[39mincrement(\n\u001b[1;32m    800\u001b[0m     method, url, error\u001b[38;5;241m=\u001b[39me, _pool\u001b[38;5;241m=\u001b[39m\u001b[38;5;28mself\u001b[39m, _stacktrace\u001b[38;5;241m=\u001b[39msys\u001b[38;5;241m.\u001b[39mexc_info()[\u001b[38;5;241m2\u001b[39m]\n\u001b[1;32m    801\u001b[0m )\n\u001b[1;32m    802\u001b[0m retries\u001b[38;5;241m.\u001b[39msleep()\n",
      "File \u001b[0;32m~/anaconda3/lib/python3.11/site-packages/urllib3/util/retry.py:592\u001b[0m, in \u001b[0;36mRetry.increment\u001b[0;34m(self, method, url, response, error, _pool, _stacktrace)\u001b[0m\n\u001b[1;32m    591\u001b[0m \u001b[38;5;28;01mif\u001b[39;00m new_retry\u001b[38;5;241m.\u001b[39mis_exhausted():\n\u001b[0;32m--> 592\u001b[0m     \u001b[38;5;28;01mraise\u001b[39;00m MaxRetryError(_pool, url, error \u001b[38;5;129;01mor\u001b[39;00m ResponseError(cause))\n\u001b[1;32m    594\u001b[0m log\u001b[38;5;241m.\u001b[39mdebug(\u001b[38;5;124m\"\u001b[39m\u001b[38;5;124mIncremented Retry for (url=\u001b[39m\u001b[38;5;124m'\u001b[39m\u001b[38;5;132;01m%s\u001b[39;00m\u001b[38;5;124m'\u001b[39m\u001b[38;5;124m): \u001b[39m\u001b[38;5;132;01m%r\u001b[39;00m\u001b[38;5;124m\"\u001b[39m, url, new_retry)\n",
      "\u001b[0;31mMaxRetryError\u001b[0m: HTTPSConnectionPool(host='nominatim.openstreetmap.org', port=443): Max retries exceeded with url: /reverse?lat=-76.06436&lon=155.96937&format=json&accept-language=en&addressdetails=1 (Caused by NewConnectionError('<urllib3.connection.HTTPSConnection object at 0x764f0ed5fad0>: Failed to establish a new connection: [Errno 113] No route to host'))",
      "\nDuring handling of the above exception, another exception occurred:\n",
      "\u001b[0;31mConnectionError\u001b[0m                           Traceback (most recent call last)",
      "File \u001b[0;32m~/anaconda3/lib/python3.11/site-packages/geopy/adapters.py:482\u001b[0m, in \u001b[0;36mRequestsAdapter._request\u001b[0;34m(self, url, timeout, headers)\u001b[0m\n\u001b[1;32m    481\u001b[0m \u001b[38;5;28;01mtry\u001b[39;00m:\n\u001b[0;32m--> 482\u001b[0m     resp \u001b[38;5;241m=\u001b[39m \u001b[38;5;28mself\u001b[39m\u001b[38;5;241m.\u001b[39msession\u001b[38;5;241m.\u001b[39mget(url, timeout\u001b[38;5;241m=\u001b[39mtimeout, headers\u001b[38;5;241m=\u001b[39mheaders)\n\u001b[1;32m    483\u001b[0m \u001b[38;5;28;01mexcept\u001b[39;00m \u001b[38;5;167;01mException\u001b[39;00m \u001b[38;5;28;01mas\u001b[39;00m error:\n",
      "File \u001b[0;32m~/anaconda3/lib/python3.11/site-packages/requests/sessions.py:602\u001b[0m, in \u001b[0;36mSession.get\u001b[0;34m(self, url, **kwargs)\u001b[0m\n\u001b[1;32m    601\u001b[0m kwargs\u001b[38;5;241m.\u001b[39msetdefault(\u001b[38;5;124m\"\u001b[39m\u001b[38;5;124mallow_redirects\u001b[39m\u001b[38;5;124m\"\u001b[39m, \u001b[38;5;28;01mTrue\u001b[39;00m)\n\u001b[0;32m--> 602\u001b[0m \u001b[38;5;28;01mreturn\u001b[39;00m \u001b[38;5;28mself\u001b[39m\u001b[38;5;241m.\u001b[39mrequest(\u001b[38;5;124m\"\u001b[39m\u001b[38;5;124mGET\u001b[39m\u001b[38;5;124m\"\u001b[39m, url, \u001b[38;5;241m*\u001b[39m\u001b[38;5;241m*\u001b[39mkwargs)\n",
      "File \u001b[0;32m~/anaconda3/lib/python3.11/site-packages/requests/sessions.py:589\u001b[0m, in \u001b[0;36mSession.request\u001b[0;34m(self, method, url, params, data, headers, cookies, files, auth, timeout, allow_redirects, proxies, hooks, stream, verify, cert, json)\u001b[0m\n\u001b[1;32m    588\u001b[0m send_kwargs\u001b[38;5;241m.\u001b[39mupdate(settings)\n\u001b[0;32m--> 589\u001b[0m resp \u001b[38;5;241m=\u001b[39m \u001b[38;5;28mself\u001b[39m\u001b[38;5;241m.\u001b[39msend(prep, \u001b[38;5;241m*\u001b[39m\u001b[38;5;241m*\u001b[39msend_kwargs)\n\u001b[1;32m    591\u001b[0m \u001b[38;5;28;01mreturn\u001b[39;00m resp\n",
      "File \u001b[0;32m~/anaconda3/lib/python3.11/site-packages/requests/sessions.py:703\u001b[0m, in \u001b[0;36mSession.send\u001b[0;34m(self, request, **kwargs)\u001b[0m\n\u001b[1;32m    702\u001b[0m \u001b[38;5;66;03m# Send the request\u001b[39;00m\n\u001b[0;32m--> 703\u001b[0m r \u001b[38;5;241m=\u001b[39m adapter\u001b[38;5;241m.\u001b[39msend(request, \u001b[38;5;241m*\u001b[39m\u001b[38;5;241m*\u001b[39mkwargs)\n\u001b[1;32m    705\u001b[0m \u001b[38;5;66;03m# Total elapsed time of the request (approximately)\u001b[39;00m\n",
      "File \u001b[0;32m~/anaconda3/lib/python3.11/site-packages/requests/adapters.py:519\u001b[0m, in \u001b[0;36mHTTPAdapter.send\u001b[0;34m(self, request, stream, timeout, verify, cert, proxies)\u001b[0m\n\u001b[1;32m    517\u001b[0m         \u001b[38;5;28;01mraise\u001b[39;00m SSLError(e, request\u001b[38;5;241m=\u001b[39mrequest)\n\u001b[0;32m--> 519\u001b[0m     \u001b[38;5;28;01mraise\u001b[39;00m \u001b[38;5;167;01mConnectionError\u001b[39;00m(e, request\u001b[38;5;241m=\u001b[39mrequest)\n\u001b[1;32m    521\u001b[0m \u001b[38;5;28;01mexcept\u001b[39;00m ClosedPoolError \u001b[38;5;28;01mas\u001b[39;00m e:\n",
      "\u001b[0;31mConnectionError\u001b[0m: HTTPSConnectionPool(host='nominatim.openstreetmap.org', port=443): Max retries exceeded with url: /reverse?lat=-76.06436&lon=155.96937&format=json&accept-language=en&addressdetails=1 (Caused by NewConnectionError('<urllib3.connection.HTTPSConnection object at 0x764f0ed5fad0>: Failed to establish a new connection: [Errno 113] No route to host'))",
      "\nDuring handling of the above exception, another exception occurred:\n",
      "\u001b[0;31mGeocoderUnavailable\u001b[0m                       Traceback (most recent call last)",
      "Cell \u001b[0;32mIn[28], line 1\u001b[0m\n\u001b[0;32m----> 1\u001b[0m df[\u001b[38;5;124m\"\u001b[39m\u001b[38;5;124mcountry\u001b[39m\u001b[38;5;124m\"\u001b[39m] \u001b[38;5;241m=\u001b[39m df\u001b[38;5;241m.\u001b[39mapply(\u001b[38;5;28;01mlambda\u001b[39;00m row: get_country_name(row[\u001b[38;5;124m\"\u001b[39m\u001b[38;5;124mreclat\u001b[39m\u001b[38;5;124m\"\u001b[39m], row[\u001b[38;5;124m\"\u001b[39m\u001b[38;5;124mreclong\u001b[39m\u001b[38;5;124m\"\u001b[39m]), axis\u001b[38;5;241m=\u001b[39m\u001b[38;5;241m1\u001b[39m)\n",
      "File \u001b[0;32m~/anaconda3/lib/python3.11/site-packages/pandas/core/frame.py:10037\u001b[0m, in \u001b[0;36mDataFrame.apply\u001b[0;34m(self, func, axis, raw, result_type, args, by_row, **kwargs)\u001b[0m\n\u001b[1;32m  10025\u001b[0m \u001b[38;5;28;01mfrom\u001b[39;00m \u001b[38;5;21;01mpandas\u001b[39;00m\u001b[38;5;21;01m.\u001b[39;00m\u001b[38;5;21;01mcore\u001b[39;00m\u001b[38;5;21;01m.\u001b[39;00m\u001b[38;5;21;01mapply\u001b[39;00m \u001b[38;5;28;01mimport\u001b[39;00m frame_apply\n\u001b[1;32m  10027\u001b[0m op \u001b[38;5;241m=\u001b[39m frame_apply(\n\u001b[1;32m  10028\u001b[0m     \u001b[38;5;28mself\u001b[39m,\n\u001b[1;32m  10029\u001b[0m     func\u001b[38;5;241m=\u001b[39mfunc,\n\u001b[0;32m   (...)\u001b[0m\n\u001b[1;32m  10035\u001b[0m     kwargs\u001b[38;5;241m=\u001b[39mkwargs,\n\u001b[1;32m  10036\u001b[0m )\n\u001b[0;32m> 10037\u001b[0m \u001b[38;5;28;01mreturn\u001b[39;00m op\u001b[38;5;241m.\u001b[39mapply()\u001b[38;5;241m.\u001b[39m__finalize__(\u001b[38;5;28mself\u001b[39m, method\u001b[38;5;241m=\u001b[39m\u001b[38;5;124m\"\u001b[39m\u001b[38;5;124mapply\u001b[39m\u001b[38;5;124m\"\u001b[39m)\n",
      "File \u001b[0;32m~/anaconda3/lib/python3.11/site-packages/pandas/core/apply.py:837\u001b[0m, in \u001b[0;36mFrameApply.apply\u001b[0;34m(self)\u001b[0m\n\u001b[1;32m    834\u001b[0m \u001b[38;5;28;01melif\u001b[39;00m \u001b[38;5;28mself\u001b[39m\u001b[38;5;241m.\u001b[39mraw:\n\u001b[1;32m    835\u001b[0m     \u001b[38;5;28;01mreturn\u001b[39;00m \u001b[38;5;28mself\u001b[39m\u001b[38;5;241m.\u001b[39mapply_raw()\n\u001b[0;32m--> 837\u001b[0m \u001b[38;5;28;01mreturn\u001b[39;00m \u001b[38;5;28mself\u001b[39m\u001b[38;5;241m.\u001b[39mapply_standard()\n",
      "File \u001b[0;32m~/anaconda3/lib/python3.11/site-packages/pandas/core/apply.py:963\u001b[0m, in \u001b[0;36mFrameApply.apply_standard\u001b[0;34m(self)\u001b[0m\n\u001b[1;32m    962\u001b[0m \u001b[38;5;28;01mdef\u001b[39;00m \u001b[38;5;21mapply_standard\u001b[39m(\u001b[38;5;28mself\u001b[39m):\n\u001b[0;32m--> 963\u001b[0m     results, res_index \u001b[38;5;241m=\u001b[39m \u001b[38;5;28mself\u001b[39m\u001b[38;5;241m.\u001b[39mapply_series_generator()\n\u001b[1;32m    965\u001b[0m     \u001b[38;5;66;03m# wrap results\u001b[39;00m\n\u001b[1;32m    966\u001b[0m     \u001b[38;5;28;01mreturn\u001b[39;00m \u001b[38;5;28mself\u001b[39m\u001b[38;5;241m.\u001b[39mwrap_results(results, res_index)\n",
      "File \u001b[0;32m~/anaconda3/lib/python3.11/site-packages/pandas/core/apply.py:979\u001b[0m, in \u001b[0;36mFrameApply.apply_series_generator\u001b[0;34m(self)\u001b[0m\n\u001b[1;32m    976\u001b[0m \u001b[38;5;28;01mwith\u001b[39;00m option_context(\u001b[38;5;124m\"\u001b[39m\u001b[38;5;124mmode.chained_assignment\u001b[39m\u001b[38;5;124m\"\u001b[39m, \u001b[38;5;28;01mNone\u001b[39;00m):\n\u001b[1;32m    977\u001b[0m     \u001b[38;5;28;01mfor\u001b[39;00m i, v \u001b[38;5;129;01min\u001b[39;00m \u001b[38;5;28menumerate\u001b[39m(series_gen):\n\u001b[1;32m    978\u001b[0m         \u001b[38;5;66;03m# ignore SettingWithCopy here in case the user mutates\u001b[39;00m\n\u001b[0;32m--> 979\u001b[0m         results[i] \u001b[38;5;241m=\u001b[39m \u001b[38;5;28mself\u001b[39m\u001b[38;5;241m.\u001b[39mfunc(v, \u001b[38;5;241m*\u001b[39m\u001b[38;5;28mself\u001b[39m\u001b[38;5;241m.\u001b[39margs, \u001b[38;5;241m*\u001b[39m\u001b[38;5;241m*\u001b[39m\u001b[38;5;28mself\u001b[39m\u001b[38;5;241m.\u001b[39mkwargs)\n\u001b[1;32m    980\u001b[0m         \u001b[38;5;28;01mif\u001b[39;00m \u001b[38;5;28misinstance\u001b[39m(results[i], ABCSeries):\n\u001b[1;32m    981\u001b[0m             \u001b[38;5;66;03m# If we have a view on v, we need to make a copy because\u001b[39;00m\n\u001b[1;32m    982\u001b[0m             \u001b[38;5;66;03m#  series_generator will swap out the underlying data\u001b[39;00m\n\u001b[1;32m    983\u001b[0m             results[i] \u001b[38;5;241m=\u001b[39m results[i]\u001b[38;5;241m.\u001b[39mcopy(deep\u001b[38;5;241m=\u001b[39m\u001b[38;5;28;01mFalse\u001b[39;00m)\n",
      "Cell \u001b[0;32mIn[28], line 1\u001b[0m, in \u001b[0;36m<lambda>\u001b[0;34m(row)\u001b[0m\n\u001b[0;32m----> 1\u001b[0m df[\u001b[38;5;124m\"\u001b[39m\u001b[38;5;124mcountry\u001b[39m\u001b[38;5;124m\"\u001b[39m] \u001b[38;5;241m=\u001b[39m df\u001b[38;5;241m.\u001b[39mapply(\u001b[38;5;28;01mlambda\u001b[39;00m row: get_country_name(row[\u001b[38;5;124m\"\u001b[39m\u001b[38;5;124mreclat\u001b[39m\u001b[38;5;124m\"\u001b[39m], row[\u001b[38;5;124m\"\u001b[39m\u001b[38;5;124mreclong\u001b[39m\u001b[38;5;124m\"\u001b[39m]), axis\u001b[38;5;241m=\u001b[39m\u001b[38;5;241m1\u001b[39m)\n",
      "Cell \u001b[0;32mIn[26], line 10\u001b[0m, in \u001b[0;36mget_country_name\u001b[0;34m(latitude, longitude)\u001b[0m\n\u001b[1;32m      7\u001b[0m geolocator \u001b[38;5;241m=\u001b[39m Nominatim(user_agent\u001b[38;5;241m=\u001b[39m\u001b[38;5;124m\"\u001b[39m\u001b[38;5;124mmy_geocoder\u001b[39m\u001b[38;5;124m\"\u001b[39m)\n\u001b[1;32m      9\u001b[0m \u001b[38;5;66;03m# Reverse geocode the coordinates to get location information\u001b[39;00m\n\u001b[0;32m---> 10\u001b[0m location \u001b[38;5;241m=\u001b[39m geolocator\u001b[38;5;241m.\u001b[39mreverse((latitude, longitude), language\u001b[38;5;241m=\u001b[39m\u001b[38;5;124m'\u001b[39m\u001b[38;5;124men\u001b[39m\u001b[38;5;124m'\u001b[39m, exactly_one\u001b[38;5;241m=\u001b[39m\u001b[38;5;28;01mTrue\u001b[39;00m)\n\u001b[1;32m     12\u001b[0m \u001b[38;5;66;03m# Check if location is not None\u001b[39;00m\n\u001b[1;32m     13\u001b[0m \u001b[38;5;28;01mif\u001b[39;00m location:\n\u001b[1;32m     14\u001b[0m     \u001b[38;5;66;03m# Extract country name from the location information\u001b[39;00m\n",
      "File \u001b[0;32m~/anaconda3/lib/python3.11/site-packages/geopy/geocoders/nominatim.py:372\u001b[0m, in \u001b[0;36mNominatim.reverse\u001b[0;34m(self, query, exactly_one, timeout, language, addressdetails, zoom, namedetails)\u001b[0m\n\u001b[1;32m    370\u001b[0m logger\u001b[38;5;241m.\u001b[39mdebug(\u001b[38;5;124m\"\u001b[39m\u001b[38;5;132;01m%s\u001b[39;00m\u001b[38;5;124m.reverse: \u001b[39m\u001b[38;5;132;01m%s\u001b[39;00m\u001b[38;5;124m\"\u001b[39m, \u001b[38;5;28mself\u001b[39m\u001b[38;5;241m.\u001b[39m\u001b[38;5;18m__class__\u001b[39m\u001b[38;5;241m.\u001b[39m\u001b[38;5;18m__name__\u001b[39m, url)\n\u001b[1;32m    371\u001b[0m callback \u001b[38;5;241m=\u001b[39m partial(\u001b[38;5;28mself\u001b[39m\u001b[38;5;241m.\u001b[39m_parse_json, exactly_one\u001b[38;5;241m=\u001b[39mexactly_one)\n\u001b[0;32m--> 372\u001b[0m \u001b[38;5;28;01mreturn\u001b[39;00m \u001b[38;5;28mself\u001b[39m\u001b[38;5;241m.\u001b[39m_call_geocoder(url, callback, timeout\u001b[38;5;241m=\u001b[39mtimeout)\n",
      "File \u001b[0;32m~/anaconda3/lib/python3.11/site-packages/geopy/geocoders/base.py:368\u001b[0m, in \u001b[0;36mGeocoder._call_geocoder\u001b[0;34m(self, url, callback, timeout, is_json, headers)\u001b[0m\n\u001b[1;32m    366\u001b[0m \u001b[38;5;28;01mtry\u001b[39;00m:\n\u001b[1;32m    367\u001b[0m     \u001b[38;5;28;01mif\u001b[39;00m is_json:\n\u001b[0;32m--> 368\u001b[0m         result \u001b[38;5;241m=\u001b[39m \u001b[38;5;28mself\u001b[39m\u001b[38;5;241m.\u001b[39madapter\u001b[38;5;241m.\u001b[39mget_json(url, timeout\u001b[38;5;241m=\u001b[39mtimeout, headers\u001b[38;5;241m=\u001b[39mreq_headers)\n\u001b[1;32m    369\u001b[0m     \u001b[38;5;28;01melse\u001b[39;00m:\n\u001b[1;32m    370\u001b[0m         result \u001b[38;5;241m=\u001b[39m \u001b[38;5;28mself\u001b[39m\u001b[38;5;241m.\u001b[39madapter\u001b[38;5;241m.\u001b[39mget_text(url, timeout\u001b[38;5;241m=\u001b[39mtimeout, headers\u001b[38;5;241m=\u001b[39mreq_headers)\n",
      "File \u001b[0;32m~/anaconda3/lib/python3.11/site-packages/geopy/adapters.py:472\u001b[0m, in \u001b[0;36mRequestsAdapter.get_json\u001b[0;34m(self, url, timeout, headers)\u001b[0m\n\u001b[1;32m    471\u001b[0m \u001b[38;5;28;01mdef\u001b[39;00m \u001b[38;5;21mget_json\u001b[39m(\u001b[38;5;28mself\u001b[39m, url, \u001b[38;5;241m*\u001b[39m, timeout, headers):\n\u001b[0;32m--> 472\u001b[0m     resp \u001b[38;5;241m=\u001b[39m \u001b[38;5;28mself\u001b[39m\u001b[38;5;241m.\u001b[39m_request(url, timeout\u001b[38;5;241m=\u001b[39mtimeout, headers\u001b[38;5;241m=\u001b[39mheaders)\n\u001b[1;32m    473\u001b[0m     \u001b[38;5;28;01mtry\u001b[39;00m:\n\u001b[1;32m    474\u001b[0m         \u001b[38;5;28;01mreturn\u001b[39;00m resp\u001b[38;5;241m.\u001b[39mjson()\n",
      "File \u001b[0;32m~/anaconda3/lib/python3.11/site-packages/geopy/adapters.py:494\u001b[0m, in \u001b[0;36mRequestsAdapter._request\u001b[0;34m(self, url, timeout, headers)\u001b[0m\n\u001b[1;32m    492\u001b[0m         \u001b[38;5;28;01mraise\u001b[39;00m GeocoderServiceError(message)\n\u001b[1;32m    493\u001b[0m     \u001b[38;5;28;01melse\u001b[39;00m:\n\u001b[0;32m--> 494\u001b[0m         \u001b[38;5;28;01mraise\u001b[39;00m GeocoderUnavailable(message)\n\u001b[1;32m    495\u001b[0m \u001b[38;5;28;01melif\u001b[39;00m \u001b[38;5;28misinstance\u001b[39m(error, requests\u001b[38;5;241m.\u001b[39mTimeout):\n\u001b[1;32m    496\u001b[0m     \u001b[38;5;28;01mraise\u001b[39;00m GeocoderTimedOut(\u001b[38;5;124m\"\u001b[39m\u001b[38;5;124mService timed out\u001b[39m\u001b[38;5;124m\"\u001b[39m)\n",
      "\u001b[0;31mGeocoderUnavailable\u001b[0m: HTTPSConnectionPool(host='nominatim.openstreetmap.org', port=443): Max retries exceeded with url: /reverse?lat=-76.06436&lon=155.96937&format=json&accept-language=en&addressdetails=1 (Caused by NewConnectionError('<urllib3.connection.HTTPSConnection object at 0x764f0ed5fad0>: Failed to establish a new connection: [Errno 113] No route to host'))"
     ]
    }
   ],
   "source": [
    "df[\"country\"] = df.apply(lambda row: get_country_name(row[\"reclat\"], row[\"reclong\"]), axis=1)"
   ]
  },
  {
   "cell_type": "code",
   "execution_count": 24,
   "id": "209dc15c",
   "metadata": {},
   "outputs": [
    {
     "ename": "GeocoderUnavailable",
     "evalue": "HTTPSConnectionPool(host='nominatim.openstreetmap.org', port=443): Max retries exceeded with url: /reverse?lat=-76.77278&lon=159.28305&format=json&accept-language=en&addressdetails=1 (Caused by ConnectTimeoutError(<urllib3.connection.HTTPSConnection object at 0x764f17719c90>, 'Connection to nominatim.openstreetmap.org timed out. (connect timeout=1)'))",
     "output_type": "error",
     "traceback": [
      "\u001b[0;31m---------------------------------------------------------------------------\u001b[0m",
      "\u001b[0;31mTimeoutError\u001b[0m                              Traceback (most recent call last)",
      "File \u001b[0;32m~/anaconda3/lib/python3.11/site-packages/urllib3/connection.py:174\u001b[0m, in \u001b[0;36mHTTPConnection._new_conn\u001b[0;34m(self)\u001b[0m\n\u001b[1;32m    173\u001b[0m \u001b[38;5;28;01mtry\u001b[39;00m:\n\u001b[0;32m--> 174\u001b[0m     conn \u001b[38;5;241m=\u001b[39m connection\u001b[38;5;241m.\u001b[39mcreate_connection(\n\u001b[1;32m    175\u001b[0m         (\u001b[38;5;28mself\u001b[39m\u001b[38;5;241m.\u001b[39m_dns_host, \u001b[38;5;28mself\u001b[39m\u001b[38;5;241m.\u001b[39mport), \u001b[38;5;28mself\u001b[39m\u001b[38;5;241m.\u001b[39mtimeout, \u001b[38;5;241m*\u001b[39m\u001b[38;5;241m*\u001b[39mextra_kw\n\u001b[1;32m    176\u001b[0m     )\n\u001b[1;32m    178\u001b[0m \u001b[38;5;28;01mexcept\u001b[39;00m SocketTimeout:\n",
      "File \u001b[0;32m~/anaconda3/lib/python3.11/site-packages/urllib3/util/connection.py:95\u001b[0m, in \u001b[0;36mcreate_connection\u001b[0;34m(address, timeout, source_address, socket_options)\u001b[0m\n\u001b[1;32m     94\u001b[0m \u001b[38;5;28;01mif\u001b[39;00m err \u001b[38;5;129;01mis\u001b[39;00m \u001b[38;5;129;01mnot\u001b[39;00m \u001b[38;5;28;01mNone\u001b[39;00m:\n\u001b[0;32m---> 95\u001b[0m     \u001b[38;5;28;01mraise\u001b[39;00m err\n\u001b[1;32m     97\u001b[0m \u001b[38;5;28;01mraise\u001b[39;00m socket\u001b[38;5;241m.\u001b[39merror(\u001b[38;5;124m\"\u001b[39m\u001b[38;5;124mgetaddrinfo returns an empty list\u001b[39m\u001b[38;5;124m\"\u001b[39m)\n",
      "File \u001b[0;32m~/anaconda3/lib/python3.11/site-packages/urllib3/util/connection.py:85\u001b[0m, in \u001b[0;36mcreate_connection\u001b[0;34m(address, timeout, source_address, socket_options)\u001b[0m\n\u001b[1;32m     84\u001b[0m     sock\u001b[38;5;241m.\u001b[39mbind(source_address)\n\u001b[0;32m---> 85\u001b[0m sock\u001b[38;5;241m.\u001b[39mconnect(sa)\n\u001b[1;32m     86\u001b[0m \u001b[38;5;28;01mreturn\u001b[39;00m sock\n",
      "\u001b[0;31mTimeoutError\u001b[0m: timed out",
      "\nDuring handling of the above exception, another exception occurred:\n",
      "\u001b[0;31mConnectTimeoutError\u001b[0m                       Traceback (most recent call last)",
      "File \u001b[0;32m~/anaconda3/lib/python3.11/site-packages/urllib3/connectionpool.py:715\u001b[0m, in \u001b[0;36mHTTPConnectionPool.urlopen\u001b[0;34m(self, method, url, body, headers, retries, redirect, assert_same_host, timeout, pool_timeout, release_conn, chunked, body_pos, **response_kw)\u001b[0m\n\u001b[1;32m    714\u001b[0m \u001b[38;5;66;03m# Make the request on the httplib connection object.\u001b[39;00m\n\u001b[0;32m--> 715\u001b[0m httplib_response \u001b[38;5;241m=\u001b[39m \u001b[38;5;28mself\u001b[39m\u001b[38;5;241m.\u001b[39m_make_request(\n\u001b[1;32m    716\u001b[0m     conn,\n\u001b[1;32m    717\u001b[0m     method,\n\u001b[1;32m    718\u001b[0m     url,\n\u001b[1;32m    719\u001b[0m     timeout\u001b[38;5;241m=\u001b[39mtimeout_obj,\n\u001b[1;32m    720\u001b[0m     body\u001b[38;5;241m=\u001b[39mbody,\n\u001b[1;32m    721\u001b[0m     headers\u001b[38;5;241m=\u001b[39mheaders,\n\u001b[1;32m    722\u001b[0m     chunked\u001b[38;5;241m=\u001b[39mchunked,\n\u001b[1;32m    723\u001b[0m )\n\u001b[1;32m    725\u001b[0m \u001b[38;5;66;03m# If we're going to release the connection in ``finally:``, then\u001b[39;00m\n\u001b[1;32m    726\u001b[0m \u001b[38;5;66;03m# the response doesn't need to know about the connection. Otherwise\u001b[39;00m\n\u001b[1;32m    727\u001b[0m \u001b[38;5;66;03m# it will also try to release it and we'll have a double-release\u001b[39;00m\n\u001b[1;32m    728\u001b[0m \u001b[38;5;66;03m# mess.\u001b[39;00m\n",
      "File \u001b[0;32m~/anaconda3/lib/python3.11/site-packages/urllib3/connectionpool.py:404\u001b[0m, in \u001b[0;36mHTTPConnectionPool._make_request\u001b[0;34m(self, conn, method, url, timeout, chunked, **httplib_request_kw)\u001b[0m\n\u001b[1;32m    403\u001b[0m \u001b[38;5;28;01mtry\u001b[39;00m:\n\u001b[0;32m--> 404\u001b[0m     \u001b[38;5;28mself\u001b[39m\u001b[38;5;241m.\u001b[39m_validate_conn(conn)\n\u001b[1;32m    405\u001b[0m \u001b[38;5;28;01mexcept\u001b[39;00m (SocketTimeout, BaseSSLError) \u001b[38;5;28;01mas\u001b[39;00m e:\n\u001b[1;32m    406\u001b[0m     \u001b[38;5;66;03m# Py2 raises this as a BaseSSLError, Py3 raises it as socket timeout.\u001b[39;00m\n",
      "File \u001b[0;32m~/anaconda3/lib/python3.11/site-packages/urllib3/connectionpool.py:1058\u001b[0m, in \u001b[0;36mHTTPSConnectionPool._validate_conn\u001b[0;34m(self, conn)\u001b[0m\n\u001b[1;32m   1057\u001b[0m \u001b[38;5;28;01mif\u001b[39;00m \u001b[38;5;129;01mnot\u001b[39;00m \u001b[38;5;28mgetattr\u001b[39m(conn, \u001b[38;5;124m\"\u001b[39m\u001b[38;5;124msock\u001b[39m\u001b[38;5;124m\"\u001b[39m, \u001b[38;5;28;01mNone\u001b[39;00m):  \u001b[38;5;66;03m# AppEngine might not have  `.sock`\u001b[39;00m\n\u001b[0;32m-> 1058\u001b[0m     conn\u001b[38;5;241m.\u001b[39mconnect()\n\u001b[1;32m   1060\u001b[0m \u001b[38;5;28;01mif\u001b[39;00m \u001b[38;5;129;01mnot\u001b[39;00m conn\u001b[38;5;241m.\u001b[39mis_verified:\n",
      "File \u001b[0;32m~/anaconda3/lib/python3.11/site-packages/urllib3/connection.py:363\u001b[0m, in \u001b[0;36mHTTPSConnection.connect\u001b[0;34m(self)\u001b[0m\n\u001b[1;32m    361\u001b[0m \u001b[38;5;28;01mdef\u001b[39;00m \u001b[38;5;21mconnect\u001b[39m(\u001b[38;5;28mself\u001b[39m):\n\u001b[1;32m    362\u001b[0m     \u001b[38;5;66;03m# Add certificate verification\u001b[39;00m\n\u001b[0;32m--> 363\u001b[0m     \u001b[38;5;28mself\u001b[39m\u001b[38;5;241m.\u001b[39msock \u001b[38;5;241m=\u001b[39m conn \u001b[38;5;241m=\u001b[39m \u001b[38;5;28mself\u001b[39m\u001b[38;5;241m.\u001b[39m_new_conn()\n\u001b[1;32m    364\u001b[0m     hostname \u001b[38;5;241m=\u001b[39m \u001b[38;5;28mself\u001b[39m\u001b[38;5;241m.\u001b[39mhost\n",
      "File \u001b[0;32m~/anaconda3/lib/python3.11/site-packages/urllib3/connection.py:179\u001b[0m, in \u001b[0;36mHTTPConnection._new_conn\u001b[0;34m(self)\u001b[0m\n\u001b[1;32m    178\u001b[0m \u001b[38;5;28;01mexcept\u001b[39;00m SocketTimeout:\n\u001b[0;32m--> 179\u001b[0m     \u001b[38;5;28;01mraise\u001b[39;00m ConnectTimeoutError(\n\u001b[1;32m    180\u001b[0m         \u001b[38;5;28mself\u001b[39m,\n\u001b[1;32m    181\u001b[0m         \u001b[38;5;124m\"\u001b[39m\u001b[38;5;124mConnection to \u001b[39m\u001b[38;5;132;01m%s\u001b[39;00m\u001b[38;5;124m timed out. (connect timeout=\u001b[39m\u001b[38;5;132;01m%s\u001b[39;00m\u001b[38;5;124m)\u001b[39m\u001b[38;5;124m\"\u001b[39m\n\u001b[1;32m    182\u001b[0m         \u001b[38;5;241m%\u001b[39m (\u001b[38;5;28mself\u001b[39m\u001b[38;5;241m.\u001b[39mhost, \u001b[38;5;28mself\u001b[39m\u001b[38;5;241m.\u001b[39mtimeout),\n\u001b[1;32m    183\u001b[0m     )\n\u001b[1;32m    185\u001b[0m \u001b[38;5;28;01mexcept\u001b[39;00m SocketError \u001b[38;5;28;01mas\u001b[39;00m e:\n",
      "\u001b[0;31mConnectTimeoutError\u001b[0m: (<urllib3.connection.HTTPSConnection object at 0x764f17719c90>, 'Connection to nominatim.openstreetmap.org timed out. (connect timeout=1)')",
      "\nDuring handling of the above exception, another exception occurred:\n",
      "\u001b[0;31mMaxRetryError\u001b[0m                             Traceback (most recent call last)",
      "File \u001b[0;32m~/anaconda3/lib/python3.11/site-packages/requests/adapters.py:486\u001b[0m, in \u001b[0;36mHTTPAdapter.send\u001b[0;34m(self, request, stream, timeout, verify, cert, proxies)\u001b[0m\n\u001b[1;32m    485\u001b[0m \u001b[38;5;28;01mtry\u001b[39;00m:\n\u001b[0;32m--> 486\u001b[0m     resp \u001b[38;5;241m=\u001b[39m conn\u001b[38;5;241m.\u001b[39murlopen(\n\u001b[1;32m    487\u001b[0m         method\u001b[38;5;241m=\u001b[39mrequest\u001b[38;5;241m.\u001b[39mmethod,\n\u001b[1;32m    488\u001b[0m         url\u001b[38;5;241m=\u001b[39murl,\n\u001b[1;32m    489\u001b[0m         body\u001b[38;5;241m=\u001b[39mrequest\u001b[38;5;241m.\u001b[39mbody,\n\u001b[1;32m    490\u001b[0m         headers\u001b[38;5;241m=\u001b[39mrequest\u001b[38;5;241m.\u001b[39mheaders,\n\u001b[1;32m    491\u001b[0m         redirect\u001b[38;5;241m=\u001b[39m\u001b[38;5;28;01mFalse\u001b[39;00m,\n\u001b[1;32m    492\u001b[0m         assert_same_host\u001b[38;5;241m=\u001b[39m\u001b[38;5;28;01mFalse\u001b[39;00m,\n\u001b[1;32m    493\u001b[0m         preload_content\u001b[38;5;241m=\u001b[39m\u001b[38;5;28;01mFalse\u001b[39;00m,\n\u001b[1;32m    494\u001b[0m         decode_content\u001b[38;5;241m=\u001b[39m\u001b[38;5;28;01mFalse\u001b[39;00m,\n\u001b[1;32m    495\u001b[0m         retries\u001b[38;5;241m=\u001b[39m\u001b[38;5;28mself\u001b[39m\u001b[38;5;241m.\u001b[39mmax_retries,\n\u001b[1;32m    496\u001b[0m         timeout\u001b[38;5;241m=\u001b[39mtimeout,\n\u001b[1;32m    497\u001b[0m         chunked\u001b[38;5;241m=\u001b[39mchunked,\n\u001b[1;32m    498\u001b[0m     )\n\u001b[1;32m    500\u001b[0m \u001b[38;5;28;01mexcept\u001b[39;00m (ProtocolError, \u001b[38;5;167;01mOSError\u001b[39;00m) \u001b[38;5;28;01mas\u001b[39;00m err:\n",
      "File \u001b[0;32m~/anaconda3/lib/python3.11/site-packages/urllib3/connectionpool.py:827\u001b[0m, in \u001b[0;36mHTTPConnectionPool.urlopen\u001b[0;34m(self, method, url, body, headers, retries, redirect, assert_same_host, timeout, pool_timeout, release_conn, chunked, body_pos, **response_kw)\u001b[0m\n\u001b[1;32m    824\u001b[0m     log\u001b[38;5;241m.\u001b[39mwarning(\n\u001b[1;32m    825\u001b[0m         \u001b[38;5;124m\"\u001b[39m\u001b[38;5;124mRetrying (\u001b[39m\u001b[38;5;132;01m%r\u001b[39;00m\u001b[38;5;124m) after connection broken by \u001b[39m\u001b[38;5;124m'\u001b[39m\u001b[38;5;132;01m%r\u001b[39;00m\u001b[38;5;124m'\u001b[39m\u001b[38;5;124m: \u001b[39m\u001b[38;5;132;01m%s\u001b[39;00m\u001b[38;5;124m\"\u001b[39m, retries, err, url\n\u001b[1;32m    826\u001b[0m     )\n\u001b[0;32m--> 827\u001b[0m     \u001b[38;5;28;01mreturn\u001b[39;00m \u001b[38;5;28mself\u001b[39m\u001b[38;5;241m.\u001b[39murlopen(\n\u001b[1;32m    828\u001b[0m         method,\n\u001b[1;32m    829\u001b[0m         url,\n\u001b[1;32m    830\u001b[0m         body,\n\u001b[1;32m    831\u001b[0m         headers,\n\u001b[1;32m    832\u001b[0m         retries,\n\u001b[1;32m    833\u001b[0m         redirect,\n\u001b[1;32m    834\u001b[0m         assert_same_host,\n\u001b[1;32m    835\u001b[0m         timeout\u001b[38;5;241m=\u001b[39mtimeout,\n\u001b[1;32m    836\u001b[0m         pool_timeout\u001b[38;5;241m=\u001b[39mpool_timeout,\n\u001b[1;32m    837\u001b[0m         release_conn\u001b[38;5;241m=\u001b[39mrelease_conn,\n\u001b[1;32m    838\u001b[0m         chunked\u001b[38;5;241m=\u001b[39mchunked,\n\u001b[1;32m    839\u001b[0m         body_pos\u001b[38;5;241m=\u001b[39mbody_pos,\n\u001b[1;32m    840\u001b[0m         \u001b[38;5;241m*\u001b[39m\u001b[38;5;241m*\u001b[39mresponse_kw\n\u001b[1;32m    841\u001b[0m     )\n\u001b[1;32m    843\u001b[0m \u001b[38;5;66;03m# Handle redirect?\u001b[39;00m\n",
      "File \u001b[0;32m~/anaconda3/lib/python3.11/site-packages/urllib3/connectionpool.py:827\u001b[0m, in \u001b[0;36mHTTPConnectionPool.urlopen\u001b[0;34m(self, method, url, body, headers, retries, redirect, assert_same_host, timeout, pool_timeout, release_conn, chunked, body_pos, **response_kw)\u001b[0m\n\u001b[1;32m    824\u001b[0m     log\u001b[38;5;241m.\u001b[39mwarning(\n\u001b[1;32m    825\u001b[0m         \u001b[38;5;124m\"\u001b[39m\u001b[38;5;124mRetrying (\u001b[39m\u001b[38;5;132;01m%r\u001b[39;00m\u001b[38;5;124m) after connection broken by \u001b[39m\u001b[38;5;124m'\u001b[39m\u001b[38;5;132;01m%r\u001b[39;00m\u001b[38;5;124m'\u001b[39m\u001b[38;5;124m: \u001b[39m\u001b[38;5;132;01m%s\u001b[39;00m\u001b[38;5;124m\"\u001b[39m, retries, err, url\n\u001b[1;32m    826\u001b[0m     )\n\u001b[0;32m--> 827\u001b[0m     \u001b[38;5;28;01mreturn\u001b[39;00m \u001b[38;5;28mself\u001b[39m\u001b[38;5;241m.\u001b[39murlopen(\n\u001b[1;32m    828\u001b[0m         method,\n\u001b[1;32m    829\u001b[0m         url,\n\u001b[1;32m    830\u001b[0m         body,\n\u001b[1;32m    831\u001b[0m         headers,\n\u001b[1;32m    832\u001b[0m         retries,\n\u001b[1;32m    833\u001b[0m         redirect,\n\u001b[1;32m    834\u001b[0m         assert_same_host,\n\u001b[1;32m    835\u001b[0m         timeout\u001b[38;5;241m=\u001b[39mtimeout,\n\u001b[1;32m    836\u001b[0m         pool_timeout\u001b[38;5;241m=\u001b[39mpool_timeout,\n\u001b[1;32m    837\u001b[0m         release_conn\u001b[38;5;241m=\u001b[39mrelease_conn,\n\u001b[1;32m    838\u001b[0m         chunked\u001b[38;5;241m=\u001b[39mchunked,\n\u001b[1;32m    839\u001b[0m         body_pos\u001b[38;5;241m=\u001b[39mbody_pos,\n\u001b[1;32m    840\u001b[0m         \u001b[38;5;241m*\u001b[39m\u001b[38;5;241m*\u001b[39mresponse_kw\n\u001b[1;32m    841\u001b[0m     )\n\u001b[1;32m    843\u001b[0m \u001b[38;5;66;03m# Handle redirect?\u001b[39;00m\n",
      "File \u001b[0;32m~/anaconda3/lib/python3.11/site-packages/urllib3/connectionpool.py:799\u001b[0m, in \u001b[0;36mHTTPConnectionPool.urlopen\u001b[0;34m(self, method, url, body, headers, retries, redirect, assert_same_host, timeout, pool_timeout, release_conn, chunked, body_pos, **response_kw)\u001b[0m\n\u001b[1;32m    797\u001b[0m     e \u001b[38;5;241m=\u001b[39m ProtocolError(\u001b[38;5;124m\"\u001b[39m\u001b[38;5;124mConnection aborted.\u001b[39m\u001b[38;5;124m\"\u001b[39m, e)\n\u001b[0;32m--> 799\u001b[0m retries \u001b[38;5;241m=\u001b[39m retries\u001b[38;5;241m.\u001b[39mincrement(\n\u001b[1;32m    800\u001b[0m     method, url, error\u001b[38;5;241m=\u001b[39me, _pool\u001b[38;5;241m=\u001b[39m\u001b[38;5;28mself\u001b[39m, _stacktrace\u001b[38;5;241m=\u001b[39msys\u001b[38;5;241m.\u001b[39mexc_info()[\u001b[38;5;241m2\u001b[39m]\n\u001b[1;32m    801\u001b[0m )\n\u001b[1;32m    802\u001b[0m retries\u001b[38;5;241m.\u001b[39msleep()\n",
      "File \u001b[0;32m~/anaconda3/lib/python3.11/site-packages/urllib3/util/retry.py:592\u001b[0m, in \u001b[0;36mRetry.increment\u001b[0;34m(self, method, url, response, error, _pool, _stacktrace)\u001b[0m\n\u001b[1;32m    591\u001b[0m \u001b[38;5;28;01mif\u001b[39;00m new_retry\u001b[38;5;241m.\u001b[39mis_exhausted():\n\u001b[0;32m--> 592\u001b[0m     \u001b[38;5;28;01mraise\u001b[39;00m MaxRetryError(_pool, url, error \u001b[38;5;129;01mor\u001b[39;00m ResponseError(cause))\n\u001b[1;32m    594\u001b[0m log\u001b[38;5;241m.\u001b[39mdebug(\u001b[38;5;124m\"\u001b[39m\u001b[38;5;124mIncremented Retry for (url=\u001b[39m\u001b[38;5;124m'\u001b[39m\u001b[38;5;132;01m%s\u001b[39;00m\u001b[38;5;124m'\u001b[39m\u001b[38;5;124m): \u001b[39m\u001b[38;5;132;01m%r\u001b[39;00m\u001b[38;5;124m\"\u001b[39m, url, new_retry)\n",
      "\u001b[0;31mMaxRetryError\u001b[0m: HTTPSConnectionPool(host='nominatim.openstreetmap.org', port=443): Max retries exceeded with url: /reverse?lat=-76.77278&lon=159.28305&format=json&accept-language=en&addressdetails=1 (Caused by ConnectTimeoutError(<urllib3.connection.HTTPSConnection object at 0x764f17719c90>, 'Connection to nominatim.openstreetmap.org timed out. (connect timeout=1)'))",
      "\nDuring handling of the above exception, another exception occurred:\n",
      "\u001b[0;31mConnectTimeout\u001b[0m                            Traceback (most recent call last)",
      "File \u001b[0;32m~/anaconda3/lib/python3.11/site-packages/geopy/adapters.py:482\u001b[0m, in \u001b[0;36mRequestsAdapter._request\u001b[0;34m(self, url, timeout, headers)\u001b[0m\n\u001b[1;32m    481\u001b[0m \u001b[38;5;28;01mtry\u001b[39;00m:\n\u001b[0;32m--> 482\u001b[0m     resp \u001b[38;5;241m=\u001b[39m \u001b[38;5;28mself\u001b[39m\u001b[38;5;241m.\u001b[39msession\u001b[38;5;241m.\u001b[39mget(url, timeout\u001b[38;5;241m=\u001b[39mtimeout, headers\u001b[38;5;241m=\u001b[39mheaders)\n\u001b[1;32m    483\u001b[0m \u001b[38;5;28;01mexcept\u001b[39;00m \u001b[38;5;167;01mException\u001b[39;00m \u001b[38;5;28;01mas\u001b[39;00m error:\n",
      "File \u001b[0;32m~/anaconda3/lib/python3.11/site-packages/requests/sessions.py:602\u001b[0m, in \u001b[0;36mSession.get\u001b[0;34m(self, url, **kwargs)\u001b[0m\n\u001b[1;32m    601\u001b[0m kwargs\u001b[38;5;241m.\u001b[39msetdefault(\u001b[38;5;124m\"\u001b[39m\u001b[38;5;124mallow_redirects\u001b[39m\u001b[38;5;124m\"\u001b[39m, \u001b[38;5;28;01mTrue\u001b[39;00m)\n\u001b[0;32m--> 602\u001b[0m \u001b[38;5;28;01mreturn\u001b[39;00m \u001b[38;5;28mself\u001b[39m\u001b[38;5;241m.\u001b[39mrequest(\u001b[38;5;124m\"\u001b[39m\u001b[38;5;124mGET\u001b[39m\u001b[38;5;124m\"\u001b[39m, url, \u001b[38;5;241m*\u001b[39m\u001b[38;5;241m*\u001b[39mkwargs)\n",
      "File \u001b[0;32m~/anaconda3/lib/python3.11/site-packages/requests/sessions.py:589\u001b[0m, in \u001b[0;36mSession.request\u001b[0;34m(self, method, url, params, data, headers, cookies, files, auth, timeout, allow_redirects, proxies, hooks, stream, verify, cert, json)\u001b[0m\n\u001b[1;32m    588\u001b[0m send_kwargs\u001b[38;5;241m.\u001b[39mupdate(settings)\n\u001b[0;32m--> 589\u001b[0m resp \u001b[38;5;241m=\u001b[39m \u001b[38;5;28mself\u001b[39m\u001b[38;5;241m.\u001b[39msend(prep, \u001b[38;5;241m*\u001b[39m\u001b[38;5;241m*\u001b[39msend_kwargs)\n\u001b[1;32m    591\u001b[0m \u001b[38;5;28;01mreturn\u001b[39;00m resp\n",
      "File \u001b[0;32m~/anaconda3/lib/python3.11/site-packages/requests/sessions.py:703\u001b[0m, in \u001b[0;36mSession.send\u001b[0;34m(self, request, **kwargs)\u001b[0m\n\u001b[1;32m    702\u001b[0m \u001b[38;5;66;03m# Send the request\u001b[39;00m\n\u001b[0;32m--> 703\u001b[0m r \u001b[38;5;241m=\u001b[39m adapter\u001b[38;5;241m.\u001b[39msend(request, \u001b[38;5;241m*\u001b[39m\u001b[38;5;241m*\u001b[39mkwargs)\n\u001b[1;32m    705\u001b[0m \u001b[38;5;66;03m# Total elapsed time of the request (approximately)\u001b[39;00m\n",
      "File \u001b[0;32m~/anaconda3/lib/python3.11/site-packages/requests/adapters.py:507\u001b[0m, in \u001b[0;36mHTTPAdapter.send\u001b[0;34m(self, request, stream, timeout, verify, cert, proxies)\u001b[0m\n\u001b[1;32m    506\u001b[0m     \u001b[38;5;28;01mif\u001b[39;00m \u001b[38;5;129;01mnot\u001b[39;00m \u001b[38;5;28misinstance\u001b[39m(e\u001b[38;5;241m.\u001b[39mreason, NewConnectionError):\n\u001b[0;32m--> 507\u001b[0m         \u001b[38;5;28;01mraise\u001b[39;00m ConnectTimeout(e, request\u001b[38;5;241m=\u001b[39mrequest)\n\u001b[1;32m    509\u001b[0m \u001b[38;5;28;01mif\u001b[39;00m \u001b[38;5;28misinstance\u001b[39m(e\u001b[38;5;241m.\u001b[39mreason, ResponseError):\n",
      "\u001b[0;31mConnectTimeout\u001b[0m: HTTPSConnectionPool(host='nominatim.openstreetmap.org', port=443): Max retries exceeded with url: /reverse?lat=-76.77278&lon=159.28305&format=json&accept-language=en&addressdetails=1 (Caused by ConnectTimeoutError(<urllib3.connection.HTTPSConnection object at 0x764f17719c90>, 'Connection to nominatim.openstreetmap.org timed out. (connect timeout=1)'))",
      "\nDuring handling of the above exception, another exception occurred:\n",
      "\u001b[0;31mGeocoderUnavailable\u001b[0m                       Traceback (most recent call last)",
      "Cell \u001b[0;32mIn[24], line 28\u001b[0m\n\u001b[1;32m     25\u001b[0m batch_size \u001b[38;5;241m=\u001b[39m \u001b[38;5;241m1000\u001b[39m\n\u001b[1;32m     27\u001b[0m \u001b[38;5;66;03m# Process the dataset in batches\u001b[39;00m\n\u001b[0;32m---> 28\u001b[0m country_names \u001b[38;5;241m=\u001b[39m process_dataset_in_batches(df, batch_size)\n\u001b[1;32m     30\u001b[0m \u001b[38;5;66;03m# Append the country names to your original DataFrame\u001b[39;00m\n\u001b[1;32m     31\u001b[0m df[\u001b[38;5;124m'\u001b[39m\u001b[38;5;124mcountry\u001b[39m\u001b[38;5;124m'\u001b[39m] \u001b[38;5;241m=\u001b[39m country_names\n",
      "Cell \u001b[0;32mIn[24], line 20\u001b[0m, in \u001b[0;36mprocess_dataset_in_batches\u001b[0;34m(dataset, batch_size)\u001b[0m\n\u001b[1;32m     18\u001b[0m \u001b[38;5;28;01mfor\u001b[39;00m batch_start \u001b[38;5;129;01min\u001b[39;00m \u001b[38;5;28mrange\u001b[39m(\u001b[38;5;241m0\u001b[39m, \u001b[38;5;28mlen\u001b[39m(dataset), batch_size):\n\u001b[1;32m     19\u001b[0m     batch \u001b[38;5;241m=\u001b[39m dataset\u001b[38;5;241m.\u001b[39miloc[batch_start:batch_start \u001b[38;5;241m+\u001b[39m batch_size]\n\u001b[0;32m---> 20\u001b[0m     batch_results \u001b[38;5;241m=\u001b[39m reverse_geocode_batch(batch)\n\u001b[1;32m     21\u001b[0m     results\u001b[38;5;241m.\u001b[39mextend(batch_results)\n\u001b[1;32m     22\u001b[0m \u001b[38;5;28;01mreturn\u001b[39;00m results\n",
      "Cell \u001b[0;32mIn[24], line 8\u001b[0m, in \u001b[0;36mreverse_geocode_batch\u001b[0;34m(batch)\u001b[0m\n\u001b[1;32m      6\u001b[0m results \u001b[38;5;241m=\u001b[39m []\n\u001b[1;32m      7\u001b[0m \u001b[38;5;28;01mfor\u001b[39;00m index, row \u001b[38;5;129;01min\u001b[39;00m batch\u001b[38;5;241m.\u001b[39miterrows():\n\u001b[0;32m----> 8\u001b[0m     location \u001b[38;5;241m=\u001b[39m geolocator\u001b[38;5;241m.\u001b[39mreverse((row[\u001b[38;5;124m'\u001b[39m\u001b[38;5;124mreclat\u001b[39m\u001b[38;5;124m'\u001b[39m], row[\u001b[38;5;124m'\u001b[39m\u001b[38;5;124mreclong\u001b[39m\u001b[38;5;124m'\u001b[39m]), language\u001b[38;5;241m=\u001b[39m\u001b[38;5;124m'\u001b[39m\u001b[38;5;124men\u001b[39m\u001b[38;5;124m'\u001b[39m, exactly_one\u001b[38;5;241m=\u001b[39m\u001b[38;5;28;01mTrue\u001b[39;00m)\n\u001b[1;32m      9\u001b[0m     \u001b[38;5;28;01mif\u001b[39;00m location:\n\u001b[1;32m     10\u001b[0m         results\u001b[38;5;241m.\u001b[39mappend(location\u001b[38;5;241m.\u001b[39mraw[\u001b[38;5;124m'\u001b[39m\u001b[38;5;124maddress\u001b[39m\u001b[38;5;124m'\u001b[39m]\u001b[38;5;241m.\u001b[39mget(\u001b[38;5;124m'\u001b[39m\u001b[38;5;124mcountry\u001b[39m\u001b[38;5;124m'\u001b[39m, \u001b[38;5;124m'\u001b[39m\u001b[38;5;124mUnknown\u001b[39m\u001b[38;5;124m'\u001b[39m))\n",
      "File \u001b[0;32m~/anaconda3/lib/python3.11/site-packages/geopy/geocoders/nominatim.py:372\u001b[0m, in \u001b[0;36mNominatim.reverse\u001b[0;34m(self, query, exactly_one, timeout, language, addressdetails, zoom, namedetails)\u001b[0m\n\u001b[1;32m    370\u001b[0m logger\u001b[38;5;241m.\u001b[39mdebug(\u001b[38;5;124m\"\u001b[39m\u001b[38;5;132;01m%s\u001b[39;00m\u001b[38;5;124m.reverse: \u001b[39m\u001b[38;5;132;01m%s\u001b[39;00m\u001b[38;5;124m\"\u001b[39m, \u001b[38;5;28mself\u001b[39m\u001b[38;5;241m.\u001b[39m\u001b[38;5;18m__class__\u001b[39m\u001b[38;5;241m.\u001b[39m\u001b[38;5;18m__name__\u001b[39m, url)\n\u001b[1;32m    371\u001b[0m callback \u001b[38;5;241m=\u001b[39m partial(\u001b[38;5;28mself\u001b[39m\u001b[38;5;241m.\u001b[39m_parse_json, exactly_one\u001b[38;5;241m=\u001b[39mexactly_one)\n\u001b[0;32m--> 372\u001b[0m \u001b[38;5;28;01mreturn\u001b[39;00m \u001b[38;5;28mself\u001b[39m\u001b[38;5;241m.\u001b[39m_call_geocoder(url, callback, timeout\u001b[38;5;241m=\u001b[39mtimeout)\n",
      "File \u001b[0;32m~/anaconda3/lib/python3.11/site-packages/geopy/geocoders/base.py:368\u001b[0m, in \u001b[0;36mGeocoder._call_geocoder\u001b[0;34m(self, url, callback, timeout, is_json, headers)\u001b[0m\n\u001b[1;32m    366\u001b[0m \u001b[38;5;28;01mtry\u001b[39;00m:\n\u001b[1;32m    367\u001b[0m     \u001b[38;5;28;01mif\u001b[39;00m is_json:\n\u001b[0;32m--> 368\u001b[0m         result \u001b[38;5;241m=\u001b[39m \u001b[38;5;28mself\u001b[39m\u001b[38;5;241m.\u001b[39madapter\u001b[38;5;241m.\u001b[39mget_json(url, timeout\u001b[38;5;241m=\u001b[39mtimeout, headers\u001b[38;5;241m=\u001b[39mreq_headers)\n\u001b[1;32m    369\u001b[0m     \u001b[38;5;28;01melse\u001b[39;00m:\n\u001b[1;32m    370\u001b[0m         result \u001b[38;5;241m=\u001b[39m \u001b[38;5;28mself\u001b[39m\u001b[38;5;241m.\u001b[39madapter\u001b[38;5;241m.\u001b[39mget_text(url, timeout\u001b[38;5;241m=\u001b[39mtimeout, headers\u001b[38;5;241m=\u001b[39mreq_headers)\n",
      "File \u001b[0;32m~/anaconda3/lib/python3.11/site-packages/geopy/adapters.py:472\u001b[0m, in \u001b[0;36mRequestsAdapter.get_json\u001b[0;34m(self, url, timeout, headers)\u001b[0m\n\u001b[1;32m    471\u001b[0m \u001b[38;5;28;01mdef\u001b[39;00m \u001b[38;5;21mget_json\u001b[39m(\u001b[38;5;28mself\u001b[39m, url, \u001b[38;5;241m*\u001b[39m, timeout, headers):\n\u001b[0;32m--> 472\u001b[0m     resp \u001b[38;5;241m=\u001b[39m \u001b[38;5;28mself\u001b[39m\u001b[38;5;241m.\u001b[39m_request(url, timeout\u001b[38;5;241m=\u001b[39mtimeout, headers\u001b[38;5;241m=\u001b[39mheaders)\n\u001b[1;32m    473\u001b[0m     \u001b[38;5;28;01mtry\u001b[39;00m:\n\u001b[1;32m    474\u001b[0m         \u001b[38;5;28;01mreturn\u001b[39;00m resp\u001b[38;5;241m.\u001b[39mjson()\n",
      "File \u001b[0;32m~/anaconda3/lib/python3.11/site-packages/geopy/adapters.py:494\u001b[0m, in \u001b[0;36mRequestsAdapter._request\u001b[0;34m(self, url, timeout, headers)\u001b[0m\n\u001b[1;32m    492\u001b[0m         \u001b[38;5;28;01mraise\u001b[39;00m GeocoderServiceError(message)\n\u001b[1;32m    493\u001b[0m     \u001b[38;5;28;01melse\u001b[39;00m:\n\u001b[0;32m--> 494\u001b[0m         \u001b[38;5;28;01mraise\u001b[39;00m GeocoderUnavailable(message)\n\u001b[1;32m    495\u001b[0m \u001b[38;5;28;01melif\u001b[39;00m \u001b[38;5;28misinstance\u001b[39m(error, requests\u001b[38;5;241m.\u001b[39mTimeout):\n\u001b[1;32m    496\u001b[0m     \u001b[38;5;28;01mraise\u001b[39;00m GeocoderTimedOut(\u001b[38;5;124m\"\u001b[39m\u001b[38;5;124mService timed out\u001b[39m\u001b[38;5;124m\"\u001b[39m)\n",
      "\u001b[0;31mGeocoderUnavailable\u001b[0m: HTTPSConnectionPool(host='nominatim.openstreetmap.org', port=443): Max retries exceeded with url: /reverse?lat=-76.77278&lon=159.28305&format=json&accept-language=en&addressdetails=1 (Caused by ConnectTimeoutError(<urllib3.connection.HTTPSConnection object at 0x764f17719c90>, 'Connection to nominatim.openstreetmap.org timed out. (connect timeout=1)'))"
     ]
    }
   ],
   "source": [
    "from geopy.geocoders import Nominatim\n",
    "\n",
    "# Function to perform reverse geocoding for a batch of records\n",
    "def reverse_geocode_batch(batch):\n",
    "    geolocator = Nominatim(user_agent=\"my_geocoder\")\n",
    "    results = []\n",
    "    for index, row in batch.iterrows():\n",
    "        location = geolocator.reverse((row['reclat'], row['reclong']), language='en', exactly_one=True)\n",
    "        if location:\n",
    "            results.append(location.raw['address'].get('country', 'Unknown'))\n",
    "        else:\n",
    "            results.append('Unknown')\n",
    "    return results\n",
    "\n",
    "# Function to process the dataset in batches\n",
    "def process_dataset_in_batches(dataset, batch_size):\n",
    "    results = []\n",
    "    for batch_start in range(0, len(dataset), batch_size):\n",
    "        batch = dataset.iloc[batch_start:batch_start + batch_size]\n",
    "        batch_results = reverse_geocode_batch(batch)\n",
    "        results.extend(batch_results)\n",
    "    return results\n",
    "\n",
    "# Define the batch size\n",
    "batch_size = 1000\n",
    "\n",
    "# Process the dataset in batches\n",
    "country_names = process_dataset_in_batches(df, batch_size)\n",
    "\n",
    "# Append the country names to your original DataFrame\n",
    "df['country'] = country_names\n",
    "\n",
    "# Optionally, save the updated DataFrame to a new CSV file\n",
    "#df.to_csv('updated_data.csv', index=False)"
   ]
  },
  {
   "cell_type": "code",
   "execution_count": 25,
   "id": "db68de7b",
   "metadata": {},
   "outputs": [
    {
     "data": {
      "text/html": [
       "<div>\n",
       "<style scoped>\n",
       "    .dataframe tbody tr th:only-of-type {\n",
       "        vertical-align: middle;\n",
       "    }\n",
       "\n",
       "    .dataframe tbody tr th {\n",
       "        vertical-align: top;\n",
       "    }\n",
       "\n",
       "    .dataframe thead th {\n",
       "        text-align: right;\n",
       "    }\n",
       "</style>\n",
       "<table border=\"1\" class=\"dataframe\">\n",
       "  <thead>\n",
       "    <tr style=\"text-align: right;\">\n",
       "      <th></th>\n",
       "      <th>name</th>\n",
       "      <th>id</th>\n",
       "      <th>nametype</th>\n",
       "      <th>recclass</th>\n",
       "      <th>mass</th>\n",
       "      <th>fall</th>\n",
       "      <th>year</th>\n",
       "      <th>reclat</th>\n",
       "      <th>reclong</th>\n",
       "      <th>geolocation</th>\n",
       "    </tr>\n",
       "  </thead>\n",
       "  <tbody>\n",
       "    <tr>\n",
       "      <th>0</th>\n",
       "      <td>Aachen</td>\n",
       "      <td>1</td>\n",
       "      <td>Valid</td>\n",
       "      <td>L5</td>\n",
       "      <td>21.0</td>\n",
       "      <td>Fell</td>\n",
       "      <td>1880-01-01T00:00:00.000</td>\n",
       "      <td>50.77500</td>\n",
       "      <td>6.08333</td>\n",
       "      <td>{'latitude': '50.775', 'longitude': '6.08333'}</td>\n",
       "    </tr>\n",
       "    <tr>\n",
       "      <th>1</th>\n",
       "      <td>Aarhus</td>\n",
       "      <td>2</td>\n",
       "      <td>Valid</td>\n",
       "      <td>H6</td>\n",
       "      <td>720.0</td>\n",
       "      <td>Fell</td>\n",
       "      <td>1951-01-01T00:00:00.000</td>\n",
       "      <td>56.18333</td>\n",
       "      <td>10.23333</td>\n",
       "      <td>{'latitude': '56.18333', 'longitude': '10.23333'}</td>\n",
       "    </tr>\n",
       "    <tr>\n",
       "      <th>2</th>\n",
       "      <td>Abee</td>\n",
       "      <td>6</td>\n",
       "      <td>Valid</td>\n",
       "      <td>EH4</td>\n",
       "      <td>107000.0</td>\n",
       "      <td>Fell</td>\n",
       "      <td>1952-01-01T00:00:00.000</td>\n",
       "      <td>54.21667</td>\n",
       "      <td>-113.00000</td>\n",
       "      <td>{'latitude': '54.21667', 'longitude': '-113.0'}</td>\n",
       "    </tr>\n",
       "    <tr>\n",
       "      <th>3</th>\n",
       "      <td>Acapulco</td>\n",
       "      <td>10</td>\n",
       "      <td>Valid</td>\n",
       "      <td>Acapulcoite</td>\n",
       "      <td>1914.0</td>\n",
       "      <td>Fell</td>\n",
       "      <td>1976-01-01T00:00:00.000</td>\n",
       "      <td>16.88333</td>\n",
       "      <td>-99.90000</td>\n",
       "      <td>{'latitude': '16.88333', 'longitude': '-99.9'}</td>\n",
       "    </tr>\n",
       "    <tr>\n",
       "      <th>4</th>\n",
       "      <td>Achiras</td>\n",
       "      <td>370</td>\n",
       "      <td>Valid</td>\n",
       "      <td>L6</td>\n",
       "      <td>780.0</td>\n",
       "      <td>Fell</td>\n",
       "      <td>1902-01-01T00:00:00.000</td>\n",
       "      <td>-33.16667</td>\n",
       "      <td>-64.95000</td>\n",
       "      <td>{'latitude': '-33.16667', 'longitude': '-64.95'}</td>\n",
       "    </tr>\n",
       "    <tr>\n",
       "      <th>...</th>\n",
       "      <td>...</td>\n",
       "      <td>...</td>\n",
       "      <td>...</td>\n",
       "      <td>...</td>\n",
       "      <td>...</td>\n",
       "      <td>...</td>\n",
       "      <td>...</td>\n",
       "      <td>...</td>\n",
       "      <td>...</td>\n",
       "      <td>...</td>\n",
       "    </tr>\n",
       "    <tr>\n",
       "      <th>38110</th>\n",
       "      <td>Zillah 002</td>\n",
       "      <td>31356</td>\n",
       "      <td>Valid</td>\n",
       "      <td>Eucrite</td>\n",
       "      <td>172.0</td>\n",
       "      <td>Found</td>\n",
       "      <td>1990-01-01T00:00:00.000</td>\n",
       "      <td>29.03700</td>\n",
       "      <td>17.01850</td>\n",
       "      <td>{'latitude': '29.037', 'longitude': '17.0185'}</td>\n",
       "    </tr>\n",
       "    <tr>\n",
       "      <th>38111</th>\n",
       "      <td>Zinder</td>\n",
       "      <td>30409</td>\n",
       "      <td>Valid</td>\n",
       "      <td>Pallasite, ungrouped</td>\n",
       "      <td>46.0</td>\n",
       "      <td>Found</td>\n",
       "      <td>1999-01-01T00:00:00.000</td>\n",
       "      <td>13.78333</td>\n",
       "      <td>8.96667</td>\n",
       "      <td>{'latitude': '13.78333', 'longitude': '8.96667'}</td>\n",
       "    </tr>\n",
       "    <tr>\n",
       "      <th>38112</th>\n",
       "      <td>Zlin</td>\n",
       "      <td>30410</td>\n",
       "      <td>Valid</td>\n",
       "      <td>H4</td>\n",
       "      <td>3.3</td>\n",
       "      <td>Found</td>\n",
       "      <td>1939-01-01T00:00:00.000</td>\n",
       "      <td>49.25000</td>\n",
       "      <td>17.66667</td>\n",
       "      <td>{'latitude': '49.25', 'longitude': '17.66667'}</td>\n",
       "    </tr>\n",
       "    <tr>\n",
       "      <th>38113</th>\n",
       "      <td>Zubkovsky</td>\n",
       "      <td>31357</td>\n",
       "      <td>Valid</td>\n",
       "      <td>L6</td>\n",
       "      <td>2167.0</td>\n",
       "      <td>Found</td>\n",
       "      <td>2003-01-01T00:00:00.000</td>\n",
       "      <td>49.78917</td>\n",
       "      <td>41.50460</td>\n",
       "      <td>{'latitude': '49.78917', 'longitude': '41.5046'}</td>\n",
       "    </tr>\n",
       "    <tr>\n",
       "      <th>38114</th>\n",
       "      <td>Zulu Queen</td>\n",
       "      <td>30414</td>\n",
       "      <td>Valid</td>\n",
       "      <td>L3.7</td>\n",
       "      <td>200.0</td>\n",
       "      <td>Found</td>\n",
       "      <td>1976-01-01T00:00:00.000</td>\n",
       "      <td>33.98333</td>\n",
       "      <td>-115.68333</td>\n",
       "      <td>{'latitude': '33.98333', 'longitude': '-115.68...</td>\n",
       "    </tr>\n",
       "  </tbody>\n",
       "</table>\n",
       "<p>31705 rows × 10 columns</p>\n",
       "</div>"
      ],
      "text/plain": [
       "             name     id nametype              recclass      mass   fall  \\\n",
       "0          Aachen      1    Valid                    L5      21.0   Fell   \n",
       "1          Aarhus      2    Valid                    H6     720.0   Fell   \n",
       "2            Abee      6    Valid                   EH4  107000.0   Fell   \n",
       "3        Acapulco     10    Valid           Acapulcoite    1914.0   Fell   \n",
       "4         Achiras    370    Valid                    L6     780.0   Fell   \n",
       "...           ...    ...      ...                   ...       ...    ...   \n",
       "38110  Zillah 002  31356    Valid               Eucrite     172.0  Found   \n",
       "38111      Zinder  30409    Valid  Pallasite, ungrouped      46.0  Found   \n",
       "38112        Zlin  30410    Valid                    H4       3.3  Found   \n",
       "38113   Zubkovsky  31357    Valid                    L6    2167.0  Found   \n",
       "38114  Zulu Queen  30414    Valid                  L3.7     200.0  Found   \n",
       "\n",
       "                          year    reclat    reclong  \\\n",
       "0      1880-01-01T00:00:00.000  50.77500    6.08333   \n",
       "1      1951-01-01T00:00:00.000  56.18333   10.23333   \n",
       "2      1952-01-01T00:00:00.000  54.21667 -113.00000   \n",
       "3      1976-01-01T00:00:00.000  16.88333  -99.90000   \n",
       "4      1902-01-01T00:00:00.000 -33.16667  -64.95000   \n",
       "...                        ...       ...        ...   \n",
       "38110  1990-01-01T00:00:00.000  29.03700   17.01850   \n",
       "38111  1999-01-01T00:00:00.000  13.78333    8.96667   \n",
       "38112  1939-01-01T00:00:00.000  49.25000   17.66667   \n",
       "38113  2003-01-01T00:00:00.000  49.78917   41.50460   \n",
       "38114  1976-01-01T00:00:00.000  33.98333 -115.68333   \n",
       "\n",
       "                                             geolocation  \n",
       "0         {'latitude': '50.775', 'longitude': '6.08333'}  \n",
       "1      {'latitude': '56.18333', 'longitude': '10.23333'}  \n",
       "2        {'latitude': '54.21667', 'longitude': '-113.0'}  \n",
       "3         {'latitude': '16.88333', 'longitude': '-99.9'}  \n",
       "4       {'latitude': '-33.16667', 'longitude': '-64.95'}  \n",
       "...                                                  ...  \n",
       "38110     {'latitude': '29.037', 'longitude': '17.0185'}  \n",
       "38111   {'latitude': '13.78333', 'longitude': '8.96667'}  \n",
       "38112     {'latitude': '49.25', 'longitude': '17.66667'}  \n",
       "38113   {'latitude': '49.78917', 'longitude': '41.5046'}  \n",
       "38114  {'latitude': '33.98333', 'longitude': '-115.68...  \n",
       "\n",
       "[31705 rows x 10 columns]"
      ]
     },
     "execution_count": 25,
     "metadata": {},
     "output_type": "execute_result"
    }
   ],
   "source": [
    "df"
   ]
  },
  {
   "cell_type": "code",
   "execution_count": 18,
   "id": "31b4b140",
   "metadata": {},
   "outputs": [
    {
     "data": {
      "text/plain": [
       "22093"
      ]
     },
     "execution_count": 18,
     "metadata": {},
     "output_type": "execute_result"
    }
   ],
   "source": [
    "df['country'].isnull().sum()"
   ]
  },
  {
   "cell_type": "code",
   "execution_count": 19,
   "id": "5d34ef83",
   "metadata": {},
   "outputs": [],
   "source": [
    "df.to_excel('with country.xlsx')"
   ]
  },
  {
   "cell_type": "code",
   "execution_count": 21,
   "id": "fdd1d4ef",
   "metadata": {},
   "outputs": [
    {
     "ename": "GEOSException",
     "evalue": "ParseException: Unknown WKB type 16",
     "output_type": "error",
     "traceback": [
      "\u001b[0;31m---------------------------------------------------------------------------\u001b[0m",
      "\u001b[0;31mGEOSException\u001b[0m                             Traceback (most recent call last)",
      "Cell \u001b[0;32mIn[21], line 9\u001b[0m\n\u001b[1;32m      6\u001b[0m binary_data \u001b[38;5;241m=\u001b[39m \u001b[38;5;28mbytes\u001b[39m\u001b[38;5;241m.\u001b[39mfromhex(hex_string[\u001b[38;5;241m2\u001b[39m:])  \u001b[38;5;66;03m# remove the '0x' prefix and convert to binary\u001b[39;00m\n\u001b[1;32m      8\u001b[0m \u001b[38;5;66;03m# Parse WKB into a geometry object\u001b[39;00m\n\u001b[0;32m----> 9\u001b[0m geometry \u001b[38;5;241m=\u001b[39m loads(binary_data)\n\u001b[1;32m     11\u001b[0m \u001b[38;5;66;03m# Define the transformer to convert from the original CRS to EPSG 4326\u001b[39;00m\n\u001b[1;32m     12\u001b[0m transformer \u001b[38;5;241m=\u001b[39m Transformer\u001b[38;5;241m.\u001b[39mfrom_crs(geometry\u001b[38;5;241m.\u001b[39mcrs, \u001b[38;5;124m\"\u001b[39m\u001b[38;5;124mepsg:4326\u001b[39m\u001b[38;5;124m\"\u001b[39m)\n",
      "File \u001b[0;32m~/anaconda3/lib/python3.11/site-packages/shapely/wkb.py:17\u001b[0m, in \u001b[0;36mloads\u001b[0;34m(data, hex)\u001b[0m\n\u001b[1;32m      8\u001b[0m \u001b[38;5;28;01mdef\u001b[39;00m \u001b[38;5;21mloads\u001b[39m(data, \u001b[38;5;28mhex\u001b[39m\u001b[38;5;241m=\u001b[39m\u001b[38;5;28;01mFalse\u001b[39;00m):\n\u001b[1;32m      9\u001b[0m \u001b[38;5;250m    \u001b[39m\u001b[38;5;124;03m\"\"\"Load a geometry from a WKB byte string, or hex-encoded string if\u001b[39;00m\n\u001b[1;32m     10\u001b[0m \u001b[38;5;124;03m    ``hex=True``.\u001b[39;00m\n\u001b[1;32m     11\u001b[0m \n\u001b[0;32m   (...)\u001b[0m\n\u001b[1;32m     15\u001b[0m \u001b[38;5;124;03m        If ``data`` contains an invalid geometry.\u001b[39;00m\n\u001b[1;32m     16\u001b[0m \u001b[38;5;124;03m    \"\"\"\u001b[39;00m\n\u001b[0;32m---> 17\u001b[0m     \u001b[38;5;28;01mreturn\u001b[39;00m shapely\u001b[38;5;241m.\u001b[39mfrom_wkb(data)\n",
      "File \u001b[0;32m~/anaconda3/lib/python3.11/site-packages/shapely/io.py:320\u001b[0m, in \u001b[0;36mfrom_wkb\u001b[0;34m(geometry, on_invalid, **kwargs)\u001b[0m\n\u001b[1;32m    316\u001b[0m \u001b[38;5;66;03m# ensure the input has object dtype, to avoid numpy inferring it as a\u001b[39;00m\n\u001b[1;32m    317\u001b[0m \u001b[38;5;66;03m# fixed-length string dtype (which removes trailing null bytes upon access\u001b[39;00m\n\u001b[1;32m    318\u001b[0m \u001b[38;5;66;03m# of array elements)\u001b[39;00m\n\u001b[1;32m    319\u001b[0m geometry \u001b[38;5;241m=\u001b[39m np\u001b[38;5;241m.\u001b[39masarray(geometry, dtype\u001b[38;5;241m=\u001b[39m\u001b[38;5;28mobject\u001b[39m)\n\u001b[0;32m--> 320\u001b[0m \u001b[38;5;28;01mreturn\u001b[39;00m lib\u001b[38;5;241m.\u001b[39mfrom_wkb(geometry, invalid_handler, \u001b[38;5;241m*\u001b[39m\u001b[38;5;241m*\u001b[39mkwargs)\n",
      "\u001b[0;31mGEOSException\u001b[0m: ParseException: Unknown WKB type 16"
     ]
    }
   ],
>>>>>>> 6e69bd67c4ddc21ca4c43af7d09e25172455c1b9
   "source": [
    "from shapely.wkb import loads\n",
    "from pyproj import Transformer\n",
    "\n",
    "# Convert hexadecimal WKB to binary\n",
    "hex_string = \"0xE6100000010C1630815B77174C40F3599E0777772440\"\n",
    "binary_data = bytes.fromhex(hex_string[2:])  # remove the '0x' prefix and convert to binary\n",
    "\n",
    "# Parse WKB into a geometry object\n",
    "geometry = loads(binary_data)\n",
    "\n",
    "# Define the transformer to convert from the original CRS to EPSG 4326\n",
    "transformer = Transformer.from_crs(geometry.crs, \"epsg:4326\")\n",
    "\n",
    "# Transform the geometry to EPSG 4326 coordinates\n",
    "geometry_4326 = geometry.to_crs(transformer)\n",
    "\n",
    "# Now you can access the coordinates of the transformed geometry\n",
    "coordinates_4326 = geometry_4326.xy\n",
    "print(coordinates_4326)"
   ]
  },
  {
   "cell_type": "code",
   "execution_count": null,
   "id": "8c1e5589",
   "metadata": {},
   "outputs": [],
   "source": []
  }
 ],
 "metadata": {
  "kernelspec": {
   "display_name": "Python 3 (ipykernel)",
   "language": "python",
   "name": "python3"
  },
  "language_info": {
   "codemirror_mode": {
    "name": "ipython",
    "version": 3
   },
   "file_extension": ".py",
   "mimetype": "text/x-python",
   "name": "python",
   "nbconvert_exporter": "python",
   "pygments_lexer": "ipython3",
   "version": "3.9.12"
  }
 },
 "nbformat": 4,
 "nbformat_minor": 5
}
