{
 "cells": [
  {
   "cell_type": "markdown",
   "id": "6e6f228e",
   "metadata": {},
   "source": [
    "## Collect Data"
   ]
  },
  {
   "cell_type": "code",
   "execution_count": 1,
   "id": "48f93210",
   "metadata": {
    "ExecuteTime": {
     "end_time": "2024-06-06T09:39:53.287925Z",
     "start_time": "2024-06-06T09:39:52.241263Z"
    }
   },
   "outputs": [],
   "source": [
    "import requests\n",
    "import json"
   ]
  },
  {
   "cell_type": "code",
   "execution_count": 2,
   "id": "2ba3cfcb",
   "metadata": {
    "ExecuteTime": {
     "end_time": "2024-06-04T11:24:21.317239Z",
     "start_time": "2024-06-04T11:23:29.559609Z"
    }
   },
   "outputs": [
    {
     "name": "stdout",
     "output_type": "stream",
     "text": [
      "Requirement already satisfied: sodapy in c:\\users\\aaa\\anaconda3\\lib\\site-packages (2.2.0)\n",
      "Requirement already satisfied: requests>=2.28.1 in c:\\users\\aaa\\anaconda3\\lib\\site-packages (from sodapy) (2.28.1)\n",
      "Requirement already satisfied: idna<4,>=2.5 in c:\\users\\aaa\\anaconda3\\lib\\site-packages (from requests>=2.28.1->sodapy) (2.10)\n",
      "Requirement already satisfied: urllib3<1.27,>=1.21.1 in c:\\users\\aaa\\anaconda3\\lib\\site-packages (from requests>=2.28.1->sodapy) (1.26.9)\n",
      "Requirement already satisfied: certifi>=2017.4.17 in c:\\users\\aaa\\anaconda3\\lib\\site-packages (from requests>=2.28.1->sodapy) (2021.10.8)\n",
      "Requirement already satisfied: charset-normalizer<3,>=2 in c:\\users\\aaa\\anaconda3\\lib\\site-packages (from requests>=2.28.1->sodapy) (2.0.4)\n"
     ]
    }
   ],
   "source": [
    "#!pip3 install sodapy"
   ]
  },
  {
   "cell_type": "code",
   "execution_count": 2,
   "id": "5116d52a",
   "metadata": {
    "ExecuteTime": {
     "end_time": "2024-06-05T11:01:38.016964Z",
     "start_time": "2024-06-05T11:01:32.875539Z"
    }
   },
   "outputs": [],
   "source": [
    "import os\n",
    "import pandas as pd\n",
    "from sodapy import Socrata"
   ]
  },
  {
   "cell_type": "markdown",
   "id": "ce11aa4c",
   "metadata": {},
   "source": [
    "- https://data.nasa.gov/resource/gh4g-9sfh.json\n",
    "- https://support.socrata.com/hc/en-us/articles/115005364207-Access-Data-Insights-Data-using-OData"
   ]
  },
  {
   "cell_type": "code",
   "execution_count": 3,
   "id": "1a302d2e",
   "metadata": {
    "ExecuteTime": {
     "end_time": "2024-06-05T11:01:38.112933Z",
     "start_time": "2024-06-05T11:01:38.034959Z"
    }
   },
   "outputs": [],
   "source": [
    "socrata_domain = 'data.nasa.gov'\n",
    "socrata_dataset_identifier = 'gh4g-9sfh'\n",
    "\n",
    "#nasa_api = 'heIZjeBh2lcVfKe61TDOpQMywl1PHmiCzvPtGumF'\n",
    "#socrata_token = os.environ.get(nasa_api)"
   ]
  },
  {
   "cell_type": "code",
   "execution_count": 4,
   "id": "1ed9f3f3",
   "metadata": {
    "ExecuteTime": {
     "end_time": "2024-06-05T11:01:51.882543Z",
     "start_time": "2024-06-05T11:01:51.815565Z"
    }
   },
   "outputs": [
    {
     "name": "stderr",
     "output_type": "stream",
     "text": [
      "WARNING:root:Requests made without an app_token will be subject to strict throttling limits.\n"
     ]
    },
    {
     "name": "stdout",
     "output_type": "stream",
     "text": [
      "Domain: data.nasa.gov\n",
      "Session: <requests.sessions.Session object at 0x000001DDC0E41E80>\n",
      "URI Prefix: https://\n"
     ]
    }
   ],
   "source": [
    "client = Socrata(socrata_domain, None)\n",
    "print(\"Domain: {domain:}\\nSession: {session:}\\nURI Prefix: {uri_prefix:}\".format(**client.__dict__))"
   ]
  },
  {
   "cell_type": "code",
   "execution_count": 5,
   "id": "f773f3b3",
   "metadata": {
    "ExecuteTime": {
     "end_time": "2024-06-05T11:02:02.443173Z",
     "start_time": "2024-06-05T11:01:54.188805Z"
    }
   },
   "outputs": [
    {
     "data": {
      "text/html": [
       "<div>\n",
       "<style scoped>\n",
       "    .dataframe tbody tr th:only-of-type {\n",
       "        vertical-align: middle;\n",
       "    }\n",
       "\n",
       "    .dataframe tbody tr th {\n",
       "        vertical-align: top;\n",
       "    }\n",
       "\n",
       "    .dataframe thead th {\n",
       "        text-align: right;\n",
       "    }\n",
       "</style>\n",
       "<table border=\"1\" class=\"dataframe\">\n",
       "  <thead>\n",
       "    <tr style=\"text-align: right;\">\n",
       "      <th></th>\n",
       "      <th>name</th>\n",
       "      <th>id</th>\n",
       "      <th>nametype</th>\n",
       "      <th>recclass</th>\n",
       "      <th>mass</th>\n",
       "      <th>fall</th>\n",
       "      <th>year</th>\n",
       "      <th>reclat</th>\n",
       "      <th>reclong</th>\n",
       "      <th>geolocation</th>\n",
       "      <th>:@computed_region_cbhk_fwbd</th>\n",
       "      <th>:@computed_region_nnqa_25f4</th>\n",
       "    </tr>\n",
       "  </thead>\n",
       "  <tbody>\n",
       "    <tr>\n",
       "      <th>0</th>\n",
       "      <td>Aachen</td>\n",
       "      <td>1</td>\n",
       "      <td>Valid</td>\n",
       "      <td>L5</td>\n",
       "      <td>21</td>\n",
       "      <td>Fell</td>\n",
       "      <td>1880-01-01T00:00:00.000</td>\n",
       "      <td>50.775000</td>\n",
       "      <td>6.083330</td>\n",
       "      <td>{'latitude': '50.775', 'longitude': '6.08333'}</td>\n",
       "      <td>NaN</td>\n",
       "      <td>NaN</td>\n",
       "    </tr>\n",
       "    <tr>\n",
       "      <th>1</th>\n",
       "      <td>Aarhus</td>\n",
       "      <td>2</td>\n",
       "      <td>Valid</td>\n",
       "      <td>H6</td>\n",
       "      <td>720</td>\n",
       "      <td>Fell</td>\n",
       "      <td>1951-01-01T00:00:00.000</td>\n",
       "      <td>56.183330</td>\n",
       "      <td>10.233330</td>\n",
       "      <td>{'latitude': '56.18333', 'longitude': '10.23333'}</td>\n",
       "      <td>NaN</td>\n",
       "      <td>NaN</td>\n",
       "    </tr>\n",
       "    <tr>\n",
       "      <th>2</th>\n",
       "      <td>Abee</td>\n",
       "      <td>6</td>\n",
       "      <td>Valid</td>\n",
       "      <td>EH4</td>\n",
       "      <td>107000</td>\n",
       "      <td>Fell</td>\n",
       "      <td>1952-01-01T00:00:00.000</td>\n",
       "      <td>54.216670</td>\n",
       "      <td>-113.000000</td>\n",
       "      <td>{'latitude': '54.21667', 'longitude': '-113.0'}</td>\n",
       "      <td>NaN</td>\n",
       "      <td>NaN</td>\n",
       "    </tr>\n",
       "    <tr>\n",
       "      <th>3</th>\n",
       "      <td>Acapulco</td>\n",
       "      <td>10</td>\n",
       "      <td>Valid</td>\n",
       "      <td>Acapulcoite</td>\n",
       "      <td>1914</td>\n",
       "      <td>Fell</td>\n",
       "      <td>1976-01-01T00:00:00.000</td>\n",
       "      <td>16.883330</td>\n",
       "      <td>-99.900000</td>\n",
       "      <td>{'latitude': '16.88333', 'longitude': '-99.9'}</td>\n",
       "      <td>NaN</td>\n",
       "      <td>NaN</td>\n",
       "    </tr>\n",
       "    <tr>\n",
       "      <th>4</th>\n",
       "      <td>Achiras</td>\n",
       "      <td>370</td>\n",
       "      <td>Valid</td>\n",
       "      <td>L6</td>\n",
       "      <td>780</td>\n",
       "      <td>Fell</td>\n",
       "      <td>1902-01-01T00:00:00.000</td>\n",
       "      <td>-33.166670</td>\n",
       "      <td>-64.950000</td>\n",
       "      <td>{'latitude': '-33.16667', 'longitude': '-64.95'}</td>\n",
       "      <td>NaN</td>\n",
       "      <td>NaN</td>\n",
       "    </tr>\n",
       "  </tbody>\n",
       "</table>\n",
       "</div>"
      ],
      "text/plain": [
       "       name   id nametype     recclass    mass  fall                     year  \\\n",
       "0    Aachen    1    Valid           L5      21  Fell  1880-01-01T00:00:00.000   \n",
       "1    Aarhus    2    Valid           H6     720  Fell  1951-01-01T00:00:00.000   \n",
       "2      Abee    6    Valid          EH4  107000  Fell  1952-01-01T00:00:00.000   \n",
       "3  Acapulco   10    Valid  Acapulcoite    1914  Fell  1976-01-01T00:00:00.000   \n",
       "4   Achiras  370    Valid           L6     780  Fell  1902-01-01T00:00:00.000   \n",
       "\n",
       "       reclat      reclong                                        geolocation  \\\n",
       "0   50.775000     6.083330     {'latitude': '50.775', 'longitude': '6.08333'}   \n",
       "1   56.183330    10.233330  {'latitude': '56.18333', 'longitude': '10.23333'}   \n",
       "2   54.216670  -113.000000    {'latitude': '54.21667', 'longitude': '-113.0'}   \n",
       "3   16.883330   -99.900000     {'latitude': '16.88333', 'longitude': '-99.9'}   \n",
       "4  -33.166670   -64.950000   {'latitude': '-33.16667', 'longitude': '-64.95'}   \n",
       "\n",
       "  :@computed_region_cbhk_fwbd :@computed_region_nnqa_25f4  \n",
       "0                         NaN                         NaN  \n",
       "1                         NaN                         NaN  \n",
       "2                         NaN                         NaN  \n",
       "3                         NaN                         NaN  \n",
       "4                         NaN                         NaN  "
      ]
     },
     "execution_count": 5,
     "metadata": {},
     "output_type": "execute_result"
    }
   ],
   "source": [
    "results = client.get(socrata_dataset_identifier, limit = 50000)\n",
    "df = pd.DataFrame.from_dict(results)\n",
    "df.head()"
   ]
  },
  {
   "cell_type": "code",
   "execution_count": 6,
   "id": "4c4793ddd6d6a010",
   "metadata": {
    "ExecuteTime": {
     "end_time": "2024-06-05T11:02:10.899474Z",
     "start_time": "2024-06-05T11:02:10.858488Z"
    }
   },
   "outputs": [
    {
     "data": {
      "text/plain": [
       "list"
      ]
     },
     "execution_count": 6,
     "metadata": {},
     "output_type": "execute_result"
    }
   ],
   "source": [
    "type(results)"
   ]
  },
  {
   "cell_type": "code",
   "execution_count": null,
   "id": "509d877e8a32c5e5",
   "metadata": {
    "ExecuteTime": {
     "end_time": "2024-06-04T12:37:12.656881Z",
     "start_time": "2024-06-04T12:37:11.128372Z"
    }
   },
   "outputs": [],
   "source": [
    "grouped = df.groupby(':@computed_region_cbhk_fwbd').sum()"
   ]
  },
  {
   "cell_type": "code",
   "execution_count": null,
   "id": "ee72ef711fa69ce",
   "metadata": {
    "ExecuteTime": {
     "end_time": "2024-06-04T12:37:35.135689Z",
     "start_time": "2024-06-04T12:37:34.510889Z"
    }
   },
   "outputs": [],
   "source": [
    "print(grouped)"
   ]
  },
  {
   "cell_type": "markdown",
   "id": "1a0bfcee",
   "metadata": {},
   "source": [
    "#### Data transformation"
   ]
  },
  {
   "cell_type": "markdown",
   "id": "2c1b241a2ba60a85",
   "metadata": {},
   "source": [
    "##### Quick EDA"
   ]
  },
  {
   "cell_type": "code",
   "execution_count": 7,
   "id": "d58766e5",
   "metadata": {
    "ExecuteTime": {
     "end_time": "2024-06-05T11:02:42.942544Z",
     "start_time": "2024-06-05T11:02:42.839574Z"
    }
   },
   "outputs": [
    {
     "data": {
      "text/plain": [
       "(45716, 12)"
      ]
     },
     "execution_count": 7,
     "metadata": {},
     "output_type": "execute_result"
    }
   ],
   "source": [
    "df.shape"
   ]
  },
  {
   "cell_type": "code",
   "execution_count": 8,
   "id": "4ecd7aa4",
   "metadata": {
    "ExecuteTime": {
     "end_time": "2024-06-05T11:02:49.190788Z",
     "start_time": "2024-06-05T11:02:49.173793Z"
    }
   },
   "outputs": [],
   "source": [
    "## Save raw data to local machine\n",
    "#df.to_csv('Meteorite landing records_raw.csv', header=True)"
   ]
  },
  {
   "cell_type": "code",
   "execution_count": 9,
   "id": "01970edb",
   "metadata": {},
   "outputs": [
    {
     "name": "stdout",
     "output_type": "stream",
     "text": [
      "<class 'pandas.core.frame.DataFrame'>\n",
      "RangeIndex: 45716 entries, 0 to 45715\n",
      "Data columns (total 12 columns):\n",
      " #   Column                       Non-Null Count  Dtype \n",
      "---  ------                       --------------  ----- \n",
      " 0   name                         45716 non-null  object\n",
      " 1   id                           45716 non-null  object\n",
      " 2   nametype                     45716 non-null  object\n",
      " 3   recclass                     45716 non-null  object\n",
      " 4   mass                         45585 non-null  object\n",
      " 5   fall                         45716 non-null  object\n",
      " 6   year                         45425 non-null  object\n",
      " 7   reclat                       38401 non-null  object\n",
      " 8   reclong                      38401 non-null  object\n",
      " 9   geolocation                  38401 non-null  object\n",
      " 10  :@computed_region_cbhk_fwbd  1659 non-null   object\n",
      " 11  :@computed_region_nnqa_25f4  1659 non-null   object\n",
      "dtypes: object(12)\n",
      "memory usage: 4.2+ MB\n"
     ]
    }
   ],
   "source": [
    "df.info()"
   ]
  },
  {
   "cell_type": "code",
   "execution_count": 10,
   "id": "84744e64",
   "metadata": {
    "ExecuteTime": {
     "end_time": "2024-06-05T11:02:51.158464Z",
     "start_time": "2024-06-05T11:02:50.430394Z"
    }
   },
   "outputs": [
    {
     "name": "stdout",
     "output_type": "stream",
     "text": [
      "['Fell' 'Found']\n",
      "['L5' 'H6' 'EH4' 'Acapulcoite' 'L6' 'LL3-6' 'H5' 'L' 'Diogenite-pm'\n",
      " 'Unknown' 'H4' 'H' 'Iron, IVA' 'CR2-an' 'LL5' 'CI1' 'L/LL4'\n",
      " 'Eucrite-mmict' 'CV3' 'Ureilite-an' 'Stone-uncl' 'L3' 'Angrite' 'LL6'\n",
      " 'L4' 'Aubrite' 'Iron, IIAB' 'Iron, IAB-sLL' 'Iron, ungrouped' 'CM2' 'OC'\n",
      " 'Mesosiderite-A1' 'LL4' 'C2-ung' 'LL3.8' 'Howardite' 'Eucrite-pmict'\n",
      " 'Diogenite' 'LL3.15' 'LL3.9' 'Iron, IAB-MG' 'H/L3.9' 'Iron?' 'Eucrite'\n",
      " 'H4-an' 'L/LL6' 'Iron, IIIAB' 'H/L4' 'H4-5' 'L3.7' 'LL3.4'\n",
      " 'Martian (chassignite)' 'EL6' 'H3.8' 'H3-5' 'H5-6' 'Mesosiderite' 'H5-7'\n",
      " 'L3-6' 'H4-6' 'Ureilite' 'Iron, IID' 'Mesosiderite-A3/4' 'CO3.3' 'H3'\n",
      " 'EH3/4-an' 'Iron, IIE' 'L/LL5' 'H3.7' 'CBa' 'H4/5' 'H3/4' 'H?' 'H3-6'\n",
      " 'L3.4' 'Iron, IAB-sHL' 'L3.7-6' 'EH7-an' 'Iron' 'CR2' 'CO3.2' 'K3' 'L5/6'\n",
      " 'CK4' 'Iron, IIE-an' 'L3.6' 'LL3.2' 'Pallasite' 'CO3.5' 'Lodranite'\n",
      " 'Mesosiderite-A3' 'L3-4' 'H5/6' 'Pallasite, PMG' 'Eucrite-cm' 'L5-6'\n",
      " 'CO3.6' 'Martian (nakhlite)' 'LL3.6' 'C3-ung' 'H3-4' 'CO3.4' 'EH3'\n",
      " 'Iron, IAB-ung' 'Winonaite' 'LL' 'Eucrite-br' 'Iron, IIF' 'R3.8-6' 'L4-6'\n",
      " 'EH5' 'LL3.00' 'H3.4' 'Martian (shergottite)' 'Achondrite-ung' 'LL3.3'\n",
      " 'C' 'H/L3.6' 'Iron, IIIAB-an' 'LL7' 'Mesosiderite-B2' 'LL4-6' 'CO3.7'\n",
      " 'L/LL6-an' 'Iron, IAB complex' 'Pallasite, PMG-an' 'H3.9/4' 'L3.8'\n",
      " 'LL5-6' 'LL3.8-6' 'L3.9' 'L4-5' 'L3-5' 'LL4/5' 'L4/5' 'H3.9' 'H3.6-6'\n",
      " 'H3.8-5' 'H3.8/4' 'H3.9-5' 'CH3' 'R3.8-5' 'L3.9/4' 'E4' 'CO3'\n",
      " 'Chondrite-ung' 'H~5' 'H~6' 'L/LL3.10' 'EL5' 'LL3' 'L~6' 'L~3' 'H~4'\n",
      " 'L(LL)3.5-3.7' 'Iron, IIIE-an' 'H3.6' 'L3.4-3.7' 'L3.5' 'CM1/2'\n",
      " 'Martian (OPX)' 'Brachinite' 'LL7(?)' 'LL6(?)' 'Eucrite-Mg rich' 'H3.5-4'\n",
      " 'EL3' 'R3.6' 'H3.5' 'CM1' 'L/LL3' 'H7' 'L(?)3' 'L3.2' 'L3.7-3.9'\n",
      " 'Mesosiderite-B1' 'Eucrite-unbr' 'LL3.7' 'CO3.0' 'LL3.5' 'L3.7-4'\n",
      " 'CV3-an' 'Lunar (anorth)' 'L3.3' 'Iron, IAB-sLM' 'Lunar' 'Iron, IC'\n",
      " 'Iron, IID-an' 'Iron, IIIE' 'Iron, IVA-an' 'CK6' 'L3.1' 'CK5' 'H3.3'\n",
      " 'H3.7-6' 'E6' 'H3.0' 'H3.1' 'L3.0' 'L/LL3.4' 'C6' 'LL3.0'\n",
      " 'Lunar (gabbro)' 'R4' 'C4' 'Iron, IIG' 'Iron, IIC' 'C1-ung' 'H5-an'\n",
      " 'EH4/5' 'Iron, IIIF' 'R3-6' 'Mesosiderite-B4' 'L6/7' 'Relict H'\n",
      " 'L-imp melt' 'CK3' 'H3-an' 'Iron, IVB' 'R3.8' 'L~5' 'Mesosiderite-an'\n",
      " 'Mesosiderite-A2' 'Pallasite, PES' 'C4-ung' 'Iron, IAB?' 'Mesosiderite-A'\n",
      " 'R3.5-6' 'H3.9-6' 'Ureilite-pmict' 'LL~6' 'CK4/5' 'EL4'\n",
      " 'Lunar (feldsp. breccia)' 'L3.9-6' 'H-an' 'L/LL3-6' 'L/LL3-5' 'H/L3.5'\n",
      " 'H/L3' 'R3-4' 'CK3-an' 'LL4-5' 'H/L6' 'L3/4' 'H-imp melt' 'CR'\n",
      " 'Chondrite-fusion crust' 'Iron, IAB-sLH' 'H(L)3-an' 'L(LL)3' 'H(L)3' 'R3'\n",
      " 'L7' 'CM-an' 'L/LL~6' 'L/LL~5' 'L~4' 'L/LL~4' 'LL(L)3' 'H3.2'\n",
      " 'L-melt breccia' 'H6-melt breccia' 'H5-melt breccia' 'H-melt rock'\n",
      " 'Eucrite-an' 'Lunar (bas/anor)' 'LL5/6' 'LL3/4' 'H3.4/3.5'\n",
      " 'Lunar (basalt)' 'H/L5' 'H(5?)' 'LL-imp melt' 'Mesosiderite?' 'H~4/5'\n",
      " 'L6-melt breccia' 'L3.5-3.7' 'Iron, IIAB-an' 'L3.3-3.7' 'L3.2-3.6'\n",
      " 'L3.3-3.6' 'Acapulcoite/Lodranite' 'Mesosiderite-B' 'CK5/6' 'L3.05' 'C2'\n",
      " 'C4/5' 'L/LL3.2' 'Iron, IIIAB?' 'L3.5-5' 'L/LL(?)3' 'H4(?)'\n",
      " 'Iron, IAB-sHH' 'Relict iron' 'EL4/5' 'L5-7' 'Diogenite-an' 'L-melt rock'\n",
      " 'CR1' 'H5 ' 'L5 ' 'H4 ' 'L4 ' 'E' 'L6 ' 'H3 ' 'LL6 ' 'H-metal' 'H6 '\n",
      " 'L-metal' 'Relict OC' 'EH' 'Mesosiderite-A4' 'L/LL5/6' 'H3.8-4' 'CBb'\n",
      " 'EL6/7' 'EL7' 'CH/CBb' 'CO3.8' 'H/L~4' 'Mesosiderite-C2' 'R5' 'H4/6'\n",
      " 'H3.7-5' 'LL3.7-6' 'H3.7/3.8' 'L3.7/3.8' 'EH-imp melt' 'R' 'Fusion crust'\n",
      " 'Aubrite-an' 'R6' 'LL-melt rock' 'L3.5-3.9' 'L3.2-3.5' 'L3.3-3.5'\n",
      " 'L3.0-3.7' 'E3-an' 'K' 'E3' 'Acapulcoite/lodranite' 'CK4-an' 'L(LL)3.05'\n",
      " 'L3.10' 'CB' 'Diogenite-olivine' 'EL-melt rock' 'EH6'\n",
      " 'Pallasite, ungrouped' 'L/LL4/5' 'L3.8-an' 'Iron, IAB-an' 'C5/6-ung'\n",
      " 'CV2' 'Iron, IC-an' 'Lunar (bas. breccia)' 'L3.8-6' 'R3/4' 'R3.9' 'CK'\n",
      " 'LL3.10' 'R4/5' 'L3.8-5' 'Mesosiderite-C' 'Enst achon' 'H/L3-4' 'L(H)3'\n",
      " 'LL6/7' 'LL3.1' 'OC3' 'R3.7' 'CO3 ' 'CH3 ' 'LL~4' 'LL~4/5' 'L(LL)~4'\n",
      " 'H3.05' 'H3.10' 'Impact melt breccia' 'LL3-5' 'H/L3.7' 'LL3-4' 'CK3/4'\n",
      " 'Martian' 'CO3.1' 'Lunar (bas/gab brec)' 'Achondrite-prim' 'LL<3.5'\n",
      " 'CK3.8' 'L/LL-melt rock' 'H6/7' 'EL6 ' 'Iron, IAB-sHL-an' 'CM2-an' 'R3-5'\n",
      " 'L4-melt rock' 'L6-melt rock' 'H/L4/5' 'EL3/4' 'H/L6-melt rock'\n",
      " 'Enst achon-ung' 'L3-7' 'R3.4' 'LL3.05' 'LL4/6' 'LL3.8-4' 'H3.15'\n",
      " 'C3.0-ung' 'LL-melt breccia' 'LL6-melt breccia' 'L5-melt breccia'\n",
      " 'LL(L)3.1' 'LL6-an' 'L4-melt breccia' 'Howardite-an' 'H4-melt breccia'\n",
      " 'Martian (basaltic breccia)' 'L3-melt breccia' 'L~4-6' 'LL~5' 'R3.5-4'\n",
      " 'CR7' 'H-melt breccia' 'Lunar (norite)' 'L3.00' 'H3.0-3.4' 'L/LL4-6' 'CM'\n",
      " 'EH7' 'L4-an' 'E-an' 'H3.8/3.9' 'L3.9-5' 'H3.8-6' 'H3.4-5' 'L3.0-3.9'\n",
      " 'L3.5-3.8' 'H3.2-3.7' 'L3.6-4' 'Iron, IIE?' 'C3/4-ung' 'L/LL3.5'\n",
      " 'L/LL3.6/3.7' 'H/L4-5' 'LL~3' 'Pallasite?' 'LL5-7' 'LL3.9/4' 'H3.8-an'\n",
      " 'CR-an' 'L/LL5-6' 'L(LL)5' 'L(LL)6' 'LL3.1-3.5' 'E5' 'Lodranite-an'\n",
      " 'H3.2-6' 'H(?)4' 'E5-an' 'H3.2-an' 'EH6-an' 'Stone-ung' 'C1/2-ung' 'L/LL']\n",
      "['Valid' 'Relict']\n"
     ]
    }
   ],
   "source": [
    "print(df['fall'].unique())\n",
    "print(df['recclass'].unique())\n",
    "print(df['nametype'].unique())"
   ]
  },
  {
   "cell_type": "code",
   "execution_count": 11,
   "id": "a32e0ff40fa1e8fc",
   "metadata": {
    "ExecuteTime": {
     "end_time": "2024-06-05T11:02:55.576054Z",
     "start_time": "2024-06-05T11:02:55.519072Z"
    }
   },
   "outputs": [
    {
     "data": {
      "text/plain": [
       "466"
      ]
     },
     "execution_count": 11,
     "metadata": {},
     "output_type": "execute_result"
    }
   ],
   "source": [
    "df['recclass'].nunique()"
   ]
  },
  {
   "cell_type": "code",
   "execution_count": 12,
   "id": "4dd4ef42",
   "metadata": {
    "ExecuteTime": {
     "end_time": "2024-06-05T11:02:58.027272Z",
     "start_time": "2024-06-05T11:02:57.813340Z"
    }
   },
   "outputs": [
    {
     "name": "stdout",
     "output_type": "stream",
     "text": [
      "recclass\n",
      "L6          8285\n",
      "H5          7142\n",
      "L5          4796\n",
      "H6          4528\n",
      "H4          4211\n",
      "            ... \n",
      "L3.2-3.5       1\n",
      "L3.2-3.6       1\n",
      "L3.3-3.5       1\n",
      "L3.3-3.6       1\n",
      "L3-7           1\n",
      "Length: 466, dtype: int64\n"
     ]
    }
   ],
   "source": [
    "print(df.value_counts('recclass'))"
   ]
  },
  {
   "cell_type": "code",
   "execution_count": 13,
   "id": "0ec54336",
   "metadata": {
    "ExecuteTime": {
     "end_time": "2024-06-05T11:03:07.172282Z",
     "start_time": "2024-06-05T11:03:07.048323Z"
    }
   },
   "outputs": [
    {
     "data": {
      "text/plain": [
       "nametype  fall \n",
       "Valid     Found    44534\n",
       "          Fell      1107\n",
       "Relict    Found       75\n",
       "dtype: int64"
      ]
     },
     "execution_count": 13,
     "metadata": {},
     "output_type": "execute_result"
    }
   ],
   "source": [
    "df.value_counts(['nametype', 'fall'])"
   ]
  },
  {
   "cell_type": "code",
   "execution_count": 14,
   "id": "e3fcdb57",
   "metadata": {
    "ExecuteTime": {
     "end_time": "2024-06-05T11:03:14.354048Z",
     "start_time": "2024-06-05T11:03:12.627597Z"
    }
   },
   "outputs": [
    {
     "data": {
      "text/plain": [
       "name                               0\n",
       "id                                 0\n",
       "nametype                           0\n",
       "recclass                           0\n",
       "mass                             131\n",
       "fall                               0\n",
       "year                             291\n",
       "reclat                          7315\n",
       "reclong                         7315\n",
       "geolocation                     7315\n",
       ":@computed_region_cbhk_fwbd    44057\n",
       ":@computed_region_nnqa_25f4    44057\n",
       "dtype: int64"
      ]
     },
     "execution_count": 14,
     "metadata": {},
     "output_type": "execute_result"
    }
   ],
   "source": [
    "df.isnull().sum()"
   ]
  },
  {
   "cell_type": "code",
   "execution_count": 16,
   "id": "ae9b6c654555dc03",
   "metadata": {
    "ExecuteTime": {
     "end_time": "2024-06-05T11:03:26.791082Z",
     "start_time": "2024-06-05T11:03:22.026601Z"
    }
   },
   "outputs": [
    {
     "ename": "TypeError",
     "evalue": "unhashable type: 'dict'",
     "output_type": "error",
     "traceback": [
      "\u001b[1;31m---------------------------------------------------------------------------\u001b[0m",
      "\u001b[1;31mTypeError\u001b[0m                                 Traceback (most recent call last)",
      "Cell \u001b[1;32mIn [16], line 1\u001b[0m\n\u001b[1;32m----> 1\u001b[0m \u001b[43mdf\u001b[49m\u001b[38;5;241;43m.\u001b[39;49m\u001b[43mduplicated\u001b[49m\u001b[43m(\u001b[49m\u001b[43m)\u001b[49m\u001b[38;5;241m.\u001b[39msum() \u001b[38;5;66;03m# not working because of dictionary values, geolocation column\u001b[39;00m\n",
      "File \u001b[1;32m~\\anaconda3\\lib\\site-packages\\pandas\\core\\frame.py:6253\u001b[0m, in \u001b[0;36mDataFrame.duplicated\u001b[1;34m(self, subset, keep)\u001b[0m\n\u001b[0;32m   6250\u001b[0m     \u001b[38;5;28;01mraise\u001b[39;00m \u001b[38;5;167;01mKeyError\u001b[39;00m(diff)\n\u001b[0;32m   6252\u001b[0m vals \u001b[38;5;241m=\u001b[39m (col\u001b[38;5;241m.\u001b[39mvalues \u001b[38;5;28;01mfor\u001b[39;00m name, col \u001b[38;5;129;01min\u001b[39;00m \u001b[38;5;28mself\u001b[39m\u001b[38;5;241m.\u001b[39mitems() \u001b[38;5;28;01mif\u001b[39;00m name \u001b[38;5;129;01min\u001b[39;00m subset)\n\u001b[1;32m-> 6253\u001b[0m labels, shape \u001b[38;5;241m=\u001b[39m \u001b[38;5;28mmap\u001b[39m(\u001b[38;5;28mlist\u001b[39m, \u001b[38;5;28;43mzip\u001b[39;49m\u001b[43m(\u001b[49m\u001b[38;5;241;43m*\u001b[39;49m\u001b[38;5;28;43mmap\u001b[39;49m\u001b[43m(\u001b[49m\u001b[43mf\u001b[49m\u001b[43m,\u001b[49m\u001b[43m \u001b[49m\u001b[43mvals\u001b[49m\u001b[43m)\u001b[49m\u001b[43m)\u001b[49m)\n\u001b[0;32m   6255\u001b[0m ids \u001b[38;5;241m=\u001b[39m get_group_index(\n\u001b[0;32m   6256\u001b[0m     labels,\n\u001b[0;32m   6257\u001b[0m     \u001b[38;5;66;03m# error: Argument 1 to \"tuple\" has incompatible type \"List[_T]\";\u001b[39;00m\n\u001b[1;32m   (...)\u001b[0m\n\u001b[0;32m   6261\u001b[0m     xnull\u001b[38;5;241m=\u001b[39m\u001b[38;5;28;01mFalse\u001b[39;00m,\n\u001b[0;32m   6262\u001b[0m )\n\u001b[0;32m   6263\u001b[0m result \u001b[38;5;241m=\u001b[39m \u001b[38;5;28mself\u001b[39m\u001b[38;5;241m.\u001b[39m_constructor_sliced(duplicated(ids, keep), index\u001b[38;5;241m=\u001b[39m\u001b[38;5;28mself\u001b[39m\u001b[38;5;241m.\u001b[39mindex)\n",
      "File \u001b[1;32m~\\anaconda3\\lib\\site-packages\\pandas\\core\\frame.py:6226\u001b[0m, in \u001b[0;36mDataFrame.duplicated.<locals>.f\u001b[1;34m(vals)\u001b[0m\n\u001b[0;32m   6225\u001b[0m \u001b[38;5;28;01mdef\u001b[39;00m \u001b[38;5;21mf\u001b[39m(vals) \u001b[38;5;241m-\u001b[39m\u001b[38;5;241m>\u001b[39m \u001b[38;5;28mtuple\u001b[39m[np\u001b[38;5;241m.\u001b[39mndarray, \u001b[38;5;28mint\u001b[39m]:\n\u001b[1;32m-> 6226\u001b[0m     labels, shape \u001b[38;5;241m=\u001b[39m \u001b[43malgorithms\u001b[49m\u001b[38;5;241;43m.\u001b[39;49m\u001b[43mfactorize\u001b[49m\u001b[43m(\u001b[49m\u001b[43mvals\u001b[49m\u001b[43m,\u001b[49m\u001b[43m \u001b[49m\u001b[43msize_hint\u001b[49m\u001b[38;5;241;43m=\u001b[39;49m\u001b[38;5;28;43mlen\u001b[39;49m\u001b[43m(\u001b[49m\u001b[38;5;28;43mself\u001b[39;49m\u001b[43m)\u001b[49m\u001b[43m)\u001b[49m\n\u001b[0;32m   6227\u001b[0m     \u001b[38;5;28;01mreturn\u001b[39;00m labels\u001b[38;5;241m.\u001b[39mastype(\u001b[38;5;124m\"\u001b[39m\u001b[38;5;124mi8\u001b[39m\u001b[38;5;124m\"\u001b[39m, copy\u001b[38;5;241m=\u001b[39m\u001b[38;5;28;01mFalse\u001b[39;00m), \u001b[38;5;28mlen\u001b[39m(shape)\n",
      "File \u001b[1;32m~\\anaconda3\\lib\\site-packages\\pandas\\core\\algorithms.py:763\u001b[0m, in \u001b[0;36mfactorize\u001b[1;34m(values, sort, na_sentinel, size_hint)\u001b[0m\n\u001b[0;32m    760\u001b[0m     \u001b[38;5;28;01melse\u001b[39;00m:\n\u001b[0;32m    761\u001b[0m         na_value \u001b[38;5;241m=\u001b[39m \u001b[38;5;28;01mNone\u001b[39;00m\n\u001b[1;32m--> 763\u001b[0m     codes, uniques \u001b[38;5;241m=\u001b[39m \u001b[43mfactorize_array\u001b[49m\u001b[43m(\u001b[49m\n\u001b[0;32m    764\u001b[0m \u001b[43m        \u001b[49m\u001b[43mvalues\u001b[49m\u001b[43m,\u001b[49m\u001b[43m \u001b[49m\u001b[43mna_sentinel\u001b[49m\u001b[38;5;241;43m=\u001b[39;49m\u001b[43mna_sentinel\u001b[49m\u001b[43m,\u001b[49m\u001b[43m \u001b[49m\u001b[43msize_hint\u001b[49m\u001b[38;5;241;43m=\u001b[39;49m\u001b[43msize_hint\u001b[49m\u001b[43m,\u001b[49m\u001b[43m \u001b[49m\u001b[43mna_value\u001b[49m\u001b[38;5;241;43m=\u001b[39;49m\u001b[43mna_value\u001b[49m\n\u001b[0;32m    765\u001b[0m \u001b[43m    \u001b[49m\u001b[43m)\u001b[49m\n\u001b[0;32m    767\u001b[0m \u001b[38;5;28;01mif\u001b[39;00m sort \u001b[38;5;129;01mand\u001b[39;00m \u001b[38;5;28mlen\u001b[39m(uniques) \u001b[38;5;241m>\u001b[39m \u001b[38;5;241m0\u001b[39m:\n\u001b[0;32m    768\u001b[0m     uniques, codes \u001b[38;5;241m=\u001b[39m safe_sort(\n\u001b[0;32m    769\u001b[0m         uniques, codes, na_sentinel\u001b[38;5;241m=\u001b[39mna_sentinel, assume_unique\u001b[38;5;241m=\u001b[39m\u001b[38;5;28;01mTrue\u001b[39;00m, verify\u001b[38;5;241m=\u001b[39m\u001b[38;5;28;01mFalse\u001b[39;00m\n\u001b[0;32m    770\u001b[0m     )\n",
      "File \u001b[1;32m~\\anaconda3\\lib\\site-packages\\pandas\\core\\algorithms.py:560\u001b[0m, in \u001b[0;36mfactorize_array\u001b[1;34m(values, na_sentinel, size_hint, na_value, mask)\u001b[0m\n\u001b[0;32m    557\u001b[0m hash_klass, values \u001b[38;5;241m=\u001b[39m _get_data_algo(values)\n\u001b[0;32m    559\u001b[0m table \u001b[38;5;241m=\u001b[39m hash_klass(size_hint \u001b[38;5;129;01mor\u001b[39;00m \u001b[38;5;28mlen\u001b[39m(values))\n\u001b[1;32m--> 560\u001b[0m uniques, codes \u001b[38;5;241m=\u001b[39m \u001b[43mtable\u001b[49m\u001b[38;5;241;43m.\u001b[39;49m\u001b[43mfactorize\u001b[49m\u001b[43m(\u001b[49m\n\u001b[0;32m    561\u001b[0m \u001b[43m    \u001b[49m\u001b[43mvalues\u001b[49m\u001b[43m,\u001b[49m\u001b[43m \u001b[49m\u001b[43mna_sentinel\u001b[49m\u001b[38;5;241;43m=\u001b[39;49m\u001b[43mna_sentinel\u001b[49m\u001b[43m,\u001b[49m\u001b[43m \u001b[49m\u001b[43mna_value\u001b[49m\u001b[38;5;241;43m=\u001b[39;49m\u001b[43mna_value\u001b[49m\u001b[43m,\u001b[49m\u001b[43m \u001b[49m\u001b[43mmask\u001b[49m\u001b[38;5;241;43m=\u001b[39;49m\u001b[43mmask\u001b[49m\n\u001b[0;32m    562\u001b[0m \u001b[43m\u001b[49m\u001b[43m)\u001b[49m\n\u001b[0;32m    564\u001b[0m codes \u001b[38;5;241m=\u001b[39m ensure_platform_int(codes)\n\u001b[0;32m    565\u001b[0m \u001b[38;5;28;01mreturn\u001b[39;00m codes, uniques\n",
      "File \u001b[1;32mpandas\\_libs\\hashtable_class_helper.pxi:5394\u001b[0m, in \u001b[0;36mpandas._libs.hashtable.PyObjectHashTable.factorize\u001b[1;34m()\u001b[0m\n",
      "File \u001b[1;32mpandas\\_libs\\hashtable_class_helper.pxi:5310\u001b[0m, in \u001b[0;36mpandas._libs.hashtable.PyObjectHashTable._unique\u001b[1;34m()\u001b[0m\n",
      "\u001b[1;31mTypeError\u001b[0m: unhashable type: 'dict'"
     ]
    }
   ],
   "source": [
    "df.duplicated().sum() # not working because of dictionary values, geolocation column"
   ]
  },
  {
   "cell_type": "code",
   "execution_count": 18,
   "id": "b5f1d81b25022620",
   "metadata": {
    "ExecuteTime": {
     "end_time": "2024-06-05T11:03:33.607906Z",
     "start_time": "2024-06-05T11:03:29.400246Z"
    }
   },
   "outputs": [
    {
     "name": "stdout",
     "output_type": "stream",
     "text": [
      "0\n"
     ]
    }
   ],
   "source": [
    "df = df.applymap(lambda x: str(x) if isinstance(x, dict) else x)\n",
    "print(df.duplicated().sum())"
   ]
  },
  {
   "cell_type": "markdown",
   "id": "71628856",
   "metadata": {},
   "source": [
    "##### Data cleaning"
   ]
  },
  {
   "cell_type": "code",
   "execution_count": 15,
   "id": "6ed505fe744d1348",
   "metadata": {
    "ExecuteTime": {
     "end_time": "2024-06-04T11:50:58.412976Z",
     "start_time": "2024-06-04T11:50:56.486598Z"
    },
    "scrolled": false
   },
   "outputs": [
    {
     "data": {
      "text/html": [
       "<div>\n",
       "<style scoped>\n",
       "    .dataframe tbody tr th:only-of-type {\n",
       "        vertical-align: middle;\n",
       "    }\n",
       "\n",
       "    .dataframe tbody tr th {\n",
       "        vertical-align: top;\n",
       "    }\n",
       "\n",
       "    .dataframe thead th {\n",
       "        text-align: right;\n",
       "    }\n",
       "</style>\n",
       "<table border=\"1\" class=\"dataframe\">\n",
       "  <thead>\n",
       "    <tr style=\"text-align: right;\">\n",
       "      <th></th>\n",
       "      <th>name</th>\n",
       "      <th>id</th>\n",
       "      <th>nametype</th>\n",
       "      <th>recclass</th>\n",
       "      <th>mass</th>\n",
       "      <th>fall</th>\n",
       "      <th>year</th>\n",
       "      <th>reclat</th>\n",
       "      <th>reclong</th>\n",
       "      <th>geolocation</th>\n",
       "      <th>:@computed_region_cbhk_fwbd</th>\n",
       "      <th>:@computed_region_nnqa_25f4</th>\n",
       "    </tr>\n",
       "  </thead>\n",
       "  <tbody>\n",
       "    <tr>\n",
       "      <th>45708</th>\n",
       "      <td>Zhigansk</td>\n",
       "      <td>30405</td>\n",
       "      <td>Valid</td>\n",
       "      <td>Iron, IIIAB</td>\n",
       "      <td>900000</td>\n",
       "      <td>Found</td>\n",
       "      <td>1966-01-01T00:00:00.000</td>\n",
       "      <td>68.000000</td>\n",
       "      <td>128.300000</td>\n",
       "      <td>{'latitude': '68.0', 'longitude': '128.3'}</td>\n",
       "      <td>NaN</td>\n",
       "      <td>NaN</td>\n",
       "    </tr>\n",
       "    <tr>\n",
       "      <th>45709</th>\n",
       "      <td>Zhongxiang</td>\n",
       "      <td>30406</td>\n",
       "      <td>Valid</td>\n",
       "      <td>Iron</td>\n",
       "      <td>100000</td>\n",
       "      <td>Found</td>\n",
       "      <td>1981-01-01T00:00:00.000</td>\n",
       "      <td>31.200000</td>\n",
       "      <td>112.500000</td>\n",
       "      <td>{'latitude': '31.2', 'longitude': '112.5'}</td>\n",
       "      <td>NaN</td>\n",
       "      <td>NaN</td>\n",
       "    </tr>\n",
       "    <tr>\n",
       "      <th>45710</th>\n",
       "      <td>Zillah 001</td>\n",
       "      <td>31355</td>\n",
       "      <td>Valid</td>\n",
       "      <td>L6</td>\n",
       "      <td>1475</td>\n",
       "      <td>Found</td>\n",
       "      <td>1990-01-01T00:00:00.000</td>\n",
       "      <td>29.037000</td>\n",
       "      <td>17.018500</td>\n",
       "      <td>{'latitude': '29.037', 'longitude': '17.0185'}</td>\n",
       "      <td>NaN</td>\n",
       "      <td>NaN</td>\n",
       "    </tr>\n",
       "    <tr>\n",
       "      <th>45711</th>\n",
       "      <td>Zillah 002</td>\n",
       "      <td>31356</td>\n",
       "      <td>Valid</td>\n",
       "      <td>Eucrite</td>\n",
       "      <td>172</td>\n",
       "      <td>Found</td>\n",
       "      <td>1990-01-01T00:00:00.000</td>\n",
       "      <td>29.037000</td>\n",
       "      <td>17.018500</td>\n",
       "      <td>{'latitude': '29.037', 'longitude': '17.0185'}</td>\n",
       "      <td>NaN</td>\n",
       "      <td>NaN</td>\n",
       "    </tr>\n",
       "    <tr>\n",
       "      <th>45712</th>\n",
       "      <td>Zinder</td>\n",
       "      <td>30409</td>\n",
       "      <td>Valid</td>\n",
       "      <td>Pallasite, ungrouped</td>\n",
       "      <td>46</td>\n",
       "      <td>Found</td>\n",
       "      <td>1999-01-01T00:00:00.000</td>\n",
       "      <td>13.783330</td>\n",
       "      <td>8.966670</td>\n",
       "      <td>{'latitude': '13.78333', 'longitude': '8.96667'}</td>\n",
       "      <td>NaN</td>\n",
       "      <td>NaN</td>\n",
       "    </tr>\n",
       "    <tr>\n",
       "      <th>45713</th>\n",
       "      <td>Zlin</td>\n",
       "      <td>30410</td>\n",
       "      <td>Valid</td>\n",
       "      <td>H4</td>\n",
       "      <td>3.3</td>\n",
       "      <td>Found</td>\n",
       "      <td>1939-01-01T00:00:00.000</td>\n",
       "      <td>49.250000</td>\n",
       "      <td>17.666670</td>\n",
       "      <td>{'latitude': '49.25', 'longitude': '17.66667'}</td>\n",
       "      <td>NaN</td>\n",
       "      <td>NaN</td>\n",
       "    </tr>\n",
       "    <tr>\n",
       "      <th>45714</th>\n",
       "      <td>Zubkovsky</td>\n",
       "      <td>31357</td>\n",
       "      <td>Valid</td>\n",
       "      <td>L6</td>\n",
       "      <td>2167</td>\n",
       "      <td>Found</td>\n",
       "      <td>2003-01-01T00:00:00.000</td>\n",
       "      <td>49.789170</td>\n",
       "      <td>41.504600</td>\n",
       "      <td>{'latitude': '49.78917', 'longitude': '41.5046'}</td>\n",
       "      <td>NaN</td>\n",
       "      <td>NaN</td>\n",
       "    </tr>\n",
       "    <tr>\n",
       "      <th>45715</th>\n",
       "      <td>Zulu Queen</td>\n",
       "      <td>30414</td>\n",
       "      <td>Valid</td>\n",
       "      <td>L3.7</td>\n",
       "      <td>200</td>\n",
       "      <td>Found</td>\n",
       "      <td>1976-01-01T00:00:00.000</td>\n",
       "      <td>33.983330</td>\n",
       "      <td>-115.683330</td>\n",
       "      <td>{'latitude': '33.98333', 'longitude': '-115.68...</td>\n",
       "      <td>8</td>\n",
       "      <td>1177</td>\n",
       "    </tr>\n",
       "  </tbody>\n",
       "</table>\n",
       "</div>"
      ],
      "text/plain": [
       "             name     id nametype              recclass    mass   fall  \\\n",
       "45708    Zhigansk  30405    Valid           Iron, IIIAB  900000  Found   \n",
       "45709  Zhongxiang  30406    Valid                  Iron  100000  Found   \n",
       "45710  Zillah 001  31355    Valid                    L6    1475  Found   \n",
       "45711  Zillah 002  31356    Valid               Eucrite     172  Found   \n",
       "45712      Zinder  30409    Valid  Pallasite, ungrouped      46  Found   \n",
       "45713        Zlin  30410    Valid                    H4     3.3  Found   \n",
       "45714   Zubkovsky  31357    Valid                    L6    2167  Found   \n",
       "45715  Zulu Queen  30414    Valid                  L3.7     200  Found   \n",
       "\n",
       "                          year     reclat      reclong  \\\n",
       "45708  1966-01-01T00:00:00.000  68.000000   128.300000   \n",
       "45709  1981-01-01T00:00:00.000  31.200000   112.500000   \n",
       "45710  1990-01-01T00:00:00.000  29.037000    17.018500   \n",
       "45711  1990-01-01T00:00:00.000  29.037000    17.018500   \n",
       "45712  1999-01-01T00:00:00.000  13.783330     8.966670   \n",
       "45713  1939-01-01T00:00:00.000  49.250000    17.666670   \n",
       "45714  2003-01-01T00:00:00.000  49.789170    41.504600   \n",
       "45715  1976-01-01T00:00:00.000  33.983330  -115.683330   \n",
       "\n",
       "                                             geolocation  \\\n",
       "45708         {'latitude': '68.0', 'longitude': '128.3'}   \n",
       "45709         {'latitude': '31.2', 'longitude': '112.5'}   \n",
       "45710     {'latitude': '29.037', 'longitude': '17.0185'}   \n",
       "45711     {'latitude': '29.037', 'longitude': '17.0185'}   \n",
       "45712   {'latitude': '13.78333', 'longitude': '8.96667'}   \n",
       "45713     {'latitude': '49.25', 'longitude': '17.66667'}   \n",
       "45714   {'latitude': '49.78917', 'longitude': '41.5046'}   \n",
       "45715  {'latitude': '33.98333', 'longitude': '-115.68...   \n",
       "\n",
       "      :@computed_region_cbhk_fwbd :@computed_region_nnqa_25f4  \n",
       "45708                         NaN                         NaN  \n",
       "45709                         NaN                         NaN  \n",
       "45710                         NaN                         NaN  \n",
       "45711                         NaN                         NaN  \n",
       "45712                         NaN                         NaN  \n",
       "45713                         NaN                         NaN  \n",
       "45714                         NaN                         NaN  \n",
       "45715                           8                        1177  "
      ]
     },
     "execution_count": 15,
     "metadata": {},
     "output_type": "execute_result"
    }
   ],
   "source": [
    "df.tail(8)"
   ]
  },
  {
   "cell_type": "markdown",
   "id": "44c496c3",
   "metadata": {},
   "source": [
    "<br> <br>\n",
    "- **Read downloaded data to compare**"
   ]
  },
  {
   "cell_type": "code",
   "execution_count": 24,
   "id": "5207e6c018ce9573",
   "metadata": {
    "ExecuteTime": {
     "end_time": "2024-06-04T12:06:52.874302Z",
     "start_time": "2024-06-04T12:06:50.311124Z"
    }
   },
   "outputs": [],
   "source": [
    "df1 = pd.read_csv('Meteorite_Landings_20240604.csv')"
   ]
  },
  {
   "cell_type": "code",
   "execution_count": 25,
   "id": "801c0984342b73da",
   "metadata": {
    "ExecuteTime": {
     "end_time": "2024-06-04T12:07:20.517465Z",
     "start_time": "2024-06-04T12:07:20.015627Z"
    },
    "scrolled": true
   },
   "outputs": [
    {
     "data": {
      "text/html": [
       "<div>\n",
       "<style scoped>\n",
       "    .dataframe tbody tr th:only-of-type {\n",
       "        vertical-align: middle;\n",
       "    }\n",
       "\n",
       "    .dataframe tbody tr th {\n",
       "        vertical-align: top;\n",
       "    }\n",
       "\n",
       "    .dataframe thead th {\n",
       "        text-align: right;\n",
       "    }\n",
       "</style>\n",
       "<table border=\"1\" class=\"dataframe\">\n",
       "  <thead>\n",
       "    <tr style=\"text-align: right;\">\n",
       "      <th></th>\n",
       "      <th>name</th>\n",
       "      <th>id</th>\n",
       "      <th>nametype</th>\n",
       "      <th>recclass</th>\n",
       "      <th>mass (g)</th>\n",
       "      <th>fall</th>\n",
       "      <th>year</th>\n",
       "      <th>reclat</th>\n",
       "      <th>reclong</th>\n",
       "      <th>GeoLocation</th>\n",
       "    </tr>\n",
       "  </thead>\n",
       "  <tbody>\n",
       "    <tr>\n",
       "      <th>0</th>\n",
       "      <td>Aachen</td>\n",
       "      <td>1</td>\n",
       "      <td>Valid</td>\n",
       "      <td>L5</td>\n",
       "      <td>21.0</td>\n",
       "      <td>Fell</td>\n",
       "      <td>1880.0</td>\n",
       "      <td>50.77500</td>\n",
       "      <td>6.08333</td>\n",
       "      <td>(50.775, 6.08333)</td>\n",
       "    </tr>\n",
       "    <tr>\n",
       "      <th>1</th>\n",
       "      <td>Aarhus</td>\n",
       "      <td>2</td>\n",
       "      <td>Valid</td>\n",
       "      <td>H6</td>\n",
       "      <td>720.0</td>\n",
       "      <td>Fell</td>\n",
       "      <td>1951.0</td>\n",
       "      <td>56.18333</td>\n",
       "      <td>10.23333</td>\n",
       "      <td>(56.18333, 10.23333)</td>\n",
       "    </tr>\n",
       "    <tr>\n",
       "      <th>2</th>\n",
       "      <td>Abee</td>\n",
       "      <td>6</td>\n",
       "      <td>Valid</td>\n",
       "      <td>EH4</td>\n",
       "      <td>107000.0</td>\n",
       "      <td>Fell</td>\n",
       "      <td>1952.0</td>\n",
       "      <td>54.21667</td>\n",
       "      <td>-113.00000</td>\n",
       "      <td>(54.21667, -113.0)</td>\n",
       "    </tr>\n",
       "    <tr>\n",
       "      <th>3</th>\n",
       "      <td>Acapulco</td>\n",
       "      <td>10</td>\n",
       "      <td>Valid</td>\n",
       "      <td>Acapulcoite</td>\n",
       "      <td>1914.0</td>\n",
       "      <td>Fell</td>\n",
       "      <td>1976.0</td>\n",
       "      <td>16.88333</td>\n",
       "      <td>-99.90000</td>\n",
       "      <td>(16.88333, -99.9)</td>\n",
       "    </tr>\n",
       "    <tr>\n",
       "      <th>4</th>\n",
       "      <td>Achiras</td>\n",
       "      <td>370</td>\n",
       "      <td>Valid</td>\n",
       "      <td>L6</td>\n",
       "      <td>780.0</td>\n",
       "      <td>Fell</td>\n",
       "      <td>1902.0</td>\n",
       "      <td>-33.16667</td>\n",
       "      <td>-64.95000</td>\n",
       "      <td>(-33.16667, -64.95)</td>\n",
       "    </tr>\n",
       "  </tbody>\n",
       "</table>\n",
       "</div>"
      ],
      "text/plain": [
       "       name   id nametype     recclass  mass (g)  fall    year    reclat  \\\n",
       "0    Aachen    1    Valid           L5      21.0  Fell  1880.0  50.77500   \n",
       "1    Aarhus    2    Valid           H6     720.0  Fell  1951.0  56.18333   \n",
       "2      Abee    6    Valid          EH4  107000.0  Fell  1952.0  54.21667   \n",
       "3  Acapulco   10    Valid  Acapulcoite    1914.0  Fell  1976.0  16.88333   \n",
       "4   Achiras  370    Valid           L6     780.0  Fell  1902.0 -33.16667   \n",
       "\n",
       "     reclong           GeoLocation  \n",
       "0    6.08333     (50.775, 6.08333)  \n",
       "1   10.23333  (56.18333, 10.23333)  \n",
       "2 -113.00000    (54.21667, -113.0)  \n",
       "3  -99.90000     (16.88333, -99.9)  \n",
       "4  -64.95000   (-33.16667, -64.95)  "
      ]
     },
     "execution_count": 25,
     "metadata": {},
     "output_type": "execute_result"
    }
   ],
   "source": [
    "df1.head()"
   ]
  },
  {
   "cell_type": "code",
   "execution_count": 26,
   "id": "e54c3401b31883e2",
   "metadata": {
    "ExecuteTime": {
     "end_time": "2024-06-04T12:17:42.071591Z",
     "start_time": "2024-06-04T12:17:41.973623Z"
    }
   },
   "outputs": [
    {
     "data": {
      "text/plain": [
       "(45716, 10)"
      ]
     },
     "execution_count": 26,
     "metadata": {},
     "output_type": "execute_result"
    }
   ],
   "source": [
    "df1.shape"
   ]
  },
  {
   "cell_type": "code",
   "execution_count": 40,
   "id": "487643a804ed6171",
   "metadata": {
    "ExecuteTime": {
     "end_time": "2024-06-04T12:09:53.842425Z",
     "start_time": "2024-06-04T12:09:45.397137Z"
    }
   },
   "outputs": [
    {
     "name": "stdout",
     "output_type": "stream",
     "text": [
      "<class 'pandas.core.frame.DataFrame'>\n",
      "RangeIndex: 45716 entries, 0 to 45715\n",
      "Data columns (total 10 columns):\n",
      " #   Column       Non-Null Count  Dtype         \n",
      "---  ------       --------------  -----         \n",
      " 0   name         45716 non-null  object        \n",
      " 1   id           45716 non-null  int64         \n",
      " 2   nametype     45716 non-null  object        \n",
      " 3   recclass     45716 non-null  object        \n",
      " 4   mass (g)     45585 non-null  float64       \n",
      " 5   fall         45716 non-null  object        \n",
      " 6   year         45425 non-null  datetime64[ns]\n",
      " 7   reclat       38401 non-null  float64       \n",
      " 8   reclong      38401 non-null  float64       \n",
      " 9   GeoLocation  38401 non-null  object        \n",
      "dtypes: datetime64[ns](1), float64(3), int64(1), object(5)\n",
      "memory usage: 3.5+ MB\n"
     ]
    }
   ],
   "source": [
    "df1.info()"
   ]
  },
  {
   "cell_type": "markdown",
   "id": "10180846",
   "metadata": {},
   "source": [
    "<br> <br>"
   ]
  },
  {
   "cell_type": "markdown",
   "id": "07a1988f",
   "metadata": {},
   "source": [
    "- <p>https://support.socrata.com/hc/en-us/articles/14697304583319-Default-Column-Metadata-For-Computed-Region-Columns<p>"
   ]
  },
  {
   "cell_type": "code",
   "execution_count": 16,
   "id": "d7c3cd8c",
   "metadata": {},
   "outputs": [],
   "source": [
    "# Drop unneccessary columns\n",
    "# Computed region columns are system-generated columns \n",
    "# that are created any time a Spatial Lens is applied to datasets with point column data.\n",
    "# Once generated, these columns are used in defining boundaries based on the provided point columns.\n",
    "meteorite = df.drop(columns=[':@computed_region_cbhk_fwbd', ':@computed_region_nnqa_25f4'])"
   ]
  },
  {
   "cell_type": "code",
   "execution_count": 17,
   "id": "04fe005c",
   "metadata": {},
   "outputs": [
    {
     "data": {
      "text/html": [
       "<div>\n",
       "<style scoped>\n",
       "    .dataframe tbody tr th:only-of-type {\n",
       "        vertical-align: middle;\n",
       "    }\n",
       "\n",
       "    .dataframe tbody tr th {\n",
       "        vertical-align: top;\n",
       "    }\n",
       "\n",
       "    .dataframe thead th {\n",
       "        text-align: right;\n",
       "    }\n",
       "</style>\n",
       "<table border=\"1\" class=\"dataframe\">\n",
       "  <thead>\n",
       "    <tr style=\"text-align: right;\">\n",
       "      <th></th>\n",
       "      <th>name</th>\n",
       "      <th>id</th>\n",
       "      <th>nametype</th>\n",
       "      <th>recclass</th>\n",
       "      <th>mass</th>\n",
       "      <th>fall</th>\n",
       "      <th>year</th>\n",
       "      <th>reclat</th>\n",
       "      <th>reclong</th>\n",
       "      <th>geolocation</th>\n",
       "    </tr>\n",
       "  </thead>\n",
       "  <tbody>\n",
       "    <tr>\n",
       "      <th>0</th>\n",
       "      <td>Aachen</td>\n",
       "      <td>1</td>\n",
       "      <td>Valid</td>\n",
       "      <td>L5</td>\n",
       "      <td>21</td>\n",
       "      <td>Fell</td>\n",
       "      <td>1880-01-01T00:00:00.000</td>\n",
       "      <td>50.775000</td>\n",
       "      <td>6.083330</td>\n",
       "      <td>{'latitude': '50.775', 'longitude': '6.08333'}</td>\n",
       "    </tr>\n",
       "    <tr>\n",
       "      <th>1</th>\n",
       "      <td>Aarhus</td>\n",
       "      <td>2</td>\n",
       "      <td>Valid</td>\n",
       "      <td>H6</td>\n",
       "      <td>720</td>\n",
       "      <td>Fell</td>\n",
       "      <td>1951-01-01T00:00:00.000</td>\n",
       "      <td>56.183330</td>\n",
       "      <td>10.233330</td>\n",
       "      <td>{'latitude': '56.18333', 'longitude': '10.23333'}</td>\n",
       "    </tr>\n",
       "    <tr>\n",
       "      <th>2</th>\n",
       "      <td>Abee</td>\n",
       "      <td>6</td>\n",
       "      <td>Valid</td>\n",
       "      <td>EH4</td>\n",
       "      <td>107000</td>\n",
       "      <td>Fell</td>\n",
       "      <td>1952-01-01T00:00:00.000</td>\n",
       "      <td>54.216670</td>\n",
       "      <td>-113.000000</td>\n",
       "      <td>{'latitude': '54.21667', 'longitude': '-113.0'}</td>\n",
       "    </tr>\n",
       "    <tr>\n",
       "      <th>3</th>\n",
       "      <td>Acapulco</td>\n",
       "      <td>10</td>\n",
       "      <td>Valid</td>\n",
       "      <td>Acapulcoite</td>\n",
       "      <td>1914</td>\n",
       "      <td>Fell</td>\n",
       "      <td>1976-01-01T00:00:00.000</td>\n",
       "      <td>16.883330</td>\n",
       "      <td>-99.900000</td>\n",
       "      <td>{'latitude': '16.88333', 'longitude': '-99.9'}</td>\n",
       "    </tr>\n",
       "    <tr>\n",
       "      <th>4</th>\n",
       "      <td>Achiras</td>\n",
       "      <td>370</td>\n",
       "      <td>Valid</td>\n",
       "      <td>L6</td>\n",
       "      <td>780</td>\n",
       "      <td>Fell</td>\n",
       "      <td>1902-01-01T00:00:00.000</td>\n",
       "      <td>-33.166670</td>\n",
       "      <td>-64.950000</td>\n",
       "      <td>{'latitude': '-33.16667', 'longitude': '-64.95'}</td>\n",
       "    </tr>\n",
       "  </tbody>\n",
       "</table>\n",
       "</div>"
      ],
      "text/plain": [
       "       name   id nametype     recclass    mass  fall                     year  \\\n",
       "0    Aachen    1    Valid           L5      21  Fell  1880-01-01T00:00:00.000   \n",
       "1    Aarhus    2    Valid           H6     720  Fell  1951-01-01T00:00:00.000   \n",
       "2      Abee    6    Valid          EH4  107000  Fell  1952-01-01T00:00:00.000   \n",
       "3  Acapulco   10    Valid  Acapulcoite    1914  Fell  1976-01-01T00:00:00.000   \n",
       "4   Achiras  370    Valid           L6     780  Fell  1902-01-01T00:00:00.000   \n",
       "\n",
       "       reclat      reclong                                        geolocation  \n",
       "0   50.775000     6.083330     {'latitude': '50.775', 'longitude': '6.08333'}  \n",
       "1   56.183330    10.233330  {'latitude': '56.18333', 'longitude': '10.23333'}  \n",
       "2   54.216670  -113.000000    {'latitude': '54.21667', 'longitude': '-113.0'}  \n",
       "3   16.883330   -99.900000     {'latitude': '16.88333', 'longitude': '-99.9'}  \n",
       "4  -33.166670   -64.950000   {'latitude': '-33.16667', 'longitude': '-64.95'}  "
      ]
     },
     "execution_count": 17,
     "metadata": {},
     "output_type": "execute_result"
    }
   ],
   "source": [
    "meteorite.head()"
   ]
  },
  {
   "cell_type": "code",
   "execution_count": 18,
   "id": "de3fa9d8",
   "metadata": {},
   "outputs": [
    {
     "name": "stdout",
     "output_type": "stream",
     "text": [
      "<class 'pandas.core.frame.DataFrame'>\n",
      "RangeIndex: 45716 entries, 0 to 45715\n",
      "Data columns (total 10 columns):\n",
      " #   Column       Non-Null Count  Dtype \n",
      "---  ------       --------------  ----- \n",
      " 0   name         45716 non-null  object\n",
      " 1   id           45716 non-null  object\n",
      " 2   nametype     45716 non-null  object\n",
      " 3   recclass     45716 non-null  object\n",
      " 4   mass         45585 non-null  object\n",
      " 5   fall         45716 non-null  object\n",
      " 6   year         45425 non-null  object\n",
      " 7   reclat       38401 non-null  object\n",
      " 8   reclong      38401 non-null  object\n",
      " 9   geolocation  38401 non-null  object\n",
      "dtypes: object(10)\n",
      "memory usage: 3.5+ MB\n"
     ]
    }
   ],
   "source": [
    "meteorite.info()"
   ]
  },
  {
   "cell_type": "code",
   "execution_count": 19,
   "id": "524dc1a7",
   "metadata": {},
   "outputs": [],
   "source": [
    "meteorite['id'] = meteorite['id'].astype('int64')"
   ]
  },
  {
   "cell_type": "code",
   "execution_count": 20,
   "id": "d975d448",
   "metadata": {
    "scrolled": true
   },
   "outputs": [],
   "source": [
    "meteorite.rename(columns={\"mass\" : \"mass (g)\"}, inplace=True)"
   ]
  },
  {
   "cell_type": "code",
   "execution_count": 21,
   "id": "1e87ce5e",
   "metadata": {},
   "outputs": [],
   "source": [
    "meteorite['mass (g)'] = meteorite['mass (g)'].apply(lambda x: float(x))"
   ]
  },
  {
   "cell_type": "code",
   "execution_count": 22,
   "id": "bf0c354b",
   "metadata": {},
   "outputs": [],
   "source": [
    "meteorite['year'] = pd.to_datetime(meteorite['year'], errors='coerce')"
   ]
  },
  {
   "cell_type": "code",
   "execution_count": 23,
   "id": "8d21f67b",
   "metadata": {},
   "outputs": [],
   "source": [
    "meteorite['reclat'] = meteorite['reclat'].apply(lambda x: float(x))\n",
    "meteorite['reclong'] = meteorite['reclong'].apply(lambda x: float(x))"
   ]
  },
  {
   "cell_type": "code",
   "execution_count": 24,
   "id": "3d1f6192",
   "metadata": {},
   "outputs": [
    {
     "name": "stderr",
     "output_type": "stream",
     "text": [
      "C:\\Users\\aaa\\anaconda3\\lib\\site-packages\\pandas\\core\\dtypes\\cast.py:122: ShapelyDeprecationWarning: The array interface is deprecated and will no longer work in Shapely 2.0. Convert the '.coords' to a numpy array instead.\n",
      "  arr = construct_1d_object_array_from_listlike(values)\n"
     ]
    }
   ],
   "source": [
    "from shapely.geometry import Point\n",
    "\n",
    "# Function to create Point objects\n",
    "def create_point(row):\n",
    "    return Point(float(row['reclong']), float(row['reclat']))\n",
    "\n",
    "# Apply the function to each row to create the 'geometry' column\n",
    "meteorite['geometry'] = meteorite.apply(create_point, axis=1)"
   ]
  },
  {
   "cell_type": "code",
   "execution_count": 25,
   "id": "648c7d88",
   "metadata": {},
   "outputs": [
    {
     "data": {
      "text/plain": [
       "name                   object\n",
       "id                      int64\n",
       "nametype               object\n",
       "recclass               object\n",
       "mass (g)              float64\n",
       "fall                   object\n",
       "year           datetime64[ns]\n",
       "reclat                float64\n",
       "reclong               float64\n",
       "geolocation            object\n",
       "geometry               object\n",
       "dtype: object"
      ]
     },
     "execution_count": 25,
     "metadata": {},
     "output_type": "execute_result"
    }
   ],
   "source": [
    "meteorite.dtypes"
   ]
  },
  {
   "cell_type": "code",
   "execution_count": 26,
   "id": "4beacb30",
   "metadata": {},
   "outputs": [
    {
     "data": {
      "text/html": [
       "<div>\n",
       "<style scoped>\n",
       "    .dataframe tbody tr th:only-of-type {\n",
       "        vertical-align: middle;\n",
       "    }\n",
       "\n",
       "    .dataframe tbody tr th {\n",
       "        vertical-align: top;\n",
       "    }\n",
       "\n",
       "    .dataframe thead th {\n",
       "        text-align: right;\n",
       "    }\n",
       "</style>\n",
       "<table border=\"1\" class=\"dataframe\">\n",
       "  <thead>\n",
       "    <tr style=\"text-align: right;\">\n",
       "      <th></th>\n",
       "      <th>name</th>\n",
       "      <th>id</th>\n",
       "      <th>nametype</th>\n",
       "      <th>recclass</th>\n",
       "      <th>mass (g)</th>\n",
       "      <th>fall</th>\n",
       "      <th>year</th>\n",
       "      <th>reclat</th>\n",
       "      <th>reclong</th>\n",
       "      <th>geolocation</th>\n",
       "      <th>geometry</th>\n",
       "    </tr>\n",
       "  </thead>\n",
       "  <tbody>\n",
       "    <tr>\n",
       "      <th>0</th>\n",
       "      <td>Aachen</td>\n",
       "      <td>1</td>\n",
       "      <td>Valid</td>\n",
       "      <td>L5</td>\n",
       "      <td>21.0</td>\n",
       "      <td>Fell</td>\n",
       "      <td>1880-01-01</td>\n",
       "      <td>50.77500</td>\n",
       "      <td>6.08333</td>\n",
       "      <td>{'latitude': '50.775', 'longitude': '6.08333'}</td>\n",
       "      <td>POINT (6.08333 50.775)</td>\n",
       "    </tr>\n",
       "    <tr>\n",
       "      <th>1</th>\n",
       "      <td>Aarhus</td>\n",
       "      <td>2</td>\n",
       "      <td>Valid</td>\n",
       "      <td>H6</td>\n",
       "      <td>720.0</td>\n",
       "      <td>Fell</td>\n",
       "      <td>1951-01-01</td>\n",
       "      <td>56.18333</td>\n",
       "      <td>10.23333</td>\n",
       "      <td>{'latitude': '56.18333', 'longitude': '10.23333'}</td>\n",
       "      <td>POINT (10.23333 56.18333)</td>\n",
       "    </tr>\n",
       "    <tr>\n",
       "      <th>2</th>\n",
       "      <td>Abee</td>\n",
       "      <td>6</td>\n",
       "      <td>Valid</td>\n",
       "      <td>EH4</td>\n",
       "      <td>107000.0</td>\n",
       "      <td>Fell</td>\n",
       "      <td>1952-01-01</td>\n",
       "      <td>54.21667</td>\n",
       "      <td>-113.00000</td>\n",
       "      <td>{'latitude': '54.21667', 'longitude': '-113.0'}</td>\n",
       "      <td>POINT (-113 54.21667)</td>\n",
       "    </tr>\n",
       "    <tr>\n",
       "      <th>3</th>\n",
       "      <td>Acapulco</td>\n",
       "      <td>10</td>\n",
       "      <td>Valid</td>\n",
       "      <td>Acapulcoite</td>\n",
       "      <td>1914.0</td>\n",
       "      <td>Fell</td>\n",
       "      <td>1976-01-01</td>\n",
       "      <td>16.88333</td>\n",
       "      <td>-99.90000</td>\n",
       "      <td>{'latitude': '16.88333', 'longitude': '-99.9'}</td>\n",
       "      <td>POINT (-99.9 16.88333)</td>\n",
       "    </tr>\n",
       "    <tr>\n",
       "      <th>4</th>\n",
       "      <td>Achiras</td>\n",
       "      <td>370</td>\n",
       "      <td>Valid</td>\n",
       "      <td>L6</td>\n",
       "      <td>780.0</td>\n",
       "      <td>Fell</td>\n",
       "      <td>1902-01-01</td>\n",
       "      <td>-33.16667</td>\n",
       "      <td>-64.95000</td>\n",
       "      <td>{'latitude': '-33.16667', 'longitude': '-64.95'}</td>\n",
       "      <td>POINT (-64.95 -33.16667)</td>\n",
       "    </tr>\n",
       "  </tbody>\n",
       "</table>\n",
       "</div>"
      ],
      "text/plain": [
       "       name   id nametype     recclass  mass (g)  fall       year    reclat  \\\n",
       "0    Aachen    1    Valid           L5      21.0  Fell 1880-01-01  50.77500   \n",
       "1    Aarhus    2    Valid           H6     720.0  Fell 1951-01-01  56.18333   \n",
       "2      Abee    6    Valid          EH4  107000.0  Fell 1952-01-01  54.21667   \n",
       "3  Acapulco   10    Valid  Acapulcoite    1914.0  Fell 1976-01-01  16.88333   \n",
       "4   Achiras  370    Valid           L6     780.0  Fell 1902-01-01 -33.16667   \n",
       "\n",
       "     reclong                                        geolocation  \\\n",
       "0    6.08333     {'latitude': '50.775', 'longitude': '6.08333'}   \n",
       "1   10.23333  {'latitude': '56.18333', 'longitude': '10.23333'}   \n",
       "2 -113.00000    {'latitude': '54.21667', 'longitude': '-113.0'}   \n",
       "3  -99.90000     {'latitude': '16.88333', 'longitude': '-99.9'}   \n",
       "4  -64.95000   {'latitude': '-33.16667', 'longitude': '-64.95'}   \n",
       "\n",
       "                    geometry  \n",
       "0     POINT (6.08333 50.775)  \n",
       "1  POINT (10.23333 56.18333)  \n",
       "2      POINT (-113 54.21667)  \n",
       "3     POINT (-99.9 16.88333)  \n",
       "4   POINT (-64.95 -33.16667)  "
      ]
     },
     "execution_count": 26,
     "metadata": {},
     "output_type": "execute_result"
    }
   ],
   "source": [
    "meteorite.head()"
   ]
  },
  {
   "cell_type": "code",
   "execution_count": 27,
   "id": "1aaaf433",
   "metadata": {
    "scrolled": true
   },
   "outputs": [
    {
     "data": {
      "text/plain": [
       "name              0\n",
       "id                0\n",
       "nametype          0\n",
       "recclass          0\n",
       "mass (g)        131\n",
       "fall              0\n",
       "year            312\n",
       "reclat         7315\n",
       "reclong        7315\n",
       "geolocation    7315\n",
       "geometry          0\n",
       "dtype: int64"
      ]
     },
     "execution_count": 27,
     "metadata": {},
     "output_type": "execute_result"
    }
   ],
   "source": [
    "meteorite.isnull().sum()"
   ]
  },
  {
   "cell_type": "markdown",
   "id": "8c1e430f",
   "metadata": {},
   "source": [
    "- **Split data into three parts for future analysis in SQL**"
   ]
  },
  {
   "cell_type": "code",
   "execution_count": 31,
   "id": "9bc34794",
   "metadata": {},
   "outputs": [],
   "source": [
    "meteorite_info = meteorite[['id', 'name', 'nametype', 'recclass', 'fall']]"
   ]
  },
  {
   "cell_type": "code",
   "execution_count": 32,
   "id": "94a3b86c",
   "metadata": {},
   "outputs": [
    {
     "data": {
      "text/html": [
       "<div>\n",
       "<style scoped>\n",
       "    .dataframe tbody tr th:only-of-type {\n",
       "        vertical-align: middle;\n",
       "    }\n",
       "\n",
       "    .dataframe tbody tr th {\n",
       "        vertical-align: top;\n",
       "    }\n",
       "\n",
       "    .dataframe thead th {\n",
       "        text-align: right;\n",
       "    }\n",
       "</style>\n",
       "<table border=\"1\" class=\"dataframe\">\n",
       "  <thead>\n",
       "    <tr style=\"text-align: right;\">\n",
       "      <th></th>\n",
       "      <th>id</th>\n",
       "      <th>name</th>\n",
       "      <th>nametype</th>\n",
       "      <th>recclass</th>\n",
       "      <th>fall</th>\n",
       "    </tr>\n",
       "  </thead>\n",
       "  <tbody>\n",
       "    <tr>\n",
       "      <th>0</th>\n",
       "      <td>1</td>\n",
       "      <td>Aachen</td>\n",
       "      <td>Valid</td>\n",
       "      <td>L5</td>\n",
       "      <td>Fell</td>\n",
       "    </tr>\n",
       "    <tr>\n",
       "      <th>1</th>\n",
       "      <td>2</td>\n",
       "      <td>Aarhus</td>\n",
       "      <td>Valid</td>\n",
       "      <td>H6</td>\n",
       "      <td>Fell</td>\n",
       "    </tr>\n",
       "    <tr>\n",
       "      <th>2</th>\n",
       "      <td>6</td>\n",
       "      <td>Abee</td>\n",
       "      <td>Valid</td>\n",
       "      <td>EH4</td>\n",
       "      <td>Fell</td>\n",
       "    </tr>\n",
       "    <tr>\n",
       "      <th>3</th>\n",
       "      <td>10</td>\n",
       "      <td>Acapulco</td>\n",
       "      <td>Valid</td>\n",
       "      <td>Acapulcoite</td>\n",
       "      <td>Fell</td>\n",
       "    </tr>\n",
       "    <tr>\n",
       "      <th>4</th>\n",
       "      <td>370</td>\n",
       "      <td>Achiras</td>\n",
       "      <td>Valid</td>\n",
       "      <td>L6</td>\n",
       "      <td>Fell</td>\n",
       "    </tr>\n",
       "  </tbody>\n",
       "</table>\n",
       "</div>"
      ],
      "text/plain": [
       "    id      name nametype     recclass  fall\n",
       "0    1    Aachen    Valid           L5  Fell\n",
       "1    2    Aarhus    Valid           H6  Fell\n",
       "2    6      Abee    Valid          EH4  Fell\n",
       "3   10  Acapulco    Valid  Acapulcoite  Fell\n",
       "4  370   Achiras    Valid           L6  Fell"
      ]
     },
     "execution_count": 32,
     "metadata": {},
     "output_type": "execute_result"
    }
   ],
   "source": [
    "meteorite_info.head()"
   ]
  },
  {
   "cell_type": "code",
   "execution_count": 33,
   "id": "784d5b5e",
   "metadata": {},
   "outputs": [],
   "source": [
    "#meteorite_info.to_excel('Landing meteorite information.xlsx', header=True)"
   ]
  },
  {
   "cell_type": "code",
   "execution_count": 34,
   "id": "22295fad",
   "metadata": {},
   "outputs": [],
   "source": [
    "meteorite_mass = meteorite[['id', 'recclass', 'mass (g)']]"
   ]
  },
  {
   "cell_type": "code",
   "execution_count": 35,
   "id": "d70df957",
   "metadata": {},
   "outputs": [
    {
     "data": {
      "text/html": [
       "<div>\n",
       "<style scoped>\n",
       "    .dataframe tbody tr th:only-of-type {\n",
       "        vertical-align: middle;\n",
       "    }\n",
       "\n",
       "    .dataframe tbody tr th {\n",
       "        vertical-align: top;\n",
       "    }\n",
       "\n",
       "    .dataframe thead th {\n",
       "        text-align: right;\n",
       "    }\n",
       "</style>\n",
       "<table border=\"1\" class=\"dataframe\">\n",
       "  <thead>\n",
       "    <tr style=\"text-align: right;\">\n",
       "      <th></th>\n",
       "      <th>id</th>\n",
       "      <th>recclass</th>\n",
       "      <th>mass (g)</th>\n",
       "    </tr>\n",
       "  </thead>\n",
       "  <tbody>\n",
       "    <tr>\n",
       "      <th>0</th>\n",
       "      <td>1</td>\n",
       "      <td>L5</td>\n",
       "      <td>21.0</td>\n",
       "    </tr>\n",
       "    <tr>\n",
       "      <th>1</th>\n",
       "      <td>2</td>\n",
       "      <td>H6</td>\n",
       "      <td>720.0</td>\n",
       "    </tr>\n",
       "    <tr>\n",
       "      <th>2</th>\n",
       "      <td>6</td>\n",
       "      <td>EH4</td>\n",
       "      <td>107000.0</td>\n",
       "    </tr>\n",
       "    <tr>\n",
       "      <th>3</th>\n",
       "      <td>10</td>\n",
       "      <td>Acapulcoite</td>\n",
       "      <td>1914.0</td>\n",
       "    </tr>\n",
       "    <tr>\n",
       "      <th>4</th>\n",
       "      <td>370</td>\n",
       "      <td>L6</td>\n",
       "      <td>780.0</td>\n",
       "    </tr>\n",
       "  </tbody>\n",
       "</table>\n",
       "</div>"
      ],
      "text/plain": [
       "    id     recclass  mass (g)\n",
       "0    1           L5      21.0\n",
       "1    2           H6     720.0\n",
       "2    6          EH4  107000.0\n",
       "3   10  Acapulcoite    1914.0\n",
       "4  370           L6     780.0"
      ]
     },
     "execution_count": 35,
     "metadata": {},
     "output_type": "execute_result"
    }
   ],
   "source": [
    "meteorite_mass.head()"
   ]
  },
  {
   "cell_type": "code",
   "execution_count": 36,
   "id": "74d3ff69",
   "metadata": {},
   "outputs": [],
   "source": [
    "#meteorite_mass.to_excel('Landing meteorite mass.xlsx', header=True)"
   ]
  },
  {
   "cell_type": "code",
   "execution_count": 37,
   "id": "ffda2176",
   "metadata": {},
   "outputs": [],
   "source": [
    "meteorite_landing = meteorite[['id', 'name', 'year', 'reclat', 'reclong', 'geometry']]"
   ]
  },
  {
   "cell_type": "code",
   "execution_count": 38,
   "id": "ce2b0d86",
   "metadata": {},
   "outputs": [
    {
     "data": {
      "text/html": [
       "<div>\n",
       "<style scoped>\n",
       "    .dataframe tbody tr th:only-of-type {\n",
       "        vertical-align: middle;\n",
       "    }\n",
       "\n",
       "    .dataframe tbody tr th {\n",
       "        vertical-align: top;\n",
       "    }\n",
       "\n",
       "    .dataframe thead th {\n",
       "        text-align: right;\n",
       "    }\n",
       "</style>\n",
       "<table border=\"1\" class=\"dataframe\">\n",
       "  <thead>\n",
       "    <tr style=\"text-align: right;\">\n",
       "      <th></th>\n",
       "      <th>id</th>\n",
       "      <th>name</th>\n",
       "      <th>year</th>\n",
       "      <th>reclat</th>\n",
       "      <th>reclong</th>\n",
       "      <th>geometry</th>\n",
       "    </tr>\n",
       "  </thead>\n",
       "  <tbody>\n",
       "    <tr>\n",
       "      <th>0</th>\n",
       "      <td>1</td>\n",
       "      <td>Aachen</td>\n",
       "      <td>1880-01-01</td>\n",
       "      <td>50.77500</td>\n",
       "      <td>6.08333</td>\n",
       "      <td>POINT (6.08333 50.775)</td>\n",
       "    </tr>\n",
       "    <tr>\n",
       "      <th>1</th>\n",
       "      <td>2</td>\n",
       "      <td>Aarhus</td>\n",
       "      <td>1951-01-01</td>\n",
       "      <td>56.18333</td>\n",
       "      <td>10.23333</td>\n",
       "      <td>POINT (10.23333 56.18333)</td>\n",
       "    </tr>\n",
       "    <tr>\n",
       "      <th>2</th>\n",
       "      <td>6</td>\n",
       "      <td>Abee</td>\n",
       "      <td>1952-01-01</td>\n",
       "      <td>54.21667</td>\n",
       "      <td>-113.00000</td>\n",
       "      <td>POINT (-113 54.21667)</td>\n",
       "    </tr>\n",
       "    <tr>\n",
       "      <th>3</th>\n",
       "      <td>10</td>\n",
       "      <td>Acapulco</td>\n",
       "      <td>1976-01-01</td>\n",
       "      <td>16.88333</td>\n",
       "      <td>-99.90000</td>\n",
       "      <td>POINT (-99.9 16.88333)</td>\n",
       "    </tr>\n",
       "    <tr>\n",
       "      <th>4</th>\n",
       "      <td>370</td>\n",
       "      <td>Achiras</td>\n",
       "      <td>1902-01-01</td>\n",
       "      <td>-33.16667</td>\n",
       "      <td>-64.95000</td>\n",
       "      <td>POINT (-64.95 -33.16667)</td>\n",
       "    </tr>\n",
       "  </tbody>\n",
       "</table>\n",
       "</div>"
      ],
      "text/plain": [
       "    id      name       year    reclat    reclong                   geometry\n",
       "0    1    Aachen 1880-01-01  50.77500    6.08333     POINT (6.08333 50.775)\n",
       "1    2    Aarhus 1951-01-01  56.18333   10.23333  POINT (10.23333 56.18333)\n",
       "2    6      Abee 1952-01-01  54.21667 -113.00000      POINT (-113 54.21667)\n",
       "3   10  Acapulco 1976-01-01  16.88333  -99.90000     POINT (-99.9 16.88333)\n",
       "4  370   Achiras 1902-01-01 -33.16667  -64.95000   POINT (-64.95 -33.16667)"
      ]
     },
     "execution_count": 38,
     "metadata": {},
     "output_type": "execute_result"
    }
   ],
   "source": [
    "meteorite_landing.head()"
   ]
  },
  {
   "cell_type": "code",
   "execution_count": 39,
   "id": "80425d15",
   "metadata": {},
   "outputs": [],
   "source": [
    "#meteorite_landing.to_excel('Landing meteorite time and location.xlsx', header=True)"
   ]
  },
  {
   "cell_type": "code",
   "execution_count": null,
   "id": "77e301e1",
   "metadata": {},
   "outputs": [],
   "source": [
    "#meteorite.dropna(inplace=True)"
   ]
  },
  {
   "cell_type": "markdown",
   "id": "98b6dc8b",
   "metadata": {},
   "source": [
    "- **remove latitude and longtitude that are zero**"
   ]
  },
  {
   "cell_type": "code",
   "execution_count": null,
   "id": "e5c1409b",
   "metadata": {},
   "outputs": [],
   "source": [
    "# unique_reclat_values = df['reclat'].unique()\n",
    "\n",
    "# # Check if 0 is in the unique values\n",
    "# if 0 in unique_reclat_values:\n",
    "#     print(\"The value 0 is present in the 'reclat' column.\")\n",
    "# else:\n",
    "#     print(\"The value 0 is not present in the 'reclat' column.\")\n",
    "\n",
    "# df = df[(df['reclat'] != 0) & (df['reclong'] != 0)]"
   ]
  },
  {
   "cell_type": "markdown",
   "id": "a3ccb08a",
   "metadata": {},
   "source": [
    "### Generate country information that can be imported into SQL Server"
   ]
  },
  {
   "cell_type": "code",
   "execution_count": null,
   "id": "41a43e9f",
   "metadata": {},
   "outputs": [],
   "source": [
    "#pip install pandas-geojson"
   ]
  },
  {
   "cell_type": "code",
   "execution_count": null,
   "id": "e8787ccc",
   "metadata": {},
   "outputs": [],
   "source": [
    "import pandas_geojson as pdg"
   ]
  },
  {
   "cell_type": "code",
   "execution_count": null,
   "id": "8e3ca060",
   "metadata": {},
   "outputs": [],
   "source": [
    "geo = pdg.read_geojson('world-administrative-boundaries.geojson')"
   ]
  },
  {
   "cell_type": "code",
   "execution_count": null,
   "id": "7d051752",
   "metadata": {},
   "outputs": [],
   "source": [
    "geo_df = geo.to_dataframe()"
   ]
  },
  {
   "cell_type": "code",
   "execution_count": null,
   "id": "c6a7e413",
   "metadata": {
    "scrolled": true
   },
   "outputs": [],
   "source": [
    "geo_df.head()"
   ]
  },
  {
   "cell_type": "code",
   "execution_count": null,
   "id": "8d142976",
   "metadata": {},
   "outputs": [],
   "source": [
    "geo_df['geometry.coordinates'][6]"
   ]
  },
  {
   "cell_type": "code",
   "execution_count": null,
   "id": "5958c6fb",
   "metadata": {},
   "outputs": [],
   "source": [
    "geo_df['geometry.type'].unique()"
   ]
  },
  {
   "cell_type": "code",
   "execution_count": null,
   "id": "999a018a",
   "metadata": {},
   "outputs": [],
   "source": [
    "country = pdg.read_geojson('Longitude_Graticules_and_World_Countries_Boundaries.geojson')"
   ]
  },
  {
   "cell_type": "code",
   "execution_count": null,
   "id": "d37d3ebc",
   "metadata": {},
   "outputs": [],
   "source": [
    "country_df = country.to_dataframe()"
   ]
  },
  {
   "cell_type": "code",
   "execution_count": null,
   "id": "9ce09cfc",
   "metadata": {},
   "outputs": [],
   "source": [
    "country_df.head()"
   ]
  },
  {
   "cell_type": "code",
   "execution_count": null,
   "id": "d3f65d09",
   "metadata": {},
   "outputs": [],
   "source": [
    "country_df.to_csv('country.csv', header=True)"
   ]
  },
  {
   "cell_type": "code",
   "execution_count": null,
   "id": "a338dfea",
   "metadata": {},
   "outputs": [],
   "source": [
    "from osgeo import ogr\n",
    "import csv"
   ]
  },
  {
   "cell_type": "code",
   "execution_count": null,
   "id": "f4f08c71",
   "metadata": {},
   "outputs": [],
   "source": [
    "# Open GeoJSON file\n",
    "geojson_ds = ogr.Open('world-administrative-boundaries.geojson')\n",
    "if geojson_ds is None:\n",
    "    print(\"Could not open input GeoJSON file\")\n",
    "    exit(1)\n",
    "\n",
    "# Get the first layer in the GeoJSON file\n",
    "layer = geojson_ds.GetLayer(0)\n",
    "\n",
    "# Create a WKT file for output\n",
    "wkt_file = open('country.wkt', 'w')\n",
    "\n",
    "# Iterate through features and convert geometries to WKT\n",
    "for feature in layer:\n",
    "    geom = feature.GetGeometryRef()\n",
    "    wkt_geometry = geom.ExportToWkt()\n",
    "    wkt_file.write(wkt_geometry + '\\n')\n",
    "\n",
    "# Close the WKT file and GeoJSON dataset\n",
    "wkt_file.close()\n",
    "geojson_ds = None"
   ]
  },
  {
   "cell_type": "code",
   "execution_count": null,
   "id": "f1f49347",
   "metadata": {},
   "outputs": [],
   "source": [
    "# Open GeoJSON file\n",
    "geojson_ds = ogr.Open('world-administrative-boundaries.geojson')\n",
    "if geojson_ds is None:\n",
    "    print(\"Could not open input GeoJSON file\")\n",
    "    exit(1)\n",
    "\n",
    "# Get the first layer in the GeoJSON file\n",
    "layer = geojson_ds.GetLayer(0)\n",
    "\n",
    "# Open a CSV file for writing\n",
    "with open('world_country.csv', 'w', newline='') as csvfile:\n",
    "    fieldnames = ['continent', 'region', 'name', 'id', 'WKT']\n",
    "    writer = csv.DictWriter(csvfile, fieldnames=fieldnames)\n",
    "\n",
    "    # Write CSV header\n",
    "    writer.writeheader()\n",
    "\n",
    "    # Iterate through features and convert geometries to WKT\n",
    "    for feature in layer:\n",
    "        continent = feature.GetField('continent')\n",
    "        region = feature.GetField('region')\n",
    "        name = feature.GetField('name')  # Change 'Name' to the actual field name\n",
    "        id = feature.GetField('color_code')  # Change 'Description' to the actual field name\n",
    "        geom = feature.GetGeometryRef()\n",
    "        wkt_geometry = geom.ExportToWkt()\n",
    "\n",
    "        # Write feature information to CSV\n",
    "        writer.writerow({'continent': continent, 'region' : region,\n",
    "                         'name': name, 'id': id, 'WKT': wkt_geometry})\n",
    "\n",
    "# Close the GeoJSON dataset\n",
    "geojson_ds = None"
   ]
  },
  {
   "cell_type": "code",
   "execution_count": null,
   "id": "a9278a21",
   "metadata": {},
   "outputs": [],
   "source": [
    "# Open GeoJSON file\n",
    "geojson_ds = ogr.Open('Longitude_Graticules_and_World_Countries_Boundaries.geojson')\n",
    "if geojson_ds is None:\n",
    "    print(\"Could not open input GeoJSON file\")\n",
    "    exit(1)\n",
    "\n",
    "# Get the first layer in the GeoJSON file\n",
    "layer = geojson_ds.GetLayer(0)\n",
    "\n",
    "# Open a CSV file for writing\n",
    "with open('world_country_nonadminstrative.csv', 'w', newline='') as csvfile:\n",
    "    fieldnames = ['country', 'coordinates']\n",
    "    writer = csv.DictWriter(csvfile, fieldnames=fieldnames)\n",
    "\n",
    "    # Write CSV header\n",
    "    writer.writeheader()\n",
    "\n",
    "    # Iterate through features and convert geometries to WKT\n",
    "    for feature in layer:\n",
    "        country = feature.GetField('CNTRY_NAME')\n",
    "        geom = feature.GetGeometryRef()\n",
    "        wkt_geometry = geom.ExportToWkt()\n",
    "\n",
    "        # Write feature information to CSV\n",
    "        writer.writerow({'country': country, 'coordinates': wkt_geometry})\n",
    "\n",
    "# Close the GeoJSON dataset\n",
    "geojson_ds = None"
   ]
  },
  {
   "cell_type": "markdown",
   "id": "4f09d1f9",
   "metadata": {},
   "source": [
    "### an alternative way of getting country info"
   ]
  },
  {
   "cell_type": "code",
   "execution_count": 43,
   "id": "bc93c17b",
   "metadata": {},
   "outputs": [
    {
     "name": "stdout",
     "output_type": "stream",
     "text": [
      "Collecting reverse_geocoderNote: you may need to restart the kernel to use updated packages.\n",
      "\n",
      "  Downloading reverse_geocoder-1.5.1.tar.gz (2.2 MB)\n",
      "Collecting pycountry\n",
      "  Downloading pycountry-24.6.1-py3-none-any.whl (6.3 MB)\n",
      "Requirement already satisfied: numpy>=1.11.0 in c:\\users\\aaa\\anaconda3\\lib\\site-packages (from reverse_geocoder) (1.21.5)\n",
      "Requirement already satisfied: scipy>=0.17.1 in c:\\users\\aaa\\anaconda3\\lib\\site-packages (from reverse_geocoder) (1.9.3)\n",
      "Building wheels for collected packages: reverse-geocoder\n",
      "  Building wheel for reverse-geocoder (setup.py): started\n",
      "  Building wheel for reverse-geocoder (setup.py): finished with status 'done'\n",
      "  Created wheel for reverse-geocoder: filename=reverse_geocoder-1.5.1-py3-none-any.whl size=2268088 sha256=890c0f1cedd063da07739224a2960c7bcb4d442a1392db4b2aa462a6bccc1663\n",
      "  Stored in directory: c:\\users\\aaa\\appdata\\local\\pip\\cache\\wheels\\10\\05\\be\\d2edd4ff207cf625ce8bd20cf1493c27838828e8920aff9f4e\n",
      "Successfully built reverse-geocoder\n",
      "Installing collected packages: reverse-geocoder, pycountry\n",
      "Successfully installed pycountry-24.6.1 reverse-geocoder-1.5.1\n"
     ]
    }
   ],
   "source": [
    "#pip install reverse_geocoder pycountry"
   ]
  },
  {
   "cell_type": "code",
   "execution_count": null,
   "id": "45048b75",
   "metadata": {},
   "outputs": [
    {
     "name": "stdout",
     "output_type": "stream",
     "text": [
      "Loading formatted geocoded file...\n"
     ]
    }
   ],
   "source": [
    "import pandas as pd\n",
    "import reverse_geocoder as rg\n",
    "import pycountry\n",
    "\n",
    "def get_country(lat, lon):\n",
    "    try:\n",
    "        results = rg.search((lat, lon))\n",
    "        if results:\n",
    "            country_code = results[0]['cc']\n",
    "            return country_code\n",
    "        return 'Unknown'\n",
    "    except Exception as e:\n",
    "        return 'Unknown'\n",
    "\n",
    "def code_to_country_name(code):\n",
    "    try:\n",
    "        country = pycountry.countries.get(alpha_2=code)\n",
    "        if country:\n",
    "            return country.name\n",
    "        return 'Unknown'\n",
    "    except Exception:\n",
    "        return 'Unknown'\n",
    "\n",
    "# Convert coordinates to country names\n",
    "meteorite_landing['country'] = meteorite_landing.apply(lambda row: \n",
    "                                                       code_to_country_name(get_country(row['reclat'], row['reclong'])),\n",
    "                                                       axis=1)"
   ]
  },
  {
   "cell_type": "code",
   "execution_count": null,
   "id": "8d303035",
   "metadata": {
    "scrolled": true
   },
   "outputs": [],
   "source": [
    "# from geopy.geocoders import Nominatim\n",
    "# import time\n",
    "\n",
    "# # Initialize Nominatim geocoder\n",
    "# locator = Nominatim(user_agent=\"openmapquest\", timeout=10)\n",
    "\n",
    "# def get_country_from_coordinates(lat, long):\n",
    "#     retries = 3\n",
    "#     for _ in range(retries):\n",
    "#         try:\n",
    "#             location = locator.reverse((lat, long), exactly_one=True)\n",
    "#             if location:\n",
    "#                 address = location.raw['address']\n",
    "#                 country = address.get('country', '')\n",
    "#                 return country\n",
    "#         except Exception as e:\n",
    "#             print(f\"Error: {e}\")\n",
    "#             time.sleep(1)  # Wait for 1 second before retrying\n",
    "#     return None\n",
    "\n",
    "\n",
    "# # Apply the function to your dataframe\n",
    "# df[\"country\"] = df.apply(lambda row: get_country_from_coordinates(row[\"reclat\"], row[\"reclong\"]), axis=1)"
   ]
  },
  {
   "cell_type": "code",
   "execution_count": 40,
   "id": "e7109651",
   "metadata": {},
   "outputs": [],
   "source": [
    "from geopy.geocoders import Nominatim\n",
    "from geopy.exc import GeocoderTimedOut\n",
    "\n",
    "def get_country_name(latitude, longitude):\n",
    "    try:\n",
    "        # Initialize Nominatim geocoder\n",
    "        geolocator = Nominatim(user_agent=\"my_geocoder\")\n",
    "\n",
    "        # Reverse geocode the coordinates to get location information\n",
    "        location = geolocator.reverse((latitude, longitude), language='en', exactly_one=True)\n",
    "\n",
    "        # Check if location is not None\n",
    "        if location:\n",
    "            # Extract country name from the location information\n",
    "            country = location.raw['address'].get('country')\n",
    "            return country\n",
    "        else:\n",
    "            return None\n",
    "    except GeocoderTimedOut:\n",
    "        return None"
   ]
  },
  {
   "cell_type": "code",
   "execution_count": null,
   "id": "fdd1d4ef",
   "metadata": {},
   "outputs": [],
   "source": [
    "from shapely.wkb import loads\n",
    "from pyproj import Transformer\n",
    "\n",
    "# Convert hexadecimal WKB to binary\n",
    "hex_string = \"0xE6100000010C1630815B77174C40F3599E0777772440\"\n",
    "binary_data = bytes.fromhex(hex_string[2:])  # remove the '0x' prefix and convert to binary\n",
    "\n",
    "# Parse WKB into a geometry object\n",
    "geometry = loads(binary_data)\n",
    "\n",
    "# Define the transformer to convert from the original CRS to EPSG 4326\n",
    "transformer = Transformer.from_crs(geometry.crs, \"epsg:4326\")\n",
    "\n",
    "# Transform the geometry to EPSG 4326 coordinates\n",
    "geometry_4326 = geometry.to_crs(transformer)\n",
    "\n",
    "# Now you can access the coordinates of the transformed geometry\n",
    "coordinates_4326 = geometry_4326.xy\n",
    "print(coordinates_4326)"
   ]
  },
  {
   "cell_type": "code",
   "execution_count": null,
   "id": "8c1e5589",
   "metadata": {},
   "outputs": [],
   "source": []
  }
 ],
 "metadata": {
  "kernelspec": {
   "display_name": "Python 3 (ipykernel)",
   "language": "python",
   "name": "python3"
  },
  "language_info": {
   "codemirror_mode": {
    "name": "ipython",
    "version": 3
   },
   "file_extension": ".py",
   "mimetype": "text/x-python",
   "name": "python",
   "nbconvert_exporter": "python",
   "pygments_lexer": "ipython3",
   "version": "3.9.12"
  }
 },
 "nbformat": 4,
 "nbformat_minor": 5
}
